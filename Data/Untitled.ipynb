{
 "cells": [
  {
   "cell_type": "code",
   "execution_count": 1,
   "metadata": {
    "collapsed": true
   },
   "outputs": [],
   "source": [
    "# usual imports\n",
    "import numpy as np\n",
    "import matplotlib.pyplot as plt\n",
    "import pandas as pd\n",
    "\n",
    "\n",
    "%matplotlib notebook\n",
    "\n",
    "from sklearn.cross_validation import train_test_split\n",
    "\n",
    "# Each is a different implemntation of a text transform tool: Bag of Words & Tfidf\n",
    "from sklearn.feature_extraction.text import CountVectorizer,TfidfVectorizer"
   ]
  },
  {
   "cell_type": "markdown",
   "metadata": {},
   "source": [
    "#### read yelp_labelled data and split it using \\n and \\t"
   ]
  },
  {
   "cell_type": "code",
   "execution_count": 2,
   "metadata": {
    "collapsed": true
   },
   "outputs": [],
   "source": [
    "rows = []\n",
    "with open('/Users/hamed/Desktop/SF-DAT-20/SF-DAT-20/Data/yelp_labelled.txt') as f:\n",
    "    for i,line in enumerate(f.readlines()):\n",
    "        row = (line.split('\\n')[0]).split('\\t')\n",
    "        if row[1] == '':\n",
    "            row[1] = np.nan\n",
    "        else:\n",
    "            row[1] = int(row[1])\n",
    "        rows.append(row)"
   ]
  },
  {
   "cell_type": "markdown",
   "metadata": {},
   "source": [
    "#### Put your yelp data into a dataframe and drop na values."
   ]
  },
  {
   "cell_type": "code",
   "execution_count": null,
   "metadata": {
    "collapsed": true
   },
   "outputs": [],
   "source": [
    "Yelp_data = pd.DataFrame(rows,columns=['text','sentiment'])\n",
    "Yelp_data.dropna(inplace = True)\n",
    "Yelp_data.head()"
   ]
  },
  {
   "cell_type": "code",
   "execution_count": 4,
   "metadata": {
    "collapsed": false
   },
   "outputs": [
    {
     "data": {
      "text/html": [
       "<div>\n",
       "<table border=\"1\" class=\"dataframe\">\n",
       "  <thead>\n",
       "    <tr style=\"text-align: right;\">\n",
       "      <th></th>\n",
       "      <th>sentiment</th>\n",
       "    </tr>\n",
       "  </thead>\n",
       "  <tbody>\n",
       "    <tr>\n",
       "      <th>count</th>\n",
       "      <td>1000.00000</td>\n",
       "    </tr>\n",
       "    <tr>\n",
       "      <th>mean</th>\n",
       "      <td>0.50000</td>\n",
       "    </tr>\n",
       "    <tr>\n",
       "      <th>std</th>\n",
       "      <td>0.50025</td>\n",
       "    </tr>\n",
       "    <tr>\n",
       "      <th>min</th>\n",
       "      <td>0.00000</td>\n",
       "    </tr>\n",
       "    <tr>\n",
       "      <th>25%</th>\n",
       "      <td>0.00000</td>\n",
       "    </tr>\n",
       "    <tr>\n",
       "      <th>50%</th>\n",
       "      <td>0.50000</td>\n",
       "    </tr>\n",
       "    <tr>\n",
       "      <th>75%</th>\n",
       "      <td>1.00000</td>\n",
       "    </tr>\n",
       "    <tr>\n",
       "      <th>max</th>\n",
       "      <td>1.00000</td>\n",
       "    </tr>\n",
       "  </tbody>\n",
       "</table>\n",
       "</div>"
      ],
      "text/plain": [
       "        sentiment\n",
       "count  1000.00000\n",
       "mean      0.50000\n",
       "std       0.50025\n",
       "min       0.00000\n",
       "25%       0.00000\n",
       "50%       0.50000\n",
       "75%       1.00000\n",
       "max       1.00000"
      ]
     },
     "execution_count": 4,
     "metadata": {},
     "output_type": "execute_result"
    }
   ],
   "source": [
    "Yelp_data.describe()"
   ]
  },
  {
   "cell_type": "markdown",
   "metadata": {},
   "source": [
    "#### Using Pipeline, RandomForestClasifier, and GridSearchCV, play with min_df and max_df on your yelp data. Split your data to test and training. You can use either of CountVetorizer or TfidfVectorizer"
   ]
  },
  {
   "cell_type": "code",
   "execution_count": 5,
   "metadata": {
    "collapsed": true
   },
   "outputs": [],
   "source": [
    "from sklearn.pipeline import Pipeline\n",
    "from sklearn.ensemble import RandomForestClassifier\n",
    "from sklearn.grid_search import GridSearchCV"
   ]
  },
  {
   "cell_type": "code",
   "execution_count": 7,
   "metadata": {
    "collapsed": false
   },
   "outputs": [],
   "source": [
    "from sklearn.cross_validation import train_test_split\n",
    "from sklearn.metrics import classification_report\n",
    "# Resetting our data\n",
    "X_train,X_test,y_train,y_test = train_test_split(Yelp_data['text'],Yelp_data['sentiment'],test_size=0.2)"
   ]
  },
  {
   "cell_type": "code",
   "execution_count": 8,
   "metadata": {
    "collapsed": true
   },
   "outputs": [],
   "source": [
    "text_clf = Pipeline([('vect', CountVectorizer()),\n",
    "                     ('clf', RandomForestClassifier())])"
   ]
  },
  {
   "cell_type": "code",
   "execution_count": 9,
   "metadata": {
    "collapsed": true
   },
   "outputs": [],
   "source": [
    "parameters = {'vect__min_df':[1,2,3],\n",
    "              'vect__max_df':[5,10,100,200,500,1000],\n",
    "              'clf__n_estimators':[1000]}\n",
    "\n",
    "gs_clf = GridSearchCV(text_clf, parameters, n_jobs=1)"
   ]
  },
  {
   "cell_type": "code",
   "execution_count": 10,
   "metadata": {
    "collapsed": true
   },
   "outputs": [],
   "source": [
    "fit_grid = gs_clf.fit(X_train,y_train)\n"
   ]
  },
  {
   "cell_type": "markdown",
   "metadata": {},
   "source": [
    "#### How much test error do you get based on the optimizer you found above?"
   ]
  },
  {
   "cell_type": "code",
   "execution_count": 11,
   "metadata": {
    "collapsed": false
   },
   "outputs": [
    {
     "data": {
      "text/plain": [
       "0.80000000000000004"
      ]
     },
     "execution_count": 11,
     "metadata": {},
     "output_type": "execute_result"
    }
   ],
   "source": [
    "fit_grid.score(X_test,y_test)"
   ]
  },
  {
   "cell_type": "markdown",
   "metadata": {},
   "source": [
    "#### Look over few X_test instances and compare the category predicted for the observation and the actual review sentence. "
   ]
  },
  {
   "cell_type": "code",
   "execution_count": 59,
   "metadata": {
    "collapsed": false
   },
   "outputs": [
    {
     "name": "stdout",
     "output_type": "stream",
     "text": [
      "0.0\n"
     ]
    },
    {
     "data": {
      "text/plain": [
       "'Worst service to boot, but that is the least of their worries.'"
      ]
     },
     "execution_count": 59,
     "metadata": {},
     "output_type": "execute_result"
    }
   ],
   "source": [
    "print(fit_grid.predict(X_test)[1])\n",
    "X_test.values[1]"
   ]
  },
  {
   "cell_type": "markdown",
   "metadata": {},
   "source": [
    "## Bonus Quetions: Can you find the test instances that are correctly classified and thos that are misclassified?"
   ]
  },
  {
   "cell_type": "code",
   "execution_count": 61,
   "metadata": {
    "collapsed": false
   },
   "outputs": [
    {
     "name": "stdout",
     "output_type": "stream",
     "text": [
      "The Greek dressing was very creamy and flavorful.\n",
      "I would avoid this place if you are staying in the Mirage.\n",
      "It'll be a regular stop on my trips to Phoenix!\n",
      "This place has a lot of promise but fails to deliver.\n",
      "The tables outside are also dirty a lot of the time and the workers are not always friendly and helpful with the menu.\n",
      "What I really like there is the crepe station.\n",
      "This place deserves one star and 90% has to do with the food.\n",
      "The Veggitarian platter is out of this world!\n",
      "Eclectic selection.\n",
      "I don't have very many words to say about this place, but it does everything pretty well.\n",
      "This place is disgusting!\n",
      "I don't know what kind it is but they have the best iced tea.\n",
      "- the food is rich so order accordingly.\n",
      "I was proven dead wrong by this sushi bar, not only because the quality is great, but the service is fast and the food, impeccable.\n",
      "This place is like Chipotle, but BETTER.\n",
      "Service is also cute.\n",
      "The wontons were thin, not thick and chewy, almost melt in your mouth.\n",
      "After one bite, I was hooked.\n",
      "Google mediocre and I imagine Smashburger will pop up.\n",
      "Insults, profound deuchebaggery, and had to go outside for a smoke break while serving just to solidify it.\n",
      "Never had anything to complain about here.\n",
      "High-quality chicken on the chicken Caesar salad.\n",
      "They know how to make them here.\n",
      "No complaints!\n",
      "It was just not a fun experience.\n",
      "Every time I eat here, I see caring teamwork to a professional degree.\n",
      "Hands down my favorite Italian restaurant!\n",
      "I really enjoyed eating here.\n",
      "Nice blanket of moz over top but i feel like this was done to cover up the subpar food.\n",
      "The deal included 5 tastings and 2 drinks, and Jeff went above and beyond what we expected.\n",
      "Food arrived quickly!\n",
      "The owner used to work at Nobu, so this place is really similar for half the price.\n",
      "I work in the hospitality industry in Paradise Valley and have refrained from recommending Cibo any longer.\n",
      "The steak and the shrimp are in my opinion the best entrees at GC.\n",
      "Restaurant is always full but never a wait.\n",
      "Food was so gooodd.\n",
      "Definitely a turn off for me & i doubt I'll be back unless someone else is buying.\n",
      "Service was very prompt.\n",
      "CONCLUSION: Very filling meals.\n",
      "This is an unbelievable BARGAIN!\n"
     ]
    },
    {
     "data": {
      "text/plain": [
       "'for p,t,i in zip(clf.predict(X_test),y_test.values,y_test.index):\\n    if p!=t:\\n        wrongs.append(i)\\n'"
      ]
     },
     "execution_count": 61,
     "metadata": {},
     "output_type": "execute_result"
    }
   ],
   "source": [
    "#Misclassified instances - hint: compare fit_grid.predict(X_test)[i] and y_test.values[i] \n",
    "count  = range(len(y_test))\n",
    "for i in count:\n",
    "    if fit_grid.predict(X_test)[i] != y_test.values[i]:\n",
    "        print (X_test.values[i])\n"
   ]
  },
  {
   "cell_type": "code",
   "execution_count": 62,
   "metadata": {
    "collapsed": false
   },
   "outputs": [
    {
     "name": "stdout",
     "output_type": "stream",
     "text": [
      "I have been in more than a few bars in Vegas, and do not ever recall being charged for tap water.\n",
      "Worst service to boot, but that is the least of their worries.\n",
      "Everything was good and tasty!\n",
      "Service is quick and even \"to go\" orders are just like we like it!\n",
      "The Wife hated her meal (coconut shrimp), and our friends really did not enjoy their meals, either.\n",
      "The server was very negligent of our needs and made us feel very unwelcome... I would not suggest this place!\n",
      "Probably not in a hurry to go back.\n",
      "If the food isn't bad enough for you, then enjoy dealing with the world's worst/annoying drunk people.\n",
      "I checked out this place a couple years ago and was not impressed.\n",
      "Despite how hard I rate businesses, its actually rare for me to give a 1 star.\n",
      "The service here leaves a lot to be desired.\n",
      "The food sucked, which we expected but it sucked more than we could have imagined.\n",
      "I hope this place sticks around.\n",
      "We waited an hour for what was a breakfast I could have done 100 times better at home.\n",
      "Must have been an off night at this place.\n",
      "Nicest Chinese restaurant I've been in a while.\n",
      "An excellent new restaurant by an experienced Frenchman.\n",
      "And the red curry had so much bamboo shoots and wasn't very tasty to me.\n",
      "All the bread is made in-house!\n",
      "The staff are great, the ambiance is great.\n",
      "This hole in the wall has great Mexican street tacos, and friendly staff.\n",
      "AVOID THIS ESTABLISHMENT!\n",
      "They also have the best cheese crisp in town.\n",
      "Went in for happy hour, great list of wines.\n",
      "Both of the egg rolls were fantastic.\n",
      "Ample portions and good prices.\n",
      "It is PERFECT for a sit-down family meal or get together with a few friends.\n",
      "Shrimp- When I unwrapped it (I live only 1/2 a mile from Brushfire) it was literally ice cold.\n",
      "The potato chip order was sad... I could probably count how many chips were in that box and it was probably around 12.\n",
      "The first time I ever came here I had an amazing experience, I still tell people how awesome the duck was.\n",
      "Not tasty and the texture was just nasty.\n",
      "I LOVED their mussels cooked in this wine reduction, the duck was tender, and their potato dishes were delicious.\n",
      "How awesome is that.\n",
      "The atmosphere was great with a lovely duo of violinists playing songs we requested.\n",
      "Very good, though!\n",
      "This is a great restaurant at the Mandalay Bay.\n",
      "The staff is super nice and very quick even with the crazy crowds of the downtown juries, lawyers, and court staff.\n",
      "The food was delicious, our bartender was attentive and personable AND we got a great deal!\n",
      "Won't go back.\n",
      "The sweet potato tots were good but the onion rings were perfection or as close as I have had.\n",
      "The best place to go for a tasty bowl of Pho!\n",
      "Similarly, the delivery man did not say a word of apology when our food was 45 minutes late.\n",
      "Also, I feel like the chips are bought, not made in house.\n",
      "The burger had absolutely no flavor - the meat itself was totally bland, the burger was overcooked and there was no charcoal flavor.\n",
      "i felt insulted and disrespected, how could you talk and judge another human being like that?\n",
      "Talk about great customer service of course we will be back.\n",
      "Favorite place in town for shawarrrrrrma!!!!!!\n",
      "Although I very much liked the look and sound of this place, the actual experience was a bit disappointing.\n",
      "In summary, this was a largely disappointing dining experience.\n",
      "2 times - Very Bad Customer Service !\n",
      "A greasy, unhealthy meal.\n",
      "Maybe it's just their Vegetarian fare, but I've been twice and I thought it was average at best.\n",
      "We were sat right on time and our server from the get go was FANTASTIC!\n",
      "Needless to say, we will never be back here again.\n",
      "What a mistake.\n",
      "Their daily specials are always a hit with my group.\n",
      "This place is way too overpriced for mediocre food.\n",
      "Best service and food ever, Maria our server was so good and friendly she made our day.\n",
      "Just don't know why they were so slow.\n",
      "I don't recommend unless your car breaks down in front of it and you are starving.\n",
      "He was extremely rude and really, there are so many other restaurants I would love to dine at during a weekend in Vegas.\n",
      "My friend did not like his Bloody Mary.\n",
      "It sure does beat the nachos at the movies but I would expect a little bit more coming from a restaurant.\n",
      "A good time!\n",
      "I love the owner/chef, his one authentic Japanese cool dude!\n",
      "Never been to Hard Rock Casino before, WILL NEVER EVER STEP FORWARD IN IT AGAIN!\n",
      "Mediocre food.\n",
      "Once your food arrives it's meh.\n",
      "Pretty awesome place.\n",
      "I probably would not go here again.\n",
      "Nice ambiance.\n",
      "When my mom and I got home she immediately got sick and she only had a few bites of salad.\n",
      "Come hungry, leave happy and stuffed!\n",
      "Total letdown, I would much rather just go to the Camelback Flower Shop and Cartel Coffee.\n",
      "You cant go wrong with any of the food here.\n",
      "Fantastic food!\n",
      "To my disbelief, each dish qualified as the worst version of these foods I have ever tasted.\n",
      "I love their fries and their beans.\n",
      "This wonderful experience made this place a must-stop whenever we are in town again.\n",
      "Anyways, The food was definitely not filling at all, and for the price you pay you should expect more.\n",
      "Sorry, I will not be getting food from here anytime soon :(\n",
      "Both great!\n",
      "The sergeant pepper beef sandwich with auju sauce is an excellent sandwich as well.\n",
      "We asked for the bill to leave without eating and they didn't bring that either.\n",
      "I hate those things as much as cheap quality black olives.\n",
      "If you stay in Vegas you must get breakfast here at least once.\n",
      "Spend your money elsewhere.\n",
      "We've tried to like this place but after 10+ times I think we're done with them.\n",
      "All in all, Ha Long Bay was a bit of a flop.\n",
      "I was mortified.\n",
      "However, there was so much garlic in the fondue, it was barely edible.\n",
      "I ordered the Voodoo pasta and it was the first time I'd had really excellent pasta since going gluten free several years ago.\n",
      "Their menu is diverse, and reasonably priced.\n",
      "I don't think I'll be running back to Carly's anytime soon for food.\n",
      "On the good side, the staff was genuinely pleasant and enthusiastic - a real treat.\n",
      "There is nothing authentic about this place.\n",
      "As for the service, I thought it was good.\n",
      "The fries were not hot, and neither was my burger.\n",
      "That just SCREAMS \"LEGIT\" in my book...somethat's also pretty rare here in Vegas.\n",
      "The sangria was about half of a glass wine full and was $12, ridiculous.\n",
      "I love the decor with the Chinese calligraphy wall paper.\n",
      "Not good for the money.\n",
      "Unfortunately, it only set us up for disapppointment with our entrees.\n",
      "They could serve it with just the vinaigrette and it may make for a better overall dish, but it was still very good.\n",
      "Just as good as when I had it more than a year ago!\n",
      "When my order arrived, one of the gyros was missing.\n",
      "At least think to refill my water before I struggle to wave you over for 10 minutes.\n",
      "I had the chicken Pho and it tasted very bland.\n",
      "The service was great, even the manager came and helped with our table.\n",
      "I vomited in the bathroom mid lunch.\n",
      "It lacked flavor, seemed undercooked, and dry.\n",
      "The chipolte ranch dipping sause was tasteless, seemed thin and watered down with no heat.\n",
      "At first glance it is a lovely bakery cafe - nice ambiance, clean, friendly staff.\n",
      "I will not be eating there again.\n",
      "* Both the Hot & Sour & the Egg Flower Soups were absolutely 5 Stars!\n",
      "I ordered the Lemon raspberry ice cocktail which was also incredible.\n",
      "We recently witnessed her poor quality of management towards other guests as well.\n",
      "The food was great as always, compliments to the chef.\n",
      "I can assure you that you won't be disappointed.\n",
      "Ordered burger rare came in we'll done.\n",
      "The refried beans that came with my meal were dried out and crusty and the food was bland.\n",
      "The seafood was fresh and generous in portion.\n",
      "Perfect for someone (me) who only likes beer ice cold, or in this case, even colder.\n",
      "And then tragedy struck.\n",
      "There was hardly any meat.\n",
      "My friend loved the salmon tartar.\n",
      "Bland... Not a liking this place for a number of reasons and I don't want to waste time on bad reviewing.. I'll leave it at that...\n",
      "After two I felt disgusting.\n",
      "My husband said she was very rude... did not even apologize for the bad food or anything.\n",
      "Food quality has been horrible.\n",
      "The selection on the menu was great and so were the prices.\n",
      "Those burgers were amazing.\n",
      "We loved the place.\n",
      "Needless to say, I won't be going back anytime soon.\n",
      "Good Service-check!\n",
      "The staff are also very friendly and efficient.\n",
      "We started with the tuna sashimi which was brownish in color and obviously wasn't fresh.\n",
      "Service was exceptional and food was a good as all the reviews.\n",
      "They have a good selection of food including a massive meatloaf sandwich, a crispy chicken wrap, a delish tuna melt and some tasty burgers.\n",
      "After 20 minutes wait, I got a table.\n",
      "The block was amazing.\n",
      "I had a seriously solid breakfast here.\n",
      "I can take a little bad service but the food sucks.\n",
      "Gave up trying to eat any of the crust (teeth still sore).\n",
      "The building itself seems pretty neat; the bathroom is pretty trippy, but I wouldn't eat here again.\n",
      "Great food and awesome service!\n",
      "Service is quick and friendly.\n",
      "Wonderful lil tapas and the ambience made me feel all warm and fuzzy inside.\n",
      "This is an Outstanding little restaurant with some of the Best Food I have ever tasted.\n",
      "I always order from the vegetarian menu during dinner, which has a wide array of options to choose from.\n",
      "The roast beef sandwich tasted really good!\n",
      "This place receives stars for their APPETIZERS!!!\n",
      "Also, the fries are without a doubt the worst fries I've ever had.\n",
      "I had a salad with the wings, and some ice cream for dessert and left feeling quite satisfied.\n",
      "The yellowtail carpaccio was melt in your mouth fresh.\n",
      "After the disappointing dinner we went elsewhere for dessert.\n",
      "Very poor service.\n",
      "It was packed!!\n",
      "A fantastic neighborhood gem !!!\n",
      "The chefs were friendly and did a good job.\n"
     ]
    }
   ],
   "source": [
    "#Correctly Classified instances - Hint: compare fit_grid.predict(X_test)[i] and y_test.values[i]\n",
    "\n",
    "count  = range(len(y_test))\n",
    "for i in count:\n",
    "    if fit_grid.predict(X_test)[i] == y_test.values[i]:\n",
    "        print (X_test.values[i])"
   ]
  },
  {
   "cell_type": "code",
   "execution_count": null,
   "metadata": {
    "collapsed": true
   },
   "outputs": [],
   "source": []
  }
 ],
 "metadata": {
  "kernelspec": {
   "display_name": "Python 2",
   "language": "python",
   "name": "python2"
  },
  "language_info": {
   "codemirror_mode": {
    "name": "ipython",
    "version": 2
   },
   "file_extension": ".py",
   "mimetype": "text/x-python",
   "name": "python",
   "nbconvert_exporter": "python",
   "pygments_lexer": "ipython2",
   "version": "2.7.11"
  }
 },
 "nbformat": 4,
 "nbformat_minor": 0
}
