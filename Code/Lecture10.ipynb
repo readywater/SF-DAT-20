{
 "cells": [
  {
   "cell_type": "code",
   "execution_count": 2,
   "metadata": {
    "collapsed": true
   },
   "outputs": [],
   "source": [
    "import pandas as pd\n",
    "import numpy as np\n"
   ]
  },
  {
   "cell_type": "code",
   "execution_count": 3,
   "metadata": {
    "collapsed": false
   },
   "outputs": [
    {
     "data": {
      "text/html": [
       "<div>\n",
       "<table border=\"1\" class=\"dataframe\">\n",
       "  <thead>\n",
       "    <tr style=\"text-align: right;\">\n",
       "      <th></th>\n",
       "      <th>word_freq_make</th>\n",
       "      <th>word_freq_address</th>\n",
       "      <th>word_freq_all</th>\n",
       "      <th>word_freq_3d</th>\n",
       "      <th>word_freq_our</th>\n",
       "      <th>word_freq_over</th>\n",
       "      <th>word_freq_remove</th>\n",
       "      <th>word_freq_internet</th>\n",
       "      <th>word_freq_order</th>\n",
       "      <th>word_freq_mail</th>\n",
       "      <th>...</th>\n",
       "      <th>char_freq_;</th>\n",
       "      <th>char_freq_(</th>\n",
       "      <th>char_freq_[</th>\n",
       "      <th>char_freq_!</th>\n",
       "      <th>char_freq_$</th>\n",
       "      <th>char_freq_#</th>\n",
       "      <th>capital_run_length_average</th>\n",
       "      <th>capital_run_length_longest</th>\n",
       "      <th>capital_run_length_total</th>\n",
       "      <th>is_spam</th>\n",
       "    </tr>\n",
       "  </thead>\n",
       "  <tbody>\n",
       "    <tr>\n",
       "      <th>0</th>\n",
       "      <td>0.00</td>\n",
       "      <td>0.64</td>\n",
       "      <td>0.64</td>\n",
       "      <td>0</td>\n",
       "      <td>0.32</td>\n",
       "      <td>0.00</td>\n",
       "      <td>0.00</td>\n",
       "      <td>0.00</td>\n",
       "      <td>0.00</td>\n",
       "      <td>0.00</td>\n",
       "      <td>...</td>\n",
       "      <td>0.00</td>\n",
       "      <td>0.000</td>\n",
       "      <td>0</td>\n",
       "      <td>0.778</td>\n",
       "      <td>0.000</td>\n",
       "      <td>0.000</td>\n",
       "      <td>3.756</td>\n",
       "      <td>61</td>\n",
       "      <td>278</td>\n",
       "      <td>1</td>\n",
       "    </tr>\n",
       "    <tr>\n",
       "      <th>1</th>\n",
       "      <td>0.21</td>\n",
       "      <td>0.28</td>\n",
       "      <td>0.50</td>\n",
       "      <td>0</td>\n",
       "      <td>0.14</td>\n",
       "      <td>0.28</td>\n",
       "      <td>0.21</td>\n",
       "      <td>0.07</td>\n",
       "      <td>0.00</td>\n",
       "      <td>0.94</td>\n",
       "      <td>...</td>\n",
       "      <td>0.00</td>\n",
       "      <td>0.132</td>\n",
       "      <td>0</td>\n",
       "      <td>0.372</td>\n",
       "      <td>0.180</td>\n",
       "      <td>0.048</td>\n",
       "      <td>5.114</td>\n",
       "      <td>101</td>\n",
       "      <td>1028</td>\n",
       "      <td>1</td>\n",
       "    </tr>\n",
       "    <tr>\n",
       "      <th>2</th>\n",
       "      <td>0.06</td>\n",
       "      <td>0.00</td>\n",
       "      <td>0.71</td>\n",
       "      <td>0</td>\n",
       "      <td>1.23</td>\n",
       "      <td>0.19</td>\n",
       "      <td>0.19</td>\n",
       "      <td>0.12</td>\n",
       "      <td>0.64</td>\n",
       "      <td>0.25</td>\n",
       "      <td>...</td>\n",
       "      <td>0.01</td>\n",
       "      <td>0.143</td>\n",
       "      <td>0</td>\n",
       "      <td>0.276</td>\n",
       "      <td>0.184</td>\n",
       "      <td>0.010</td>\n",
       "      <td>9.821</td>\n",
       "      <td>485</td>\n",
       "      <td>2259</td>\n",
       "      <td>1</td>\n",
       "    </tr>\n",
       "    <tr>\n",
       "      <th>3</th>\n",
       "      <td>0.00</td>\n",
       "      <td>0.00</td>\n",
       "      <td>0.00</td>\n",
       "      <td>0</td>\n",
       "      <td>0.63</td>\n",
       "      <td>0.00</td>\n",
       "      <td>0.31</td>\n",
       "      <td>0.63</td>\n",
       "      <td>0.31</td>\n",
       "      <td>0.63</td>\n",
       "      <td>...</td>\n",
       "      <td>0.00</td>\n",
       "      <td>0.137</td>\n",
       "      <td>0</td>\n",
       "      <td>0.137</td>\n",
       "      <td>0.000</td>\n",
       "      <td>0.000</td>\n",
       "      <td>3.537</td>\n",
       "      <td>40</td>\n",
       "      <td>191</td>\n",
       "      <td>1</td>\n",
       "    </tr>\n",
       "    <tr>\n",
       "      <th>4</th>\n",
       "      <td>0.00</td>\n",
       "      <td>0.00</td>\n",
       "      <td>0.00</td>\n",
       "      <td>0</td>\n",
       "      <td>0.63</td>\n",
       "      <td>0.00</td>\n",
       "      <td>0.31</td>\n",
       "      <td>0.63</td>\n",
       "      <td>0.31</td>\n",
       "      <td>0.63</td>\n",
       "      <td>...</td>\n",
       "      <td>0.00</td>\n",
       "      <td>0.135</td>\n",
       "      <td>0</td>\n",
       "      <td>0.135</td>\n",
       "      <td>0.000</td>\n",
       "      <td>0.000</td>\n",
       "      <td>3.537</td>\n",
       "      <td>40</td>\n",
       "      <td>191</td>\n",
       "      <td>1</td>\n",
       "    </tr>\n",
       "  </tbody>\n",
       "</table>\n",
       "<p>5 rows × 58 columns</p>\n",
       "</div>"
      ],
      "text/plain": [
       "   word_freq_make  word_freq_address  word_freq_all  word_freq_3d  \\\n",
       "0            0.00               0.64           0.64             0   \n",
       "1            0.21               0.28           0.50             0   \n",
       "2            0.06               0.00           0.71             0   \n",
       "3            0.00               0.00           0.00             0   \n",
       "4            0.00               0.00           0.00             0   \n",
       "\n",
       "   word_freq_our  word_freq_over  word_freq_remove  word_freq_internet  \\\n",
       "0           0.32            0.00              0.00                0.00   \n",
       "1           0.14            0.28              0.21                0.07   \n",
       "2           1.23            0.19              0.19                0.12   \n",
       "3           0.63            0.00              0.31                0.63   \n",
       "4           0.63            0.00              0.31                0.63   \n",
       "\n",
       "   word_freq_order  word_freq_mail   ...     char_freq_;  char_freq_(  \\\n",
       "0             0.00            0.00   ...            0.00        0.000   \n",
       "1             0.00            0.94   ...            0.00        0.132   \n",
       "2             0.64            0.25   ...            0.01        0.143   \n",
       "3             0.31            0.63   ...            0.00        0.137   \n",
       "4             0.31            0.63   ...            0.00        0.135   \n",
       "\n",
       "   char_freq_[  char_freq_!  char_freq_$  char_freq_#  \\\n",
       "0            0        0.778        0.000        0.000   \n",
       "1            0        0.372        0.180        0.048   \n",
       "2            0        0.276        0.184        0.010   \n",
       "3            0        0.137        0.000        0.000   \n",
       "4            0        0.135        0.000        0.000   \n",
       "\n",
       "   capital_run_length_average  capital_run_length_longest  \\\n",
       "0                       3.756                          61   \n",
       "1                       5.114                         101   \n",
       "2                       9.821                         485   \n",
       "3                       3.537                          40   \n",
       "4                       3.537                          40   \n",
       "\n",
       "   capital_run_length_total  is_spam  \n",
       "0                       278        1  \n",
       "1                      1028        1  \n",
       "2                      2259        1  \n",
       "3                       191        1  \n",
       "4                       191        1  \n",
       "\n",
       "[5 rows x 58 columns]"
      ]
     },
     "execution_count": 3,
     "metadata": {},
     "output_type": "execute_result"
    }
   ],
   "source": [
    "url = \"../Data/spambase.csv\"\n",
    "SpamData = pd.read_csv(url)\n",
    "SpamData.head()"
   ]
  },
  {
   "cell_type": "markdown",
   "metadata": {},
   "source": [
    "For the dictionary of this dataset pleaserefer to https://archive.ics.uci.edu/ml/datasets/Spambase"
   ]
  },
  {
   "cell_type": "code",
   "execution_count": 5,
   "metadata": {
    "collapsed": false
   },
   "outputs": [],
   "source": [
    "ListOfAllVariables = SpamData.columns.values\n",
    "X = SpamData[ListOfAllVariables]\n",
    "del X['is_spam']\n",
    "y = SpamData['is_spam']\n"
   ]
  },
  {
   "cell_type": "code",
   "execution_count": 6,
   "metadata": {
    "collapsed": false
   },
   "outputs": [
    {
     "data": {
      "text/plain": [
       "[('word_freq_make', -0.32161942488269102),\n",
       " ('word_freq_address', -0.15777709056119038),\n",
       " ('word_freq_all', 0.14253080671661256),\n",
       " ('word_freq_3d', 0.76641593225783045),\n",
       " ('word_freq_our', 0.55378737241652376),\n",
       " ('word_freq_over', 0.77003421201595657),\n",
       " ('word_freq_remove', 2.1819829316847468),\n",
       " ('word_freq_internet', 0.57514580008366611),\n",
       " ('word_freq_order', 0.68026960051779795),\n",
       " ('word_freq_mail', 0.11850797886823047),\n",
       " ('word_freq_receive', -0.23207218153490197),\n",
       " ('word_freq_will', -0.14319964489278444),\n",
       " ('word_freq_people', -0.074722222391711973),\n",
       " ('word_freq_report', 0.14519796121951348),\n",
       " ('word_freq_addresses', 0.90704393848254783),\n",
       " ('word_freq_free', 1.0269103739853798),\n",
       " ('word_freq_business', 0.89325072023831886),\n",
       " ('word_freq_email', 0.12597858586140814),\n",
       " ('word_freq_you', 0.074622993870820581),\n",
       " ('word_freq_credit', 0.96079581470502029),\n",
       " ('word_freq_your', 0.24448373145559232),\n",
       " ('word_freq_font', 0.27694354886907574),\n",
       " ('word_freq_000', 2.1945048792552999),\n",
       " ('word_freq_money', 0.51451868728970584),\n",
       " ('word_freq_hp', -1.7840993906792471),\n",
       " ('word_freq_hpl', -1.0167702086761525),\n",
       " ('word_freq_george', -3.5753331546797051),\n",
       " ('word_freq_650', 0.37362297875636991),\n",
       " ('word_freq_lab', -1.2937295645705473),\n",
       " ('word_freq_labs', -0.36250840739695944),\n",
       " ('word_freq_telnet', -0.48008508278265777),\n",
       " ('word_freq_857', -0.056877278435887767),\n",
       " ('word_freq_data', -0.8717269014626885),\n",
       " ('word_freq_415', -0.066732647118808816),\n",
       " ('word_freq_85', -1.1181239154898375),\n",
       " ('word_freq_technology', 0.81480365639877872),\n",
       " ('word_freq_1999', 0.00083733348814793841),\n",
       " ('word_freq_parts', -0.50516578303158255),\n",
       " ('word_freq_pm', -0.78431542098129436),\n",
       " ('word_freq_direct', -0.33235408473638378),\n",
       " ('word_freq_cs', -1.3535680570226463),\n",
       " ('word_freq_meeting', -1.851595966215607),\n",
       " ('word_freq_original', -0.78920381692492925),\n",
       " ('word_freq_project', -1.3932912137138032),\n",
       " ('word_freq_re', -0.66802887993964677),\n",
       " ('word_freq_edu', -1.3963188040277583),\n",
       " ('word_freq_table', -0.85798304065015873),\n",
       " ('word_freq_conference', -1.4773437102734994),\n",
       " ('char_freq_;', -1.1428339724464771),\n",
       " ('char_freq_(', -0.14915323491719298),\n",
       " ('char_freq_[', -0.47514912699433531),\n",
       " ('char_freq_!', 0.37790261011174764),\n",
       " ('char_freq_$', 3.7545441908666928),\n",
       " ('char_freq_#', 1.1281335084866024),\n",
       " ('capital_run_length_average', -0.01292023976416864),\n",
       " ('capital_run_length_longest', 0.0082167327282314743),\n",
       " ('capital_run_length_total', 0.00052819017278154439)]"
      ]
     },
     "execution_count": 6,
     "metadata": {},
     "output_type": "execute_result"
    }
   ],
   "source": [
    "from sklearn.linear_model import LogisticRegression\n",
    "lm = LogisticRegression()\n",
    "lm.fit(X,y)\n",
    "zip(ListOfAllVariables,lm.coef_[0])"
   ]
  },
  {
   "cell_type": "code",
   "execution_count": 5,
   "metadata": {
    "collapsed": false
   },
   "outputs": [
    {
     "name": "stdout",
     "output_type": "stream",
     "text": [
      "0.917161846536\n",
      "0.0828381534638\n"
     ]
    }
   ],
   "source": [
    "from sklearn.cross_validation import cross_val_score\n",
    "print(cross_val_score(lm,X,y,cv=10).mean()) \n",
    "MisClassificationError = 1 - (cross_val_score(lm,X,y,cv=10).mean())\n",
    "print(MisClassificationError)  #our misclassification Error is not bad!"
   ]
  },
  {
   "cell_type": "code",
   "execution_count": 6,
   "metadata": {
    "collapsed": false
   },
   "outputs": [
    {
     "data": {
      "text/plain": [
       "count    4601.000000\n",
       "mean        0.394045\n",
       "std         0.488698\n",
       "min         0.000000\n",
       "25%         0.000000\n",
       "50%         0.000000\n",
       "75%         1.000000\n",
       "max         1.000000\n",
       "Name: is_spam, dtype: float64"
      ]
     },
     "execution_count": 6,
     "metadata": {},
     "output_type": "execute_result"
    }
   ],
   "source": [
    "SpamData['is_spam'].describe()  #We love misclassification error even more! (39%) of e-mails were spam"
   ]
  },
  {
   "cell_type": "code",
   "execution_count": 9,
   "metadata": {
    "collapsed": false
   },
   "outputs": [
    {
     "data": {
      "text/plain": [
       "array([[2662,  126],\n",
       "       [ 186, 1627]])"
      ]
     },
     "execution_count": 9,
     "metadata": {},
     "output_type": "execute_result"
    }
   ],
   "source": [
    "from sklearn.metrics import confusion_matrix\n",
    "y_hat = lm.predict(X)\n",
    "cmat = confusion_matrix(y, y_hat)\n",
    "cmat"
   ]
  },
  {
   "cell_type": "markdown",
   "metadata": {},
   "source": [
    "#### How much is our FPR, TPR, TNR, FNR? "
   ]
  },
  {
   "cell_type": "code",
   "execution_count": 10,
   "metadata": {
    "collapsed": true
   },
   "outputs": [],
   "source": [
    "#Answer\n"
   ]
  },
  {
   "cell_type": "markdown",
   "metadata": {},
   "source": [
    "#### How much is our current intercept?"
   ]
  },
  {
   "cell_type": "code",
   "execution_count": 11,
   "metadata": {
    "collapsed": false
   },
   "outputs": [
    {
     "data": {
      "text/plain": [
       "array([-1.44908325])"
      ]
     },
     "execution_count": 11,
     "metadata": {},
     "output_type": "execute_result"
    }
   ],
   "source": [
    "lm.intercept_"
   ]
  },
  {
   "cell_type": "markdown",
   "metadata": {},
   "source": [
    "#### In our current setting 39% of our data was Spam. How would you adjust your model if you knew that in reality only 10% of e-mails are spam?"
   ]
  },
  {
   "cell_type": "markdown",
   "metadata": {},
   "source": [
    "Answer: "
   ]
  },
  {
   "cell_type": "code",
   "execution_count": null,
   "metadata": {
    "collapsed": true
   },
   "outputs": [],
   "source": [
    "I would "
   ]
  },
  {
   "cell_type": "code",
   "execution_count": 14,
   "metadata": {
    "collapsed": false
   },
   "outputs": [
    {
     "name": "stdout",
     "output_type": "stream",
     "text": [
      "[ 0.20459315  0.27568037  0.43316045 ...,  0.17063219  0.17758295\n",
      "  0.18120549]\n",
      "0.966309002177\n"
     ]
    }
   ],
   "source": [
    "from sklearn.metrics import roc_curve, auc,roc_auc_score\n",
    "y_hat_probability = lm.predict_proba(X).T[1]  #T[1] returns probability of belonging to class\n",
    "print(y_hat_probability)\n",
    "print(roc_auc_score(y, y_hat_probability))\n",
    "vals = roc_curve(y, y_hat_probability)  #an excellent value!"
   ]
  },
  {
   "cell_type": "code",
   "execution_count": 15,
   "metadata": {
    "collapsed": false
   },
   "outputs": [
    {
     "data": {
      "text/plain": [
       "<matplotlib.axes._subplots.AxesSubplot at 0x11296a350>"
      ]
     },
     "execution_count": 15,
     "metadata": {},
     "output_type": "execute_result"
    },
    {
     "data": {
      "image/png": "[encoded data removed]",
      "text/plain": [
       "<matplotlib.figure.Figure at 0x103ed1a50>"
      ]
     },
     "metadata": {},
     "output_type": "display_data"
    }
   ],
   "source": [
    "import matplotlib.pyplot as plt\n",
    "%matplotlib inline\n",
    "Roc_DataFrame = pd.DataFrame({'False_Positive_Rate':vals[0],'True_Positive_Rate':vals[1]})\n",
    "Roc_DataFrame.plot(x = 'False_Positive_Rate' , y = 'True_Positive_Rate' ) #beautiful Graph\n"
   ]
  },
  {
   "cell_type": "markdown",
   "metadata": {},
   "source": [
    "#### Now let's find out the most important variables\n",
    "Use Lasso equiv for logistics. Standardize. \n",
    "\n",
    "Default in python is Ridge regression b/c of computational need, but Lasso is preferable."
   ]
  },
  {
   "cell_type": "code",
   "execution_count": 21,
   "metadata": {
    "collapsed": false
   },
   "outputs": [],
   "source": [
    "# let's first standardize our data\n",
    "def Standardize(X):\n",
    "    X_Max = X.max()\n",
    "    X_Min = X.min()\n",
    "    X_Standardized = (X-X_Min)/(X_Max - X_Min)\n",
    "    return X_Standardized\n",
    "\n",
    "NameOfVariables = X.columns.values\n",
    "for i in NameOfVariables:\n",
    "    SpamData[i] = Standardize(SpamData[i])\n",
    "X = SpamData[ListOfAllVariables]\n",
    "del X['is_spam']  "
   ]
  },
  {
   "cell_type": "code",
   "execution_count": 25,
   "metadata": {
    "collapsed": false
   },
   "outputs": [
    {
     "data": {
      "text/plain": [
       "<matplotlib.axes._subplots.AxesSubplot at 0x112f2ce50>"
      ]
     },
     "execution_count": 25,
     "metadata": {},
     "output_type": "execute_result"
    },
    {
     "data": {
      "image/png": "[encoded data removed]",
      "text/plain": [
       "<matplotlib.figure.Figure at 0x11296a310>"
      ]
     },
     "metadata": {},
     "output_type": "display_data"
    }
   ],
   "source": [
    "from sklearn.cross_validation import cross_val_score\n",
    "\n",
    "# Try testing and plot\n",
    "c_list = np.logspace(-10,10,21) \n",
    "c_index = np.linspace(-10,10,21)\n",
    "#C is just the inverse of Lambda - the smaller the C - the stronger the\n",
    "#regulatization. The smaller C's choose less variables\n",
    "cv_scores = []\n",
    "for c_score in c_list:\n",
    "    lm = LogisticRegression(C = c_score,penalty = \"l1\") # Penalty needed for Lasso\n",
    "    cv_scores.append(cross_val_score(lm,X,y,cv=10).mean())\n",
    "\n",
    "\n",
    "C_Choice_df = pd.DataFrame({'cv_scores': cv_scores ,'Log_C': c_index })\n",
    "C_Choice_df.plot(x ='Log_C',y = 'cv_scores' )\n",
    "# Probably want to use zero for C"
   ]
  },
  {
   "cell_type": "code",
   "execution_count": 26,
   "metadata": {
    "collapsed": false
   },
   "outputs": [
    {
     "data": {
      "text/plain": [
       "<matplotlib.axes._subplots.AxesSubplot at 0x112f50f90>"
      ]
     },
     "execution_count": 26,
     "metadata": {},
     "output_type": "execute_result"
    },
    {
     "data": {
      "image/png": "[encoded data removed]",
      "text/plain": [
       "<matplotlib.figure.Figure at 0x10cb4ad90>"
      ]
     },
     "metadata": {},
     "output_type": "display_data"
    }
   ],
   "source": [
    "# Try testing and plot\n",
    "c_list = np.logspace(-1,1,11) \n",
    "c_index = np.linspace(-1,1,11)\n",
    "#C is just the inverse of Lambda - the smaller the C - the stronger the\n",
    "#regulatization. The smaller C's choose less variables\n",
    "cv_scores = []\n",
    "for c_score in c_list:\n",
    "    lm = LogisticRegression(C = c_score, penalty = \"l1\")\n",
    "    cv_scores.append(cross_val_score(lm,X,y,cv=10).mean())\n",
    "\n",
    "\n",
    "C_Choice_df = pd.DataFrame({'cv_scores': cv_scores ,'Log_C': c_index })\n",
    "C_Choice_df.plot(x ='Log_C',y = 'cv_scores' )\n",
    "# it sounds like we can choose C = 0 - C =1 is actually better but we would like to keep the smallest C that is\n",
    "# good in comparison to our best possible outcome. The SIMPLER THE BETTER! SMALLER C's GIVE YOU MORE RESTRICTIVE\n",
    "# OUTPUTS - BETTER INTERPRETATION"
   ]
  },
  {
   "cell_type": "code",
   "execution_count": 34,
   "metadata": {
    "collapsed": false
   },
   "outputs": [
    {
     "data": {
      "text/plain": [
       "(array(['word_freq_make', 'word_freq_address', 'word_freq_all',\n",
       "        'word_freq_3d', 'word_freq_our', 'word_freq_over',\n",
       "        'word_freq_remove', 'word_freq_internet', 'word_freq_order',\n",
       "        'word_freq_mail', 'word_freq_receive', 'word_freq_will',\n",
       "        'word_freq_people', 'word_freq_report', 'word_freq_addresses',\n",
       "        'word_freq_free', 'word_freq_business', 'word_freq_email',\n",
       "        'word_freq_you', 'word_freq_credit', 'word_freq_your',\n",
       "        'word_freq_font', 'word_freq_000', 'word_freq_money',\n",
       "        'word_freq_hp', 'word_freq_hpl', 'word_freq_george',\n",
       "        'word_freq_650', 'word_freq_lab', 'word_freq_labs',\n",
       "        'word_freq_telnet', 'word_freq_857', 'word_freq_data',\n",
       "        'word_freq_415', 'word_freq_85', 'word_freq_technology',\n",
       "        'word_freq_1999', 'word_freq_parts', 'word_freq_pm',\n",
       "        'word_freq_direct', 'word_freq_cs', 'word_freq_meeting',\n",
       "        'word_freq_original', 'word_freq_project', 'word_freq_re',\n",
       "        'word_freq_edu', 'word_freq_table', 'word_freq_conference',\n",
       "        'char_freq_;', 'char_freq_(', 'char_freq_[', 'char_freq_!',\n",
       "        'char_freq_$', 'char_freq_#', 'capital_run_length_average',\n",
       "        'capital_run_length_longest', 'capital_run_length_total'], dtype=object),\n",
       " array([ -5.35993511e-01,  -1.13737153e+00,   9.32633583e-01,\n",
       "          1.63830672e+00,   4.97028403e+00,   3.08823413e+00,\n",
       "          1.64931131e+01,   5.14869736e+00,   3.06924192e+00,\n",
       "          1.10977714e+00,   0.00000000e+00,  -1.23853980e+00,\n",
       "          0.00000000e+00,   1.45967374e-02,   1.93544899e+00,\n",
       "          1.61575372e+01,   6.00892532e+00,   1.90630786e+00,\n",
       "          1.47330115e+00,   4.92530699e+00,   2.73496006e+00,\n",
       "          4.37388627e+00,   1.19641702e+01,   5.69255530e+00,\n",
       "         -2.77790428e+01,  -6.77113272e+00,  -2.87358127e+01,\n",
       "          5.72271396e-01,  -4.90656151e-01,  -6.28719133e-01,\n",
       "          0.00000000e+00,   0.00000000e+00,  -5.74133583e+00,\n",
       "          0.00000000e+00,   0.00000000e+00,   6.19020094e-01,\n",
       "         -8.60232471e-01,   0.00000000e+00,  -1.55351817e+00,\n",
       "          0.00000000e+00,  -3.36755713e+00,  -1.18527093e+01,\n",
       "         -1.37179815e+00,  -3.96306236e+00,  -9.68958017e+00,\n",
       "         -1.52329908e+01,  -1.42261171e+00,  -1.86416144e+00,\n",
       "         -3.32312152e+00,   0.00000000e+00,   0.00000000e+00,\n",
       "          1.10069517e+01,   2.58385445e+01,   0.00000000e+00,\n",
       "          1.42092119e+00,   0.00000000e+00,   9.50760112e+00]))"
      ]
     },
     "execution_count": 34,
     "metadata": {},
     "output_type": "execute_result"
    }
   ],
   "source": [
    "lm = LogisticRegression(C = 10**(0), penalty = \"l1\")\n",
    "lm.fit(X,y)\n",
    "NameOfVariables,lm.coef_[0]\n"
   ]
  },
  {
   "cell_type": "markdown",
   "metadata": {
    "collapsed": false
   },
   "source": [
    "## Var_coef = zip(lm.coef_[0,:],NameOfVariables)\n",
    "Var_coef"
   ]
  },
  {
   "cell_type": "code",
   "execution_count": 16,
   "metadata": {
    "collapsed": false
   },
   "outputs": [
    {
     "data": {
      "text/plain": [
       "[(-28.733212277055699, 'word_freq_george'),\n",
       " (-27.780194101847066, 'word_freq_hp'),\n",
       " (-15.232647128520181, 'word_freq_edu'),\n",
       " (-11.852830743965953, 'word_freq_meeting'),\n",
       " (-9.6903109096320179, 'word_freq_re'),\n",
       " (-6.7707207797535487, 'word_freq_hpl'),\n",
       " (-5.7393742306965967, 'word_freq_data'),\n",
       " (-3.9627214871065628, 'word_freq_project'),\n",
       " (-3.3668268303026361, 'word_freq_cs'),\n",
       " (-3.3230718335561313, 'char_freq_;'),\n",
       " (-1.8641317304097049, 'word_freq_conference'),\n",
       " (-1.5537526330733111, 'word_freq_pm'),\n",
       " (-1.4224805890714847, 'word_freq_table'),\n",
       " (-1.3714837327629834, 'word_freq_original'),\n",
       " (-1.2383773101915796, 'word_freq_will'),\n",
       " (-1.137028241853729, 'word_freq_address'),\n",
       " (-0.86033424296667915, 'word_freq_1999'),\n",
       " (-0.62842989447332442, 'word_freq_labs'),\n",
       " (-0.53577533961266, 'word_freq_make'),\n",
       " (-0.4901777261802604, 'word_freq_lab'),\n",
       " (0.0, 'capital_run_length_longest'),\n",
       " (0.0, 'char_freq_#'),\n",
       " (0.0, 'char_freq_('),\n",
       " (0.0, 'char_freq_['),\n",
       " (0.0, 'word_freq_415'),\n",
       " (0.0, 'word_freq_85'),\n",
       " (0.0, 'word_freq_857'),\n",
       " (0.0, 'word_freq_direct'),\n",
       " (0.0, 'word_freq_parts'),\n",
       " (0.0, 'word_freq_people'),\n",
       " (0.0, 'word_freq_receive'),\n",
       " (0.0, 'word_freq_telnet'),\n",
       " (0.014591532039642028, 'word_freq_report'),\n",
       " (0.5723721670294849, 'word_freq_650'),\n",
       " (0.61948257609560053, 'word_freq_technology'),\n",
       " (0.93284956393468144, 'word_freq_all'),\n",
       " (1.1100954780531862, 'word_freq_mail'),\n",
       " (1.4208442984165406, 'capital_run_length_average'),\n",
       " (1.4739127271126413, 'word_freq_you'),\n",
       " (1.6384616522235786, 'word_freq_3d'),\n",
       " (1.9070169436783186, 'word_freq_email'),\n",
       " (1.9357950574954854, 'word_freq_addresses'),\n",
       " (2.7345868921951357, 'word_freq_your'),\n",
       " (3.0691567348772351, 'word_freq_order'),\n",
       " (3.0880009870009664, 'word_freq_over'),\n",
       " (4.3739675212037676, 'word_freq_font'),\n",
       " (4.9251431481109673, 'word_freq_credit'),\n",
       " (4.9706798596476061, 'word_freq_our'),\n",
       " (5.1492954121841592, 'word_freq_internet'),\n",
       " (5.6927168662959851, 'word_freq_money'),\n",
       " (6.0096085338952783, 'word_freq_business'),\n",
       " (9.5061769821072613, 'capital_run_length_total'),\n",
       " (11.008287977267907, 'char_freq_!'),\n",
       " (11.963399156206874, 'word_freq_000'),\n",
       " (16.156798443373102, 'word_freq_free'),\n",
       " (16.492827809407888, 'word_freq_remove'),\n",
       " (25.840248288358197, 'char_freq_$')]"
      ]
     },
     "execution_count": 16,
     "metadata": {},
     "output_type": "execute_result"
    }
   ],
   "source": [
    "sorted(Var_coef)"
   ]
  },
  {
   "cell_type": "markdown",
   "metadata": {},
   "source": [
    "It seems like char_freq_$ has the highest effect on an email be a spam, the next word that highly affects the probability of spam is remove, followed by  free, 000, b !, etc.\n",
    "\n",
    "The most unlikely characters that are in spam emails are george, hp, edu, meeting, etc.. \n",
    "\n",
    "12 words  and characters - with coefficients 0 - have mixed effect on probability of spam and ham. "
   ]
  },
  {
   "cell_type": "markdown",
   "metadata": {},
   "source": [
    "#### Now let's look at ROC, AUC, confusion matrix of our optimal model"
   ]
  },
  {
   "cell_type": "code",
   "execution_count": 30,
   "metadata": {
    "collapsed": false
   },
   "outputs": [
    {
     "data": {
      "text/plain": [
       "array([[2666,  122],\n",
       "       [ 262, 1551]])"
      ]
     },
     "execution_count": 30,
     "metadata": {},
     "output_type": "execute_result"
    }
   ],
   "source": [
    "y_hat = lm.predict(X)\n",
    "confusion_matrix(y, y_hat)"
   ]
  },
  {
   "cell_type": "code",
   "execution_count": 31,
   "metadata": {
    "collapsed": false
   },
   "outputs": [
    {
     "name": "stdout",
     "output_type": "stream",
     "text": [
      "[ 0.48494993  0.94171082  0.99798188 ...,  0.09795319  0.17408751\n",
      "  0.10086071]\n",
      "0.970620581786\n"
     ]
    },
    {
     "data": {
      "text/plain": [
       "<matplotlib.axes._subplots.AxesSubplot at 0x113e79a90>"
      ]
     },
     "execution_count": 31,
     "metadata": {},
     "output_type": "execute_result"
    },
    {
     "data": {
      "image/png": "[encoded data removed]",
      "text/plain": [
       "<matplotlib.figure.Figure at 0x112a46410>"
      ]
     },
     "metadata": {},
     "output_type": "display_data"
    }
   ],
   "source": [
    "y_hat_probability = lm.predict_proba(X).T[1]  #T[1] returns probability of belonging to class\n",
    "print(y_hat_probability)\n",
    "print(roc_auc_score(y, y_hat_probability))\n",
    "vals = roc_curve(y, y_hat_probability)\n",
    "Roc_DataFrame = pd.DataFrame({'False_Positive_Rate':vals[0],'True_Positive_Rate':vals[1]})\n",
    "Roc_DataFrame.plot(x = 'False_Positive_Rate' , y = 'True_Positive_Rate' ) #agian beautiful Graph"
   ]
  },
  {
   "cell_type": "markdown",
   "metadata": {},
   "source": [
    "#### Now let's play with threshold"
   ]
  },
  {
   "cell_type": "code",
   "execution_count": 33,
   "metadata": {
    "collapsed": false
   },
   "outputs": [
    {
     "data": {
      "text/plain": [
       "array([[2485,  303],\n",
       "       [ 115, 1698]])"
      ]
     },
     "execution_count": 33,
     "metadata": {},
     "output_type": "execute_result"
    }
   ],
   "source": [
    "def PredictThreshold(Predictprob,Threshhold):\n",
    "    y_predict = 0\n",
    "    if (Predictprob >= Threshhold):\n",
    "        y_predict = 1\n",
    "    return y_predict\n",
    "\n",
    "PredictThreshold(0.5,0.9)\n",
    "y_hat_probability = lm.predict_proba(X).T[1]\n",
    "y_hat_predict_threshold = []\n",
    "threshold = 0.3 # Changing down increases false positive, changing up increases false negative\n",
    "for i in range(0,len(y_hat_probability)):\n",
    "    y_hat_predict_threshold.append(PredictThreshold(y_hat_probability[i],threshold))\n",
    "\n",
    "confusion_matrix(y, y_hat_predict_threshold)    \n",
    "    \n",
    "#please play with threshold and discuss your outputs. For example if it is really important\n",
    "#for you to reduce FP, what should you do?"
   ]
  },
  {
   "cell_type": "code",
   "execution_count": null,
   "metadata": {
    "collapsed": false
   },
   "outputs": [],
   "source": []
  },
  {
   "cell_type": "code",
   "execution_count": null,
   "metadata": {
    "collapsed": true
   },
   "outputs": [],
   "source": []
  }
 ],
 "metadata": {
  "kernelspec": {
   "display_name": "Python 2",
   "language": "python",
   "name": "python2"
  },
  "language_info": {
   "codemirror_mode": {
    "name": "ipython",
    "version": 2
   },
   "file_extension": ".py",
   "mimetype": "text/x-python",
   "name": "python",
   "nbconvert_exporter": "python",
   "pygments_lexer": "ipython2",
   "version": "2.7.11"
  }
 },
 "nbformat": 4,
 "nbformat_minor": 0
}
