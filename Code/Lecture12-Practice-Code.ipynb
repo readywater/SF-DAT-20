{
 "cells": [
  {
   "cell_type": "markdown",
   "metadata": {},
   "source": [
    "# This is both in class-practice Lecture 12 and HW#4 which is due at 6:30PM on March 16th 2016!"
   ]
  },
  {
   "cell_type": "code",
   "execution_count": 2,
   "metadata": {
    "collapsed": false
   },
   "outputs": [
    {
     "name": "stderr",
     "output_type": "stream",
     "text": [
      "/Users/albarron/anaconda/lib/python2.7/site-packages/matplotlib/font_manager.py:273: UserWarning: Matplotlib is building the font cache using fc-list. This may take a moment.\n",
      "  warnings.warn('Matplotlib is building the font cache using fc-list. This may take a moment.')\n"
     ]
    }
   ],
   "source": [
    "import pandas as pd\n",
    "import numpy as np\n",
    "%matplotlib inline"
   ]
  },
  {
   "cell_type": "code",
   "execution_count": 3,
   "metadata": {
    "collapsed": false
   },
   "outputs": [
    {
     "data": {
      "text/plain": [
       "4601"
      ]
     },
     "execution_count": 3,
     "metadata": {},
     "output_type": "execute_result"
    }
   ],
   "source": [
    "url = \"../Data/spambase.csv\"\n",
    "SpamData = pd.read_csv(url)\n",
    "SpamData.head()\n",
    "len(SpamData)"
   ]
  },
  {
   "cell_type": "code",
   "execution_count": 4,
   "metadata": {
    "collapsed": true
   },
   "outputs": [],
   "source": [
    "ListOfAllVariables = SpamData.columns.values\n",
    "X = SpamData[ListOfAllVariables]\n",
    "del X['is_spam']\n",
    "y = SpamData['is_spam']"
   ]
  },
  {
   "cell_type": "code",
   "execution_count": 5,
   "metadata": {
    "collapsed": false
   },
   "outputs": [
    {
     "data": {
      "text/html": [
       "<div>\n",
       "<table border=\"1\" class=\"dataframe\">\n",
       "  <thead>\n",
       "    <tr style=\"text-align: right;\">\n",
       "      <th></th>\n",
       "      <th>word_freq_make</th>\n",
       "      <th>word_freq_address</th>\n",
       "      <th>word_freq_all</th>\n",
       "      <th>word_freq_3d</th>\n",
       "      <th>word_freq_our</th>\n",
       "      <th>word_freq_over</th>\n",
       "      <th>word_freq_remove</th>\n",
       "      <th>word_freq_internet</th>\n",
       "      <th>word_freq_order</th>\n",
       "      <th>word_freq_mail</th>\n",
       "      <th>...</th>\n",
       "      <th>word_freq_conference</th>\n",
       "      <th>char_freq_;</th>\n",
       "      <th>char_freq_(</th>\n",
       "      <th>char_freq_[</th>\n",
       "      <th>char_freq_!</th>\n",
       "      <th>char_freq_$</th>\n",
       "      <th>char_freq_#</th>\n",
       "      <th>capital_run_length_average</th>\n",
       "      <th>capital_run_length_longest</th>\n",
       "      <th>capital_run_length_total</th>\n",
       "    </tr>\n",
       "  </thead>\n",
       "  <tbody>\n",
       "    <tr>\n",
       "      <th>0</th>\n",
       "      <td>0.00</td>\n",
       "      <td>0.64</td>\n",
       "      <td>0.64</td>\n",
       "      <td>0</td>\n",
       "      <td>0.32</td>\n",
       "      <td>0.00</td>\n",
       "      <td>0.00</td>\n",
       "      <td>0.00</td>\n",
       "      <td>0</td>\n",
       "      <td>0.00</td>\n",
       "      <td>...</td>\n",
       "      <td>0</td>\n",
       "      <td>0</td>\n",
       "      <td>0.000</td>\n",
       "      <td>0</td>\n",
       "      <td>0.778</td>\n",
       "      <td>0.00</td>\n",
       "      <td>0.000</td>\n",
       "      <td>3.756</td>\n",
       "      <td>61</td>\n",
       "      <td>278</td>\n",
       "    </tr>\n",
       "    <tr>\n",
       "      <th>1</th>\n",
       "      <td>0.21</td>\n",
       "      <td>0.28</td>\n",
       "      <td>0.50</td>\n",
       "      <td>0</td>\n",
       "      <td>0.14</td>\n",
       "      <td>0.28</td>\n",
       "      <td>0.21</td>\n",
       "      <td>0.07</td>\n",
       "      <td>0</td>\n",
       "      <td>0.94</td>\n",
       "      <td>...</td>\n",
       "      <td>0</td>\n",
       "      <td>0</td>\n",
       "      <td>0.132</td>\n",
       "      <td>0</td>\n",
       "      <td>0.372</td>\n",
       "      <td>0.18</td>\n",
       "      <td>0.048</td>\n",
       "      <td>5.114</td>\n",
       "      <td>101</td>\n",
       "      <td>1028</td>\n",
       "    </tr>\n",
       "  </tbody>\n",
       "</table>\n",
       "<p>2 rows × 57 columns</p>\n",
       "</div>"
      ],
      "text/plain": [
       "   word_freq_make  word_freq_address  word_freq_all  word_freq_3d  \\\n",
       "0            0.00               0.64           0.64             0   \n",
       "1            0.21               0.28           0.50             0   \n",
       "\n",
       "   word_freq_our  word_freq_over  word_freq_remove  word_freq_internet  \\\n",
       "0           0.32            0.00              0.00                0.00   \n",
       "1           0.14            0.28              0.21                0.07   \n",
       "\n",
       "   word_freq_order  word_freq_mail            ...             \\\n",
       "0                0            0.00            ...              \n",
       "1                0            0.94            ...              \n",
       "\n",
       "   word_freq_conference  char_freq_;  char_freq_(  char_freq_[  char_freq_!  \\\n",
       "0                     0            0        0.000            0        0.778   \n",
       "1                     0            0        0.132            0        0.372   \n",
       "\n",
       "   char_freq_$  char_freq_#  capital_run_length_average  \\\n",
       "0         0.00        0.000                       3.756   \n",
       "1         0.18        0.048                       5.114   \n",
       "\n",
       "   capital_run_length_longest  capital_run_length_total  \n",
       "0                          61                       278  \n",
       "1                         101                      1028  \n",
       "\n",
       "[2 rows x 57 columns]"
      ]
     },
     "execution_count": 5,
     "metadata": {},
     "output_type": "execute_result"
    }
   ],
   "source": [
    "X.head(2)"
   ]
  },
  {
   "cell_type": "markdown",
   "metadata": {},
   "source": [
    "### Earlier in this course, we used logistic regression model and could achieve 8.2% misclassification error. Now, you know a little bit of higher end algorithms like Random Forest and boosting. Go ahead and beat Logistic regression algorithm. The champion, the person who beats CV-error of 8.2% and makes the least amount of error will receive a ONE DOLLAR bill award! \n",
    "### Just beat it, beat it, beat it, beat it\n",
    "### No one wants to be defeated\n",
    "### Showin' how funky strong is your fight \n",
    "### It doesn't matter who's wrong or right "
   ]
  },
  {
   "cell_type": "markdown",
   "metadata": {},
   "source": [
    "In order to be consitent use the following way to cross-validate your errors:\n",
    "from sklearn import cross_validation\n",
    "\n",
    "kf = cross_validation.KFold(len(BostonData), n_folds = 10, shuffle = True) \n",
    "\n",
    "scores = []\n",
    "\n",
    "for train_index, test_index in kf:\n",
    "\n",
    "                                  ...\n",
    "                                  "
   ]
  },
  {
   "cell_type": "code",
   "execution_count": 6,
   "metadata": {
    "collapsed": true
   },
   "outputs": [],
   "source": [
    "from sklearn.ensemble import RandomForestRegressor\n",
    "from sklearn.cross_validation import cross_val_score\n"
   ]
  },
  {
   "cell_type": "code",
   "execution_count": 23,
   "metadata": {
    "collapsed": false
   },
   "outputs": [],
   "source": [
    "# Fit the Features!\n",
    "score = []\n",
    "Features = range(1,len(X.columns))\n",
    "for i in Features:\n",
    "    RF = RandomForestRegressor(n_estimators = 100,\n",
    "                               max_features = i, #int(np.sqrt(len(X.columns))), # Was 10\n",
    "                               min_samples_leaf = 5,\n",
    "                               oob_score = True)\n",
    "    scores = cross_val_score(RF, X, y, cv=10, scoring='mean_squared_error')\n",
    "    score.append(np.mean(np.sqrt(-scores)))"
   ]
  },
  {
   "cell_type": "code",
   "execution_count": 28,
   "metadata": {
    "collapsed": false
   },
   "outputs": [
    {
     "data": {
      "text/plain": [
       "<matplotlib.axes._subplots.AxesSubplot at 0x10d9440d0>"
      ]
     },
     "execution_count": 28,
     "metadata": {},
     "output_type": "execute_result"
    },
    {
     "data": {
      "image/png": "[encoded data removed]",
      "text/plain": [
       "<matplotlib.figure.Figure at 0x10db97350>"
      ]
     },
     "metadata": {},
     "output_type": "display_data"
    }
   ],
   "source": [
    "Depth_Choice_df = pd.DataFrame({'cv_scores': score,'Number of Features': Features})\n",
    "Depth_Choice_df.plot(x ='Number of Features',y = 'cv_scores')"
   ]
  },
  {
   "cell_type": "code",
   "execution_count": 7,
   "metadata": {
    "collapsed": true
   },
   "outputs": [],
   "source": [
    "# Tune the Trees!\n",
    "score = []\n",
    "trees = [100,500,1000,2000,4000,8000,10000] # 8000 was the outcome\n",
    "for i in trees:\n",
    "    RF = RandomForestRegressor(n_estimators = i,\n",
    "                               max_features = 10, # from prev\n",
    "                               min_samples_leaf = 5,\n",
    "                               oob_score = True)\n",
    "    scores = cross_val_score(RF, X, y, cv=10, scoring='mean_squared_error')\n",
    "    score.append(np.mean(np.sqrt(-scores)))\n",
    "# RF.fit(X,y)"
   ]
  },
  {
   "cell_type": "code",
   "execution_count": 9,
   "metadata": {
    "collapsed": false
   },
   "outputs": [
    {
     "data": {
      "text/plain": [
       "<matplotlib.axes._subplots.AxesSubplot at 0x10e3edd90>"
      ]
     },
     "execution_count": 9,
     "metadata": {},
     "output_type": "execute_result"
    },
    {
     "data": {
      "image/png": "[encoded data removed]",
      "text/plain": [
       "<matplotlib.figure.Figure at 0x10e3ed510>"
      ]
     },
     "metadata": {},
     "output_type": "display_data"
    }
   ],
   "source": [
    "Depth_Choice_df = pd.DataFrame({'cv_scores': score ,'Tree number': trees})\n",
    "Depth_Choice_df.plot(x ='Tree number',y ='cv_scores')"
   ]
  },
  {
   "cell_type": "code",
   "execution_count": null,
   "metadata": {
    "collapsed": true
   },
   "outputs": [],
   "source": [
    "# Prune the branches!\n",
    "score = []\n",
    "leaf = range(1,6)\n",
    "for i in leaf:\n",
    "    RF = RandomForestRegressor(n_estimators = 8000,\n",
    "                               max_features = 10, # from prev\n",
    "                               min_samples_leaf = i,\n",
    "                               oob_score = True)\n",
    "    scores = cross_val_score(RF, X, y, cv=10, scoring='mean_squared_error')\n",
    "    score.append(np.mean(np.sqrt(-scores)))\n",
    "# RF.fit(X,y)"
   ]
  },
  {
   "cell_type": "code",
   "execution_count": null,
   "metadata": {
    "collapsed": true
   },
   "outputs": [],
   "source": [
    "Depth_Choice_df = pd.DataFrame({'cv_scores': score ,'MinSampleLeaf': leaf})\n",
    "Depth_Choice_df.plot(x ='MinSampleLeaf',y ='cv_scores')"
   ]
  },
  {
   "cell_type": "markdown",
   "metadata": {
    "collapsed": true
   },
   "source": [
    "WHAT BE YONDER ERROR, FRIEND?!"
   ]
  },
  {
   "cell_type": "code",
   "execution_count": null,
   "metadata": {
    "collapsed": true
   },
   "outputs": [],
   "source": [
    "kf = cross_validation.KFold(len(BostonData), n_folds = 10, shuffle = True)\n",
    "scores = []\n",
    "for train_index, test_index in kf:"
   ]
  }
 ],
 "metadata": {
  "kernelspec": {
   "display_name": "Python 2",
   "language": "python",
   "name": "python2"
  },
  "language_info": {
   "codemirror_mode": {
    "name": "ipython",
    "version": 2
   },
   "file_extension": ".py",
   "mimetype": "text/x-python",
   "name": "python",
   "nbconvert_exporter": "python",
   "pygments_lexer": "ipython2",
   "version": "2.7.11"
  }
 },
 "nbformat": 4,
 "nbformat_minor": 0
}
