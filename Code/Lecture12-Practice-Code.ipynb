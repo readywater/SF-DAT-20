{
 "cells": [
  {
   "cell_type": "markdown",
   "metadata": {},
   "source": [
    "# This is both in class-practice Lecture 12 and HW#4 which is due at 6:30PM on March 16th 2016!"
   ]
  },
  {
   "cell_type": "code",
   "execution_count": 2,
   "metadata": {
    "collapsed": false
   },
   "outputs": [
    {
     "name": "stderr",
     "output_type": "stream",
     "text": [
      "/Users/albarron/anaconda/lib/python2.7/site-packages/matplotlib/font_manager.py:273: UserWarning: Matplotlib is building the font cache using fc-list. This may take a moment.\n",
      "  warnings.warn('Matplotlib is building the font cache using fc-list. This may take a moment.')\n"
     ]
    }
   ],
   "source": [
    "import pandas as pd\n",
    "import numpy as np\n",
    "%matplotlib inline"
   ]
  },
  {
   "cell_type": "code",
   "execution_count": 3,
   "metadata": {
    "collapsed": false
   },
   "outputs": [
    {
     "data": {
      "text/plain": [
       "4601"
      ]
     },
     "execution_count": 3,
     "metadata": {},
     "output_type": "execute_result"
    }
   ],
   "source": [
    "url = \"../Data/spambase.csv\"\n",
    "SpamData = pd.read_csv(url)\n",
    "SpamData.head()\n",
    "len(SpamData)"
   ]
  },
  {
   "cell_type": "code",
   "execution_count": 4,
   "metadata": {
    "collapsed": true
   },
   "outputs": [],
   "source": [
    "ListOfAllVariables = SpamData.columns.values\n",
    "X = SpamData[ListOfAllVariables]\n",
    "del X['is_spam']\n",
    "y = SpamData['is_spam']"
   ]
  },
  {
   "cell_type": "code",
   "execution_count": 5,
   "metadata": {
    "collapsed": false
   },
   "outputs": [
    {
     "data": {
      "text/html": [
       "<div>\n",
       "<table border=\"1\" class=\"dataframe\">\n",
       "  <thead>\n",
       "    <tr style=\"text-align: right;\">\n",
       "      <th></th>\n",
       "      <th>word_freq_make</th>\n",
       "      <th>word_freq_address</th>\n",
       "      <th>word_freq_all</th>\n",
       "      <th>word_freq_3d</th>\n",
       "      <th>word_freq_our</th>\n",
       "      <th>word_freq_over</th>\n",
       "      <th>word_freq_remove</th>\n",
       "      <th>word_freq_internet</th>\n",
       "      <th>word_freq_order</th>\n",
       "      <th>word_freq_mail</th>\n",
       "      <th>...</th>\n",
       "      <th>word_freq_conference</th>\n",
       "      <th>char_freq_;</th>\n",
       "      <th>char_freq_(</th>\n",
       "      <th>char_freq_[</th>\n",
       "      <th>char_freq_!</th>\n",
       "      <th>char_freq_$</th>\n",
       "      <th>char_freq_#</th>\n",
       "      <th>capital_run_length_average</th>\n",
       "      <th>capital_run_length_longest</th>\n",
       "      <th>capital_run_length_total</th>\n",
       "    </tr>\n",
       "  </thead>\n",
       "  <tbody>\n",
       "    <tr>\n",
       "      <th>0</th>\n",
       "      <td>0.00</td>\n",
       "      <td>0.64</td>\n",
       "      <td>0.64</td>\n",
       "      <td>0</td>\n",
       "      <td>0.32</td>\n",
       "      <td>0.00</td>\n",
       "      <td>0.00</td>\n",
       "      <td>0.00</td>\n",
       "      <td>0</td>\n",
       "      <td>0.00</td>\n",
       "      <td>...</td>\n",
       "      <td>0</td>\n",
       "      <td>0</td>\n",
       "      <td>0.000</td>\n",
       "      <td>0</td>\n",
       "      <td>0.778</td>\n",
       "      <td>0.00</td>\n",
       "      <td>0.000</td>\n",
       "      <td>3.756</td>\n",
       "      <td>61</td>\n",
       "      <td>278</td>\n",
       "    </tr>\n",
       "    <tr>\n",
       "      <th>1</th>\n",
       "      <td>0.21</td>\n",
       "      <td>0.28</td>\n",
       "      <td>0.50</td>\n",
       "      <td>0</td>\n",
       "      <td>0.14</td>\n",
       "      <td>0.28</td>\n",
       "      <td>0.21</td>\n",
       "      <td>0.07</td>\n",
       "      <td>0</td>\n",
       "      <td>0.94</td>\n",
       "      <td>...</td>\n",
       "      <td>0</td>\n",
       "      <td>0</td>\n",
       "      <td>0.132</td>\n",
       "      <td>0</td>\n",
       "      <td>0.372</td>\n",
       "      <td>0.18</td>\n",
       "      <td>0.048</td>\n",
       "      <td>5.114</td>\n",
       "      <td>101</td>\n",
       "      <td>1028</td>\n",
       "    </tr>\n",
       "  </tbody>\n",
       "</table>\n",
       "<p>2 rows × 57 columns</p>\n",
       "</div>"
      ],
      "text/plain": [
       "   word_freq_make  word_freq_address  word_freq_all  word_freq_3d  \\\n",
       "0            0.00               0.64           0.64             0   \n",
       "1            0.21               0.28           0.50             0   \n",
       "\n",
       "   word_freq_our  word_freq_over  word_freq_remove  word_freq_internet  \\\n",
       "0           0.32            0.00              0.00                0.00   \n",
       "1           0.14            0.28              0.21                0.07   \n",
       "\n",
       "   word_freq_order  word_freq_mail            ...             \\\n",
       "0                0            0.00            ...              \n",
       "1                0            0.94            ...              \n",
       "\n",
       "   word_freq_conference  char_freq_;  char_freq_(  char_freq_[  char_freq_!  \\\n",
       "0                     0            0        0.000            0        0.778   \n",
       "1                     0            0        0.132            0        0.372   \n",
       "\n",
       "   char_freq_$  char_freq_#  capital_run_length_average  \\\n",
       "0         0.00        0.000                       3.756   \n",
       "1         0.18        0.048                       5.114   \n",
       "\n",
       "   capital_run_length_longest  capital_run_length_total  \n",
       "0                          61                       278  \n",
       "1                         101                      1028  \n",
       "\n",
       "[2 rows x 57 columns]"
      ]
     },
     "execution_count": 5,
     "metadata": {},
     "output_type": "execute_result"
    }
   ],
   "source": [
    "X.head(2)"
   ]
  },
  {
   "cell_type": "markdown",
   "metadata": {},
   "source": [
    "### Earlier in this course, we used logistic regression model and could achieve 8.2% misclassification error. Now, you know a little bit of higher end algorithms like Random Forest and boosting. Go ahead and beat Logistic regression algorithm. The champion, the person who beats CV-error of 8.2% and makes the least amount of error will receive a ONE DOLLAR bill award! \n",
    "### Just beat it, beat it, beat it, beat it\n",
    "### No one wants to be defeated\n",
    "### Showin' how funky strong is your fight \n",
    "### It doesn't matter who's wrong or right "
   ]
  },
  {
   "cell_type": "markdown",
   "metadata": {},
   "source": [
    "In order to be consitent use the following way to cross-validate your errors:\n",
    "from sklearn import cross_validation\n",
    "\n",
    "kf = cross_validation.KFold(len(BostonData), n_folds = 10, shuffle = True) \n",
    "\n",
    "scores = []\n",
    "\n",
    "for train_index, test_index in kf:\n",
    "\n",
    "                                  ...\n",
    "                                  "
   ]
  },
  {
   "cell_type": "code",
   "execution_count": 6,
   "metadata": {
    "collapsed": true
   },
   "outputs": [],
   "source": [
    "from sklearn.ensemble import RandomForestRegressor\n",
    "from sklearn.cross_validation import cross_val_score\n"
   ]
  },
  {
   "cell_type": "code",
   "execution_count": 23,
   "metadata": {
    "collapsed": false
   },
   "outputs": [],
   "source": [
    "# Fit the Features!\n",
    "score = []\n",
    "Features = range(1,len(X.columns))\n",
    "for i in Features:\n",
    "    RF = RandomForestRegressor(n_estimators = 100,\n",
    "                               max_features = i, #len(X.columns)/3, # Was 10\n",
    "                               min_samples_leaf = 5,\n",
    "                               oob_score = True)\n",
    "    scores = cross_val_score(RF, X, y, cv=10, scoring='mean_squared_error')\n",
    "    score.append(np.mean(np.sqrt(-scores)))"
   ]
  },
  {
   "cell_type": "code",
   "execution_count": 28,
   "metadata": {
    "collapsed": false
   },
   "outputs": [
    {
     "data": {
      "text/plain": [
       "<matplotlib.axes._subplots.AxesSubplot at 0x10d9440d0>"
      ]
     },
     "execution_count": 28,
     "metadata": {},
     "output_type": "execute_result"
    },
    {
     "data": {
      "image/png": "[encoded data removed]",
      "text/plain": [
       "<matplotlib.figure.Figure at 0x10db97350>"
      ]
     },
     "metadata": {},
     "output_type": "display_data"
    }
   ],
   "source": [
    "Depth_Choice_df = pd.DataFrame({'cv_scores': score,'Number of Features': Features})\n",
    "Depth_Choice_df.plot(x ='Number of Features',y = 'cv_scores')"
   ]
  },
  {
   "cell_type": "code",
   "execution_count": 7,
   "metadata": {
    "collapsed": true
   },
   "outputs": [],
   "source": [
    "# Tune the Trees!\n",
    "score = []\n",
    "trees = [100,500,1000,2000,4000,8000,10000] # 8000 was the outcome\n",
    "for i in trees:\n",
    "    RF = RandomForestRegressor(n_estimators = i,\n",
    "                               max_features = 10, # from prev\n",
    "                               min_samples_leaf = 5,\n",
    "                               oob_score = True)\n",
    "    scores = cross_val_score(RF, X, y, cv=10, scoring='mean_squared_error')\n",
    "    score.append(np.mean(np.sqrt(-scores)))\n",
    "# RF.fit(X,y)"
   ]
  },
  {
   "cell_type": "code",
   "execution_count": 9,
   "metadata": {
    "collapsed": false
   },
   "outputs": [
    {
     "data": {
      "text/plain": [
       "<matplotlib.axes._subplots.AxesSubplot at 0x10e3edd90>"
      ]
     },
     "execution_count": 9,
     "metadata": {},
     "output_type": "execute_result"
    },
    {
     "data": {
      "image/png": "[encoded data removed]",
      "text/plain": [
       "<matplotlib.figure.Figure at 0x10e3ed510>"
      ]
     },
     "metadata": {},
     "output_type": "display_data"
    }
   ],
   "source": [
    "Depth_Choice_df = pd.DataFrame({'cv_scores': score ,'Tree number': trees})\n",
    "Depth_Choice_df.plot(x ='Tree number',y ='cv_scores')"
   ]
  },
  {
   "cell_type": "code",
   "execution_count": 10,
   "metadata": {
    "collapsed": true
   },
   "outputs": [],
   "source": [
    "# Prune the branches!\n",
    "score = []\n",
    "leaf = range(1,6)\n",
    "for i in leaf:\n",
    "    RF = RandomForestRegressor(n_estimators = 8000,\n",
    "                               max_features = 10, # from prev\n",
    "                               min_samples_leaf = i,\n",
    "                               oob_score = True)\n",
    "    scores = cross_val_score(RF, X, y, cv=10, scoring='mean_squared_error')\n",
    "    score.append(np.mean(np.sqrt(-scores)))\n",
    "# RF.fit(X,y)"
   ]
  },
  {
   "cell_type": "code",
   "execution_count": 11,
   "metadata": {
    "collapsed": false
   },
   "outputs": [
    {
     "data": {
      "text/plain": [
       "<matplotlib.axes._subplots.AxesSubplot at 0x102b8a490>"
      ]
     },
     "execution_count": 11,
     "metadata": {},
     "output_type": "execute_result"
    },
    {
     "data": {
      "image/png": "[encoded data removed]",
      "text/plain": [
       "<matplotlib.figure.Figure at 0x102c20d10>"
      ]
     },
     "metadata": {},
     "output_type": "display_data"
    }
   ],
   "source": [
    "Depth_Choice_df = pd.DataFrame({'cv_scores': score ,'MinSampleLeaf': leaf})\n",
    "Depth_Choice_df.plot(x ='MinSampleLeaf',y ='cv_scores')"
   ]
  },
  {
   "cell_type": "markdown",
   "metadata": {
    "collapsed": true
   },
   "source": [
    "WHAT BE YONDER ERROR, FRIEND?!"
   ]
  },
  {
   "cell_type": "code",
   "execution_count": 14,
   "metadata": {
    "collapsed": false
   },
   "outputs": [
    {
     "name": "stdout",
     "output_type": "stream",
     "text": [
      "0.0667249834952\n"
     ]
    }
   ],
   "source": [
    "from sklearn import cross_validation\n",
    "kf = cross_validation.KFold(len(SpamData), n_folds = 10, shuffle = True)\n",
    "scores = []\n",
    "\n",
    "RF = RandomForestRegressor(n_estimators = 8000,\n",
    "                       max_features = 10, # from prev\n",
    "                       min_samples_leaf = 1,\n",
    "                       oob_score = True)\n",
    "\n",
    "for train_index, test_index in kf:\n",
    "        RF.fit(X.iloc[train_index], y.iloc[train_index])\n",
    "        y_hat_test = e.predict(X.iloc[test_index]) \n",
    "        scores.append(float(sum(y_hat_test == y.iloc[test_index]))/len(y_hat_test))\n",
    "\n",
    "Tree_CV = np.mean(scores)    \n",
    "\n",
    "print(Tree_CV) "
   ]
  },
  {
   "cell_type": "markdown",
   "metadata": {},
   "source": [
    "Wait, what?"
   ]
  },
  {
   "cell_type": "code",
   "execution_count": 15,
   "metadata": {
    "collapsed": false
   },
   "outputs": [
    {
     "name": "stdout",
     "output_type": "stream",
     "text": [
      "0.933275016505\n"
     ]
    }
   ],
   "source": [
    "print 1-Tree_CV"
   ]
  },
  {
   "cell_type": "code",
   "execution_count": 20,
   "metadata": {
    "collapsed": false
   },
   "outputs": [
    {
     "data": {
      "text/plain": [
       "0.84295427909786169"
      ]
     },
     "execution_count": 20,
     "metadata": {},
     "output_type": "execute_result"
    }
   ],
   "source": [
    "RF.oob_score_"
   ]
  },
  {
   "cell_type": "code",
   "execution_count": 19,
   "metadata": {
    "collapsed": false
   },
   "outputs": [
    {
     "data": {
      "text/plain": [
       "[(0.14229912915266038, 'char_freq_!'),\n",
       " (0.10620847638751978, 'char_freq_$'),\n",
       " (0.089438534762963554, 'word_freq_remove'),\n",
       " (0.074145608155481102, 'word_freq_free'),\n",
       " (0.063820267559396224, 'capital_run_length_average'),\n",
       " (0.059281497359193198, 'word_freq_your'),\n",
       " (0.051677993510880316, 'capital_run_length_longest'),\n",
       " (0.044465469809318356, 'word_freq_hp'),\n",
       " (0.040144033643405817, 'capital_run_length_total'),\n",
       " (0.037370775981599831, 'word_freq_money'),\n",
       " (0.027605870015648157, 'word_freq_our'),\n",
       " (0.02491284639591507, 'word_freq_you'),\n",
       " (0.019149685100683555, 'word_freq_000'),\n",
       " (0.018003466932802581, 'word_freq_edu'),\n",
       " (0.0168953676595862, 'word_freq_george'),\n",
       " (0.015363229731465375, 'word_freq_hpl'),\n",
       " (0.012088390864255978, 'word_freq_1999'),\n",
       " (0.011265355207765405, 'char_freq_('),\n",
       " (0.010991863473135638, 'word_freq_internet'),\n",
       " (0.010579261470284929, 'word_freq_business'),\n",
       " (0.010406331300662531, 'word_freq_will'),\n",
       " (0.0092872198716584496, 'word_freq_re'),\n",
       " (0.0088405239655549583, 'word_freq_receive'),\n",
       " (0.0078012927055242844, 'word_freq_all'),\n",
       " (0.0066667861901544088, 'word_freq_email'),\n",
       " (0.0066407739404977456, 'word_freq_mail'),\n",
       " (0.0063240578464981928, 'word_freq_over'),\n",
       " (0.0057633595931214695, 'word_freq_650'),\n",
       " (0.0046187802858872872, 'word_freq_meeting'),\n",
       " (0.0044656790357660223, 'char_freq_;'),\n",
       " (0.0039693189723825593, 'word_freq_credit'),\n",
       " (0.003322261344610966, 'word_freq_people'),\n",
       " (0.0032716243701333267, 'word_freq_labs'),\n",
       " (0.0032305855163129987, 'word_freq_technology'),\n",
       " (0.0031977712416866068, 'word_freq_make'),\n",
       " (0.0031539091522157742, 'word_freq_address'),\n",
       " (0.0030863413602218292, 'word_freq_order'),\n",
       " (0.0030281992924494818, 'word_freq_85'),\n",
       " (0.002982040674594913, 'word_freq_pm'),\n",
       " (0.002577263729317195, 'char_freq_#'),\n",
       " (0.0022814274487971903, 'word_freq_data'),\n",
       " (0.00220122693662259, 'char_freq_['),\n",
       " (0.0020971346584768473, 'word_freq_font'),\n",
       " (0.0019858006941065446, 'word_freq_report'),\n",
       " (0.001587092827752337, 'word_freq_telnet'),\n",
       " (0.0015428982104053644, 'word_freq_original'),\n",
       " (0.0014699061871203828, 'word_freq_project'),\n",
       " (0.0013772801467674377, 'word_freq_lab'),\n",
       " (0.0010738136279689087, 'word_freq_addresses'),\n",
       " (0.0010383396971540932, 'word_freq_conference'),\n",
       " (0.00099543777799944552, 'word_freq_3d'),\n",
       " (0.00094802217810472603, 'word_freq_cs'),\n",
       " (0.00080027404234840074, 'word_freq_direct'),\n",
       " (0.00078584367799509403, 'word_freq_857'),\n",
       " (0.00077991400530352535, 'word_freq_415'),\n",
       " (0.00050079690312917612, 'word_freq_parts'),\n",
       " (0.00019354741673387123, 'word_freq_table')]"
      ]
     },
     "execution_count": 19,
     "metadata": {},
     "output_type": "execute_result"
    }
   ],
   "source": [
    "sorted(zip(RF.feature_importances_,X.columns.values),reverse=True)"
   ]
  },
  {
   "cell_type": "code",
   "execution_count": 23,
   "metadata": {
    "collapsed": true
   },
   "outputs": [],
   "source": [
    "from sklearn.ensemble import RandomForestRegressor\n",
    "from sklearn.ensemble import GradientBoostingRegressor"
   ]
  },
  {
   "cell_type": "code",
   "execution_count": 28,
   "metadata": {
    "collapsed": false
   },
   "outputs": [
    {
     "name": "stdout",
     "output_type": "stream",
     "text": [
      "0.25399190307\n"
     ]
    }
   ],
   "source": [
    "boost = GradientBoostingRegressor(learning_rate = 0.01,\n",
    "                                     n_estimators = 8000,\n",
    "                                     max_depth = 2,\n",
    "                                     min_samples_leaf = 5  )\n",
    "scores = cross_val_score(boost, X, y, cv=10, scoring='mean_squared_error')\n",
    "print (np.mean(np.sqrt(-scores)))"
   ]
  },
  {
   "cell_type": "code",
   "execution_count": 29,
   "metadata": {
    "collapsed": true
   },
   "outputs": [],
   "source": [
    "depth = range(1,5)\n",
    "score = []\n",
    "for i in depth:\n",
    "                boost = GradientBoostingRegressor(learning_rate = 0.01,\n",
    "                                             n_estimators = 10000,\n",
    "                                             max_depth = i,\n",
    "                                             min_samples_leaf = 5  )  \n",
    "                scores = cross_val_score(boost, X, y, cv=10, scoring='mean_squared_error')\n",
    "                score.append(np.mean(np.sqrt(-scores)))"
   ]
  },
  {
   "cell_type": "code",
   "execution_count": 30,
   "metadata": {
    "collapsed": false
   },
   "outputs": [
    {
     "data": {
      "text/plain": [
       "<matplotlib.axes._subplots.AxesSubplot at 0x10dc95550>"
      ]
     },
     "execution_count": 30,
     "metadata": {},
     "output_type": "execute_result"
    },
    {
     "data": {
      "image/png": "[encoded data removed]",
      "text/plain": [
       "<matplotlib.figure.Figure at 0x10d912190>"
      ]
     },
     "metadata": {},
     "output_type": "display_data"
    }
   ],
   "source": [
    "Depth_Choice_df = pd.DataFrame({'CV_Error': score ,'Max_Depth': depth})\n",
    "Depth_Choice_df.plot(x ='Max_Depth',y = 'CV_Error' )"
   ]
  },
  {
   "cell_type": "code",
   "execution_count": null,
   "metadata": {
    "collapsed": true
   },
   "outputs": [],
   "source": []
  },
  {
   "cell_type": "code",
   "execution_count": null,
   "metadata": {
    "collapsed": false
   },
   "outputs": [],
   "source": [
    "lambd = [0.001,0.01,0.05,0.08,0.1]\n",
    "score = []\n",
    "for i in lambd:\n",
    "    boost = GradientBoostingRegressor(learning_rate = i,\n",
    "                                 n_estimators = 10000,\n",
    "                                 max_depth = 3,\n",
    "                                 min_samples_leaf = 5 )\n",
    "    scores = cross_val_score(boost, X, y, cv=10, scoring='mean_squared_error')\n",
    "    score.append(np.mean(np.sqrt(-scores)))"
   ]
  },
  {
   "cell_type": "code",
   "execution_count": null,
   "metadata": {
    "collapsed": true
   },
   "outputs": [],
   "source": [
    "Wait, what"
   ]
  }
 ],
 "metadata": {
  "kernelspec": {
   "display_name": "Python 2",
   "language": "python",
   "name": "python2"
  },
  "language_info": {
   "codemirror_mode": {
    "name": "ipython",
    "version": 2
   },
   "file_extension": ".py",
   "mimetype": "text/x-python",
   "name": "python",
   "nbconvert_exporter": "python",
   "pygments_lexer": "ipython2",
   "version": "2.7.11"
  }
 },
 "nbformat": 4,
 "nbformat_minor": 0
}
