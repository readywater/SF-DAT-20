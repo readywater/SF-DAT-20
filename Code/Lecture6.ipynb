{
 "cells": [
  {
   "cell_type": "code",
   "execution_count": 1,
   "metadata": {
    "collapsed": true
   },
   "outputs": [],
   "source": [
    "import pandas as pd\n",
    "import numpy as np\n",
    "import matplotlib.pyplot as plt\n",
    "%matplotlib inline\n",
    "from sklearn import linear_model\n",
    "import random\n",
    "from sklearn import feature_selection\n",
    "import statsmodels.formula.api as smf\n",
    "from sklearn import metrics"
   ]
  },
  {
   "cell_type": "markdown",
   "metadata": {},
   "source": [
    "Let's assume here is your actual output\n",
    "y = [1,2,3,4,5]\n",
    "\n",
    "And your prediction is\n",
    "\n",
    "y_predict = [2,2,3,4,5]\n",
    "\n",
    "Your MSE is ((1-2)^2 + (2-2)^2 + ... + (5-5)^2)/5 = 1/5 = .2"
   ]
  },
  {
   "cell_type": "code",
   "execution_count": 2,
   "metadata": {
    "collapsed": false
   },
   "outputs": [
    {
     "data": {
      "text/plain": [
       "0.20000000000000001"
      ]
     },
     "execution_count": 2,
     "metadata": {},
     "output_type": "execute_result"
    }
   ],
   "source": [
    "#Let's find MSE using sklearn \n",
    "\n",
    "y = [1,2,3,4,5]\n",
    "y_predict = [2,2,3,4,5]\n",
    "metrics.mean_squared_error(y,y_predict)"
   ]
  },
  {
   "cell_type": "code",
   "execution_count": 3,
   "metadata": {
    "collapsed": false
   },
   "outputs": [
    {
     "data": {
      "text/plain": [
       "<matplotlib.axes._subplots.AxesSubplot at 0x110253ad0>"
      ]
     },
     "execution_count": 3,
     "metadata": {},
     "output_type": "execute_result"
    },
    {
     "data": {
      "image/png": "[encoded data removed]",
      "text/plain": [
       "<matplotlib.figure.Figure at 0x10fe95a90>"
      ]
     },
     "metadata": {},
     "output_type": "display_data"
    }
   ],
   "source": [
    "#Let's generate 300 random numbers between -10 and 10\n",
    "x = np.zeros(300)\n",
    "for i in range(300):\n",
    "   x[i] = random.uniform(-10, 10)\n",
    "\n",
    "#Let's generate some error term with mean 0 and s.d. = 20\n",
    "error = np.random.normal(0,20,300)\n",
    "#Now let's generate y with a polynomial degree 2 relationship with x\n",
    "\n",
    "y = 3 + 1.5 * x + 4 * (x ** 2) + error\n",
    "df = pd.DataFrame({'X': x, 'y': y})\n",
    "\n",
    "df.plot(kind = 'scatter', x = 'X', y = 'y')"
   ]
  },
  {
   "cell_type": "code",
   "execution_count": 4,
   "metadata": {
    "collapsed": false
   },
   "outputs": [
    {
     "data": {
      "text/html": [
       "<div>\n",
       "<table border=\"1\" class=\"dataframe\">\n",
       "  <thead>\n",
       "    <tr style=\"text-align: right;\">\n",
       "      <th></th>\n",
       "      <th>X</th>\n",
       "      <th>y</th>\n",
       "      <th>X_2</th>\n",
       "      <th>X_3</th>\n",
       "      <th>X_4</th>\n",
       "      <th>X_5</th>\n",
       "    </tr>\n",
       "  </thead>\n",
       "  <tbody>\n",
       "    <tr>\n",
       "      <th>0</th>\n",
       "      <td>-1.291800</td>\n",
       "      <td>5.497086</td>\n",
       "      <td>1.668748</td>\n",
       "      <td>-2.155689</td>\n",
       "      <td>2.784719</td>\n",
       "      <td>-3.597300</td>\n",
       "    </tr>\n",
       "    <tr>\n",
       "      <th>1</th>\n",
       "      <td>-7.349362</td>\n",
       "      <td>207.888249</td>\n",
       "      <td>54.013126</td>\n",
       "      <td>-396.962028</td>\n",
       "      <td>2917.417750</td>\n",
       "      <td>-21441.159923</td>\n",
       "    </tr>\n",
       "  </tbody>\n",
       "</table>\n",
       "</div>"
      ],
      "text/plain": [
       "          X           y        X_2         X_3          X_4           X_5\n",
       "0 -1.291800    5.497086   1.668748   -2.155689     2.784719     -3.597300\n",
       "1 -7.349362  207.888249  54.013126 -396.962028  2917.417750 -21441.159923"
      ]
     },
     "execution_count": 4,
     "metadata": {},
     "output_type": "execute_result"
    }
   ],
   "source": [
    "#Now let's add few non-linear terms to our data frame\n",
    "df['X_2'] = df.X ** 2\n",
    "df['X_3'] = df.X ** 3\n",
    "df['X_4'] = df.X ** 4\n",
    "df['X_5'] = df.X ** 5\n",
    "\n",
    "df.head(2)"
   ]
  },
  {
   "cell_type": "code",
   "execution_count": 5,
   "metadata": {
    "collapsed": false
   },
   "outputs": [],
   "source": [
    "X1 = df[['X']]\n",
    "X2 = df[['X','X_2']]\n",
    "X3 = df[['X','X_2','X_3']]\n",
    "X4 = df[['X','X_2','X_3','X_4']]\n",
    "X5 = df[['X','X_2','X_3','X_4','X_5']]\n",
    "y = df['y']"
   ]
  },
  {
   "cell_type": "code",
   "execution_count": 6,
   "metadata": {
    "collapsed": false
   },
   "outputs": [
    {
     "name": "stdout",
     "output_type": "stream",
     "text": [
      "[ 0.68078292]\n",
      "[  6.80782919e-001   3.26660640e-231]\n",
      "[  6.80782919e-001   3.26660640e-231   7.17805288e-001]\n",
      "[  6.80782919e-001   3.26660640e-231   7.17805288e-001   5.80283393e-145]\n",
      "[  6.80782919e-001   3.26660640e-231   7.17805288e-001   5.80283393e-145\n",
      "   6.52435048e-001]\n"
     ]
    }
   ],
   "source": [
    "lm = linear_model.LinearRegression()\n",
    "MSE = np.zeros(5)\n",
    "j = 0\n",
    "for i in [X1,X2,X3,X4,X5]:\n",
    "    lm.fit(i,y)\n",
    "    MSE[j] = (metrics.mean_squared_error(lm.predict(i),y))\n",
    "    pvals = feature_selection.f_regression(i,y)[1]\n",
    "    print(pvals)\n",
    "    j += 1\n",
    "\n"
   ]
  },
  {
   "cell_type": "markdown",
   "metadata": {},
   "source": [
    "#### in comparison to R, sklearn is using a different method to estimate p-values. P-values in sklearn are not reliable. If you want to use p-values, use statsmodels.formula.api"
   ]
  },
  {
   "cell_type": "code",
   "execution_count": 7,
   "metadata": {
    "collapsed": false
   },
   "outputs": [
    {
     "name": "stdout",
     "output_type": "stream",
     "text": [
      "                            OLS Regression Results                            \n",
      "==============================================================================\n",
      "Dep. Variable:                      y   R-squared:                       0.001\n",
      "Model:                            OLS   Adj. R-squared:                 -0.003\n",
      "Method:                 Least Squares   F-statistic:                    0.1696\n",
      "Date:                Wed, 17 Feb 2016   Prob (F-statistic):              0.681\n",
      "Time:                        10:23:50   Log-Likelihood:                -1869.0\n",
      "No. Observations:                 300   AIC:                             3742.\n",
      "Df Residuals:                     298   BIC:                             3749.\n",
      "Df Model:                           1                                         \n",
      "Covariance Type:            nonrobust                                         \n",
      "==============================================================================\n",
      "                 coef    std err          t      P>|t|      [95.0% Conf. Int.]\n",
      "------------------------------------------------------------------------------\n",
      "Intercept    137.0877      7.134     19.216      0.000       123.049   151.127\n",
      "i             -0.5060      1.229     -0.412      0.681        -2.924     1.912\n",
      "==============================================================================\n",
      "Omnibus:                       57.553   Durbin-Watson:                   2.054\n",
      "Prob(Omnibus):                  0.000   Jarque-Bera (JB):               26.213\n",
      "Skew:                           0.547   Prob(JB):                     2.03e-06\n",
      "Kurtosis:                       2.051   Cond. No.                         5.82\n",
      "==============================================================================\n",
      "\n",
      "Warnings:\n",
      "[1] Standard Errors assume that the covariance matrix of the errors is correctly specified.\n",
      "                            OLS Regression Results                            \n",
      "==============================================================================\n",
      "Dep. Variable:                      y   R-squared:                       0.973\n",
      "Model:                            OLS   Adj. R-squared:                  0.973\n",
      "Method:                 Least Squares   F-statistic:                     5400.\n",
      "Date:                Wed, 17 Feb 2016   Prob (F-statistic):          3.11e-234\n",
      "Time:                        10:23:50   Log-Likelihood:                -1326.0\n",
      "No. Observations:                 300   AIC:                             2658.\n",
      "Df Residuals:                     297   BIC:                             2669.\n",
      "Df Model:                           2                                         \n",
      "Covariance Type:            nonrobust                                         \n",
      "==============================================================================\n",
      "                 coef    std err          t      P>|t|      [95.0% Conf. Int.]\n",
      "------------------------------------------------------------------------------\n",
      "Intercept      1.0170      1.756      0.579      0.563        -2.438     4.472\n",
      "i[0]           1.0003      0.202      4.953      0.000         0.603     1.398\n",
      "i[1]           4.0556      0.039    103.891      0.000         3.979     4.132\n",
      "==============================================================================\n",
      "Omnibus:                        2.662   Durbin-Watson:                   1.901\n",
      "Prob(Omnibus):                  0.264   Jarque-Bera (JB):                2.478\n",
      "Skew:                           0.221   Prob(JB):                        0.290\n",
      "Kurtosis:                       3.058   Cond. No.                         67.9\n",
      "==============================================================================\n",
      "\n",
      "Warnings:\n",
      "[1] Standard Errors assume that the covariance matrix of the errors is correctly specified.\n",
      "                            OLS Regression Results                            \n",
      "==============================================================================\n",
      "Dep. Variable:                      y   R-squared:                       0.973\n",
      "Model:                            OLS   Adj. R-squared:                  0.973\n",
      "Method:                 Least Squares   F-statistic:                     3596.\n",
      "Date:                Wed, 17 Feb 2016   Prob (F-statistic):          1.85e-232\n",
      "Time:                        10:23:50   Log-Likelihood:                -1325.6\n",
      "No. Observations:                 300   AIC:                             2659.\n",
      "Df Residuals:                     296   BIC:                             2674.\n",
      "Df Model:                           3                                         \n",
      "Covariance Type:            nonrobust                                         \n",
      "==============================================================================\n",
      "                 coef    std err          t      P>|t|      [95.0% Conf. Int.]\n",
      "------------------------------------------------------------------------------\n",
      "Intercept      1.0223      1.757      0.582      0.561        -2.435     4.480\n",
      "i[0]           0.6066      0.522      1.161      0.246        -0.421     1.635\n",
      "i[1]           4.0557      0.039    103.836      0.000         3.979     4.133\n",
      "i[2]           0.0065      0.008      0.817      0.414        -0.009     0.022\n",
      "==============================================================================\n",
      "Omnibus:                        2.644   Durbin-Watson:                   1.886\n",
      "Prob(Omnibus):                  0.267   Jarque-Bera (JB):                2.491\n",
      "Skew:                           0.222   Prob(JB):                        0.288\n",
      "Kurtosis:                       3.036   Cond. No.                         571.\n",
      "==============================================================================\n",
      "\n",
      "Warnings:\n",
      "[1] Standard Errors assume that the covariance matrix of the errors is correctly specified.\n",
      "                            OLS Regression Results                            \n",
      "==============================================================================\n",
      "Dep. Variable:                      y   R-squared:                       0.973\n",
      "Model:                            OLS   Adj. R-squared:                  0.973\n",
      "Method:                 Least Squares   F-statistic:                     2694.\n",
      "Date:                Wed, 17 Feb 2016   Prob (F-statistic):          8.78e-231\n",
      "Time:                        10:23:50   Log-Likelihood:                -1325.3\n",
      "No. Observations:                 300   AIC:                             2661.\n",
      "Df Residuals:                     295   BIC:                             2679.\n",
      "Df Model:                           4                                         \n",
      "Covariance Type:            nonrobust                                         \n",
      "==============================================================================\n",
      "                 coef    std err          t      P>|t|      [95.0% Conf. Int.]\n",
      "------------------------------------------------------------------------------\n",
      "Intercept      0.0083      2.170      0.004      0.997        -4.263     4.279\n",
      "i[0]           0.6614      0.527      1.255      0.211        -0.376     1.699\n",
      "i[1]           4.1621      0.139     29.923      0.000         3.888     4.436\n",
      "i[2]           0.0058      0.008      0.715      0.475        -0.010     0.022\n",
      "i[3]          -0.0013      0.002     -0.797      0.426        -0.004     0.002\n",
      "==============================================================================\n",
      "Omnibus:                        2.496   Durbin-Watson:                   1.875\n",
      "Prob(Omnibus):                  0.287   Jarque-Bera (JB):                2.408\n",
      "Skew:                           0.219   Prob(JB):                        0.300\n",
      "Kurtosis:                       2.991   Cond. No.                     6.18e+03\n",
      "==============================================================================\n",
      "\n",
      "Warnings:\n",
      "[1] Standard Errors assume that the covariance matrix of the errors is correctly specified.\n",
      "[2] The condition number is large, 6.18e+03. This might indicate that there are\n",
      "strong multicollinearity or other numerical problems.\n",
      "                            OLS Regression Results                            \n",
      "==============================================================================\n",
      "Dep. Variable:                      y   R-squared:                       0.973\n",
      "Model:                            OLS   Adj. R-squared:                  0.973\n",
      "Method:                 Least Squares   F-statistic:                     2149.\n",
      "Date:                Wed, 17 Feb 2016   Prob (F-statistic):          4.42e-229\n",
      "Time:                        10:23:50   Log-Likelihood:                -1325.2\n",
      "No. Observations:                 300   AIC:                             2662.\n",
      "Df Residuals:                     294   BIC:                             2685.\n",
      "Df Model:                           5                                         \n",
      "Covariance Type:            nonrobust                                         \n",
      "==============================================================================\n",
      "                 coef    std err          t      P>|t|      [95.0% Conf. Int.]\n",
      "------------------------------------------------------------------------------\n",
      "Intercept      0.0269      2.174      0.012      0.990        -4.251     4.305\n",
      "i[0]           0.3473      0.899      0.387      0.699        -1.421     2.116\n",
      "i[1]           4.1663      0.140     29.838      0.000         3.892     4.441\n",
      "i[2]           0.0205      0.035      0.585      0.559        -0.048     0.089\n",
      "i[3]          -0.0013      0.002     -0.831      0.406        -0.004     0.002\n",
      "i[4]          -0.0001      0.000     -0.432      0.666        -0.001     0.000\n",
      "==============================================================================\n",
      "Omnibus:                        2.249   Durbin-Watson:                   1.880\n",
      "Prob(Omnibus):                  0.325   Jarque-Bera (JB):                2.161\n",
      "Skew:                           0.208   Prob(JB):                        0.339\n",
      "Kurtosis:                       2.992   Cond. No.                     5.55e+04\n",
      "==============================================================================\n",
      "\n",
      "Warnings:\n",
      "[1] Standard Errors assume that the covariance matrix of the errors is correctly specified.\n",
      "[2] The condition number is large, 5.55e+04. This might indicate that there are\n",
      "strong multicollinearity or other numerical problems.\n"
     ]
    }
   ],
   "source": [
    "for i in [X1,X2,X3,X4,X5]:\n",
    "    lm1 = smf.ols(formula='y ~ i', data=df).fit()\n",
    "    print(lm1.summary())\n"
   ]
  },
  {
   "cell_type": "markdown",
   "metadata": {},
   "source": [
    "#### Based on P-values, it is clear that our models are only valid up to 2 degrees of polynomial. After that coefficients are not statistically significant. "
   ]
  },
  {
   "cell_type": "markdown",
   "metadata": {},
   "source": [
    "# Validation"
   ]
  },
  {
   "cell_type": "markdown",
   "metadata": {},
   "source": [
    "As much as sklearn performs weak for p-values, it is a great tool for splitting data into Training and Test set. "
   ]
  },
  {
   "cell_type": "code",
   "execution_count": 8,
   "metadata": {
    "collapsed": false
   },
   "outputs": [
    {
     "name": "stdout",
     "output_type": "stream",
     "text": [
      "('MSE_Train =', 14357.556067247187)\n",
      "('MSE_Test =', 16664.030634366743)\n"
     ]
    }
   ],
   "source": [
    "from sklearn.cross_validation import train_test_split\n",
    "X_train, X_test, y_train, y_test = train_test_split(X1, y, test_size=0.33)\n",
    "#We train based on Training Data BUT will Test on Test Sample\n",
    "Model_train = lm.fit(X_train,y_train)\n",
    "y_Hat_train = lm.predict(X_train)\n",
    "y_Hat_test  = lm.predict(X_test)\n",
    "MSE_Train = metrics.mean_squared_error(y_Hat_train,y_train)\n",
    "MSE_Test  = metrics.mean_squared_error(y_Hat_test,y_test)\n",
    "print(\"MSE_Train =\",MSE_Train)\n",
    "print(\"MSE_Test =\", MSE_Test)\n"
   ]
  },
  {
   "cell_type": "markdown",
   "metadata": {},
   "source": [
    "Now, it's time to use Validation techniques to test which model is more significant. Remember we need to train based on training sets but test the performance on test set."
   ]
  },
  {
   "cell_type": "code",
   "execution_count": 9,
   "metadata": {
    "collapsed": false
   },
   "outputs": [
    {
     "data": {
      "text/plain": [
       "<matplotlib.axes._subplots.AxesSubplot at 0x10cb486d0>"
      ]
     },
     "execution_count": 9,
     "metadata": {},
     "output_type": "execute_result"
    },
    {
     "data": {
      "image/png": "[encoded data removed]",
      "text/plain": [
       "<matplotlib.figure.Figure at 0x1102b5250>"
      ]
     },
     "metadata": {},
     "output_type": "display_data"
    }
   ],
   "source": [
    "MSE_test = np.zeros(5)\n",
    "MSE_train = np.zeros(5)\n",
    "j = 0\n",
    "for i in [X1,X2,X3,X4,X5]:\n",
    "    X_train, X_test, y_train, y_test = train_test_split(i, y, test_size=0.33)\n",
    "    lm.fit(X_train,y_train)\n",
    "    MSE_test[j] = (metrics.mean_squared_error(lm.predict(X_test),y_test))\n",
    "    MSE_train[j] = (metrics.mean_squared_error(lm.predict(X_train),y_train))\n",
    "    j += 1\n",
    "\n",
    "index = np.array(range(5)) + 1\n",
    "MSE_Test_df = pd.DataFrame({'MSE_test':MSE_test,'index':index})\n",
    "MSE_Test_df.plot(x = 'index',y= 'MSE_test')\n"
   ]
  },
  {
   "cell_type": "markdown",
   "metadata": {},
   "source": [
    "Based on test-set MSE, we decide to choose Model 2 - polynomial degree 2. Remember ** THE SIMPLER THE BETTER **."
   ]
  },
  {
   "cell_type": "markdown",
   "metadata": {},
   "source": [
    "# Cross-Validation"
   ]
  },
  {
   "cell_type": "markdown",
   "metadata": {},
   "source": [
    "sklearn is great for Cross-Validation. 10 fold and 5 fold cross-validation are the most famous cross-validation techniques. "
   ]
  },
  {
   "cell_type": "code",
   "execution_count": 10,
   "metadata": {
    "collapsed": false
   },
   "outputs": [
    {
     "name": "stdout",
     "output_type": "stream",
     "text": [
      "[440.68041618740375, 358.33571583826108, 423.63559937590435, 451.16741786539387, 386.35707304955667]\n",
      "412.035244463\n"
     ]
    }
   ],
   "source": [
    "from sklearn import cross_validation\n",
    "kf = cross_validation.KFold(len(df), n_folds = 5, shuffle = True)\n",
    "scores = []\n",
    "for train_index, test_index in kf:\n",
    "    lm = linear_model.LinearRegression().fit(X2.iloc[train_index], y.iloc[train_index])\n",
    "    scores.append(metrics.mean_squared_error(y.iloc[test_index], lm.predict(X2.iloc[test_index])))\n",
    "\n",
    "print(scores)\n",
    "print(np.mean(scores))\n",
    "    \n",
    "  "
   ]
  },
  {
   "cell_type": "markdown",
   "metadata": {},
   "source": [
    "#### Now, let's use cross validation to decide which degree of polynomials is suitable for our simulated model. "
   ]
  },
  {
   "cell_type": "code",
   "execution_count": 11,
   "metadata": {
    "collapsed": false
   },
   "outputs": [
    {
     "name": "stdout",
     "output_type": "stream",
     "text": [
      "[15317.324083876254, 414.67070311026362, 421.69437924666738, 422.46692771681683, 425.32695992212348]\n"
     ]
    },
    {
     "data": {
      "text/plain": [
       "<matplotlib.axes._subplots.AxesSubplot at 0x112b21690>"
      ]
     },
     "execution_count": 11,
     "metadata": {},
     "output_type": "execute_result"
    },
    {
     "data": {
      "image/png": "[encoded data removed]",
      "text/plain": [
       "<matplotlib.figure.Figure at 0x10a980b90>"
      ]
     },
     "metadata": {},
     "output_type": "display_data"
    }
   ],
   "source": [
    "kf = cross_validation.KFold(len(df), n_folds = 5, shuffle = True)\n",
    "MSE_CV = []\n",
    "\n",
    "for i in [X1,X2,X3,X4,X5]:\n",
    "    scores = []\n",
    "    for train_index, test_index in kf:\n",
    "        lm = linear_model.LinearRegression().fit(i.iloc[train_index], y.iloc[train_index])\n",
    "        scores.append(metrics.mean_squared_error(y.iloc[test_index], lm.predict(i.iloc[test_index])))\n",
    "    MSE_CV.append(np.mean(scores))\n",
    "        \n",
    "        \n",
    "print(MSE_CV)\n",
    "index = np.array(range(5)) + 1\n",
    "MSE_CV_df = pd.DataFrame({'MSE_CV':MSE_CV,'index':index})\n",
    "MSE_CV_df.plot(x = 'index',y= 'MSE_CV')"
   ]
  },
  {
   "cell_type": "markdown",
   "metadata": {},
   "source": [
    "Again, 5-fold cross-validation suggests that polynomial degree 2 is our best model. "
   ]
  },
  {
   "cell_type": "markdown",
   "metadata": {},
   "source": [
    "# Lasso and Ridge Regression"
   ]
  },
  {
   "cell_type": "markdown",
   "metadata": {},
   "source": [
    "We are going to use Credit data. We will first add dummy variables and drop original qualitative values. "
   ]
  },
  {
   "cell_type": "code",
   "execution_count": 12,
   "metadata": {
    "collapsed": false
   },
   "outputs": [
    {
     "data": {
      "text/html": [
       "<div>\n",
       "<table border=\"1\" class=\"dataframe\">\n",
       "  <thead>\n",
       "    <tr style=\"text-align: right;\">\n",
       "      <th></th>\n",
       "      <th>Income</th>\n",
       "      <th>Limit</th>\n",
       "      <th>Rating</th>\n",
       "      <th>Cards</th>\n",
       "      <th>Age</th>\n",
       "      <th>Education</th>\n",
       "      <th>Balance</th>\n",
       "      <th>Race_Asian</th>\n",
       "      <th>Race_Caucasian</th>\n",
       "      <th>Gender_Female</th>\n",
       "      <th>Married_Yes</th>\n",
       "      <th>Student_Yes</th>\n",
       "    </tr>\n",
       "  </thead>\n",
       "  <tbody>\n",
       "    <tr>\n",
       "      <th>0</th>\n",
       "      <td>14.891</td>\n",
       "      <td>3606</td>\n",
       "      <td>283</td>\n",
       "      <td>2</td>\n",
       "      <td>34</td>\n",
       "      <td>11</td>\n",
       "      <td>333</td>\n",
       "      <td>0</td>\n",
       "      <td>1</td>\n",
       "      <td>0</td>\n",
       "      <td>1</td>\n",
       "      <td>0</td>\n",
       "    </tr>\n",
       "    <tr>\n",
       "      <th>1</th>\n",
       "      <td>106.025</td>\n",
       "      <td>6645</td>\n",
       "      <td>483</td>\n",
       "      <td>3</td>\n",
       "      <td>82</td>\n",
       "      <td>15</td>\n",
       "      <td>903</td>\n",
       "      <td>1</td>\n",
       "      <td>0</td>\n",
       "      <td>1</td>\n",
       "      <td>1</td>\n",
       "      <td>1</td>\n",
       "    </tr>\n",
       "  </tbody>\n",
       "</table>\n",
       "</div>"
      ],
      "text/plain": [
       "    Income  Limit  Rating  Cards  Age  Education  Balance  Race_Asian  \\\n",
       "0   14.891   3606     283      2   34         11      333           0   \n",
       "1  106.025   6645     483      3   82         15      903           1   \n",
       "\n",
       "   Race_Caucasian  Gender_Female  Married_Yes  Student_Yes  \n",
       "0               1              0            1            0  \n",
       "1               0              1            1            1  "
      ]
     },
     "execution_count": 12,
     "metadata": {},
     "output_type": "execute_result"
    }
   ],
   "source": [
    "url = \"https://raw.githubusercontent.com/ga-students/SF-DAT-20/master/Data/Credit.csv\"\n",
    "CreditData = pd.read_csv(url)\n",
    "RaceDummy = pd.get_dummies(CreditData.Ethnicity, prefix = 'Race')\n",
    "del RaceDummy['Race_African American']\n",
    "GenderDummy = pd.get_dummies(CreditData.Gender, prefix = 'Gender')\n",
    "del GenderDummy['Gender_ Male']  \n",
    "MarriedDummy = pd.get_dummies(CreditData.Married, prefix = 'Married')\n",
    "del MarriedDummy['Married_No']\n",
    "StudentDummy = pd.get_dummies(CreditData.Student, prefix = 'Student')\n",
    "del StudentDummy['Student_No']\n",
    "CreditData = pd.concat([CreditData, RaceDummy,GenderDummy,MarriedDummy,StudentDummy], axis=1)\n",
    "\n",
    "\n",
    "\n",
    "del CreditData['Unnamed: 0']\n",
    "del CreditData['Gender']\n",
    "del CreditData['Student']\n",
    "del CreditData['Married']\n",
    "del CreditData['Ethnicity']\n",
    "CreditData.head(2)"
   ]
  },
  {
   "cell_type": "markdown",
   "metadata": {},
   "source": [
    "Now we are going to divide our dataset - to output y and all inputs X."
   ]
  },
  {
   "cell_type": "code",
   "execution_count": 13,
   "metadata": {
    "collapsed": false
   },
   "outputs": [
    {
     "name": "stdout",
     "output_type": "stream",
     "text": [
      "['Income' 'Limit' 'Rating' 'Cards' 'Age' 'Education' 'Balance' 'Race_Asian'\n",
      " 'Race_Caucasian' 'Gender_Female' 'Married_Yes' 'Student_Yes']\n"
     ]
    }
   ],
   "source": [
    "\n",
    "listOfAllVariables = CreditData.columns.values\n",
    "print(listOfAllVariables)\n",
    "X = CreditData[listOfAllVariables]\n",
    "del X['Balance']\n",
    "y = CreditData['Balance']\n"
   ]
  },
  {
   "cell_type": "code",
   "execution_count": 14,
   "metadata": {
    "collapsed": false
   },
   "outputs": [
    {
     "name": "stderr",
     "output_type": "stream",
     "text": [
      "//anaconda/lib/python2.7/site-packages/sklearn/linear_model/coordinate_descent.py:466: ConvergenceWarning: Objective did not converge. You might want to increase the number of iterations\n",
      "  ConvergenceWarning)\n"
     ]
    },
    {
     "data": {
      "text/plain": [
       "array([ -7.79768835e+00,   1.89911017e-01,   1.14879401e+00,\n",
       "         1.71481939e+01,  -6.23887605e-01,  -9.72072517e-01,\n",
       "         4.56163923e+00,   0.00000000e+00,  -6.18488629e+00,\n",
       "        -3.90309045e+00,   4.14716815e+02])"
      ]
     },
     "execution_count": 14,
     "metadata": {},
     "output_type": "execute_result"
    }
   ],
   "source": [
    "#this was a lasso regression with default values\n",
    "lm_lasso = linear_model.Lasso().fit(X,y)\n",
    "lm_lasso.coef_"
   ]
  },
  {
   "cell_type": "markdown",
   "metadata": {},
   "source": [
    "We need to use CV to decide on the optimal level of Alpha - the parameter of Lasso Regressions. "
   ]
  },
  {
   "cell_type": "code",
   "execution_count": 15,
   "metadata": {
    "collapsed": false
   },
   "outputs": [
    {
     "name": "stdout",
     "output_type": "stream",
     "text": [
      "Alpha: 1e-10\n",
      "Alpha: 1e-09\n",
      "Alpha: 1e-08\n",
      "Alpha: 1e-07\n",
      "Alpha: 1e-06\n",
      "Alpha: 1e-05\n",
      "Alpha: 0.0001\n",
      "Alpha: 0.001\n",
      "Alpha: 0.01\n",
      "Alpha: 0.1\n",
      "Alpha: 1.0\n",
      "Alpha: 10.0\n",
      "Alpha: 100.0\n",
      "Alpha: 1000.0\n",
      "Alpha: 10000.0\n",
      "Alpha: 100000.0\n",
      "Alpha: 1000000.0\n",
      "Alpha: 10000000.0\n",
      "Alpha: 100000000.0\n",
      "Alpha: 1000000000.0\n",
      "Alpha: 10000000000.0\n"
     ]
    },
    {
     "data": {
      "text/plain": [
       "<matplotlib.axes._subplots.AxesSubplot at 0x113a12ed0>"
      ]
     },
     "execution_count": 15,
     "metadata": {},
     "output_type": "execute_result"
    },
    {
     "data": {
      "image/png": "[encoded data removed]",
      "text/plain": [
       "<matplotlib.figure.Figure at 0x1138c78d0>"
      ]
     },
     "metadata": {},
     "output_type": "display_data"
    }
   ],
   "source": [
    "kf = cross_validation.KFold(len(CreditData), n_folds = 5, shuffle = True)\n",
    "MSE_Lasso_CV = []\n",
    "alphas = np.logspace(-10, 10, 21)\n",
    "alphas_index = np.linspace(-10,10,21)\n",
    "scores = []\n",
    "for a in alphas:\n",
    "    print 'Alpha:', a\n",
    "    scores = []\n",
    "    for train_index, test_index in kf:\n",
    "        lm = linear_model.Lasso(alpha=a).fit(X.iloc[train_index], y.iloc[train_index])\n",
    "        scores.append(metrics.mean_squared_error(y.iloc[test_index], lm.predict(X.iloc[test_index])))\n",
    "    MSE_Lasso_CV.append(np.mean(scores))\n",
    "\n",
    "\n",
    "\n",
    "index = alphas\n",
    "MSE_Lasso_CV_df = pd.DataFrame({'MSE_Lasso_CV': MSE_Lasso_CV ,'Log_Alphas': alphas_index })\n",
    "MSE_Lasso_CV_df.plot(x = 'Log_Alphas',y = 'MSE_Lasso_CV')"
   ]
  },
  {
   "cell_type": "code",
   "execution_count": 16,
   "metadata": {
    "collapsed": false
   },
   "outputs": [
    {
     "name": "stdout",
     "output_type": "stream",
     "text": [
      "[(-7.74527021884421, 'Income'), (0.15279159815242019, 'Limit'), (1.6939844409415536, 'Rating'), (9.3463465619644968, 'Cards'), (-0.64262417332434252, 'Age'), (-0.0, 'Education'), (0.0, 'Race_Asian'), (-0.0, 'Race_Caucasian'), (-0.0, 'Gender_Female'), (-0.0, 'Married_Yes'), (312.03242606548281, 'Student_Yes')]\n"
     ]
    }
   ],
   "source": [
    "#MSE is flat up to log_alpha = 1. Log_alpha results in alpha = 10 (due to its logarithmic scale)\n",
    "lm = linear_model.Lasso(alpha=10)\n",
    "lm.fit(X, y)\n",
    "print zip(lm.coef_,X.columns)\n"
   ]
  },
  {
   "cell_type": "markdown",
   "metadata": {},
   "source": [
    "#### Based on Lasso regression outputs, we decide to eliminate Gender, Marital Status, Education, and Race from our model. The coefficients that made it to our final models were Income, Limit, Rating (we shall only choose 1 of these three variables due to colinearity), Number of Cards, Age, and Studentship. Based on our previous In-Class-Practice, we were expecting to have Income and Studentship in our model. Now, since we are only left with 4 variables, we can run statistical tests and choose the most significant model. \n"
   ]
  },
  {
   "cell_type": "markdown",
   "metadata": {},
   "source": [
    "#### Ridge Regression"
   ]
  },
  {
   "cell_type": "code",
   "execution_count": 17,
   "metadata": {
    "collapsed": false
   },
   "outputs": [
    {
     "data": {
      "text/plain": [
       "<matplotlib.axes._subplots.AxesSubplot at 0x113b80050>"
      ]
     },
     "execution_count": 17,
     "metadata": {},
     "output_type": "execute_result"
    },
    {
     "data": {
      "image/png": "[encoded data removed]",
      "text/plain": [
       "<matplotlib.figure.Figure at 0x1139ab0d0>"
      ]
     },
     "metadata": {},
     "output_type": "display_data"
    }
   ],
   "source": [
    "kf = cross_validation.KFold(len(CreditData), n_folds = 5, shuffle = True)\n",
    "MSE_Ridge_CV = []\n",
    "alphas = np.logspace(-10, 10, 21)\n",
    "alphas_index = np.linspace(-10,10,21)\n",
    "scores = []\n",
    "for a in alphas:\n",
    "    #print 'Alpha:', a\n",
    "    scores = []\n",
    "    for train_index, test_index in kf:\n",
    "        lm = linear_model.Ridge(alpha=a).fit(X.iloc[train_index], y.iloc[train_index])\n",
    "        scores.append(metrics.mean_squared_error(y.iloc[test_index], lm.predict(X.iloc[test_index])))\n",
    "    MSE_Ridge_CV.append(np.mean(scores))\n",
    "\n",
    "            #print lm.coef_\n",
    "        #MSE_Lasso_CV.append(metrics.mean_squared_error(y, lm.predict(X)))\n",
    "\n",
    "index = alphas\n",
    "MSE_Ridge_CV_df = pd.DataFrame({'MSE_Ridge_CV': MSE_Ridge_CV ,'log_alpha': alphas_index })\n",
    "MSE_Ridge_CV_df.plot(x = 'log_alpha',y = 'MSE_Ridge_CV')"
   ]
  },
  {
   "cell_type": "code",
   "execution_count": 18,
   "metadata": {
    "collapsed": false
   },
   "outputs": [
    {
     "name": "stdout",
     "output_type": "stream",
     "text": [
      "[(-7.747799013419006, 'Income'), (0.17285121974515788, 'Limit'), (1.397096082461257, 'Rating'), (15.876236498182083, 'Cards'), (-0.68449356198776412, 'Age'), (-0.3747807153089881, 'Education'), (16.057222603220531, 'Race_Asian'), (6.4662844414632561, 'Race_Caucasian'), (-6.7895204897805579, 'Gender_Female'), (-12.616631546032425, 'Married_Yes'), (331.10065419030298, 'Student_Yes')]\n"
     ]
    }
   ],
   "source": [
    "#MSE is flat up to log_Alpha = 1. log_alpha = 1 results in alpha = 10 (due to its logarithmic scale)\n",
    "lm = linear_model.Ridge(alpha=10)\n",
    "lm.fit(X, y)\n",
    "print zip(lm.coef_,X.columns)"
   ]
  },
  {
   "cell_type": "markdown",
   "metadata": {},
   "source": [
    "#### Based on Ridge regression model, we are not comfortable to eliminate any variable. Generally, Lasso is much better than Ridge Regression.  "
   ]
  },
  {
   "cell_type": "markdown",
   "metadata": {},
   "source": [
    "# Scaling / Standardizing Data"
   ]
  },
  {
   "cell_type": "code",
   "execution_count": 19,
   "metadata": {
    "collapsed": true
   },
   "outputs": [],
   "source": [
    "from sklearn import preprocessing\n"
   ]
  },
  {
   "cell_type": "code",
   "execution_count": 20,
   "metadata": {
    "collapsed": true
   },
   "outputs": [],
   "source": [
    "CreditDataNew = preprocessing.scale(CreditData) #CreditDataNew is now a numpy array\n",
    "CreditDataNew = pd.DataFrame(CreditDataNew)   #We changed CreditDataNew to a dataframe\n",
    "CreditDataNew.columns = CreditData.columns.values  #We renamed columns of CreditDataNew"
   ]
  },
  {
   "cell_type": "code",
   "execution_count": 21,
   "metadata": {
    "collapsed": false
   },
   "outputs": [
    {
     "data": {
      "text/html": [
       "<div>\n",
       "<table border=\"1\" class=\"dataframe\">\n",
       "  <thead>\n",
       "    <tr style=\"text-align: right;\">\n",
       "      <th></th>\n",
       "      <th>Income</th>\n",
       "      <th>Limit</th>\n",
       "      <th>Rating</th>\n",
       "      <th>Cards</th>\n",
       "      <th>Age</th>\n",
       "      <th>Education</th>\n",
       "      <th>Balance</th>\n",
       "      <th>Race_Asian</th>\n",
       "      <th>Race_Caucasian</th>\n",
       "      <th>Gender_Female</th>\n",
       "      <th>Married_Yes</th>\n",
       "      <th>Student_Yes</th>\n",
       "    </tr>\n",
       "  </thead>\n",
       "  <tbody>\n",
       "    <tr>\n",
       "      <th>0</th>\n",
       "      <td>-0.861583</td>\n",
       "      <td>-0.489999</td>\n",
       "      <td>-0.465539</td>\n",
       "      <td>-0.699130</td>\n",
       "      <td>-1.257674</td>\n",
       "      <td>-0.784930</td>\n",
       "      <td>-0.407277</td>\n",
       "      <td>-0.585049</td>\n",
       "      <td>1.005013</td>\n",
       "      <td>-1.035635</td>\n",
       "      <td>0.795395</td>\n",
       "      <td>-0.333333</td>\n",
       "    </tr>\n",
       "    <tr>\n",
       "      <th>1</th>\n",
       "      <td>1.727437</td>\n",
       "      <td>0.828261</td>\n",
       "      <td>0.828703</td>\n",
       "      <td>0.031032</td>\n",
       "      <td>1.528451</td>\n",
       "      <td>0.496588</td>\n",
       "      <td>0.834056</td>\n",
       "      <td>1.709260</td>\n",
       "      <td>-0.995012</td>\n",
       "      <td>0.965592</td>\n",
       "      <td>0.795395</td>\n",
       "      <td>3.000000</td>\n",
       "    </tr>\n",
       "    <tr>\n",
       "      <th>2</th>\n",
       "      <td>1.686756</td>\n",
       "      <td>1.014787</td>\n",
       "      <td>1.029311</td>\n",
       "      <td>0.761194</td>\n",
       "      <td>0.889964</td>\n",
       "      <td>-0.784930</td>\n",
       "      <td>0.130634</td>\n",
       "      <td>1.709260</td>\n",
       "      <td>-0.995012</td>\n",
       "      <td>-1.035635</td>\n",
       "      <td>-1.257237</td>\n",
       "      <td>-0.333333</td>\n",
       "    </tr>\n",
       "    <tr>\n",
       "      <th>3</th>\n",
       "      <td>2.946152</td>\n",
       "      <td>2.068440</td>\n",
       "      <td>2.110003</td>\n",
       "      <td>0.031032</td>\n",
       "      <td>-1.141586</td>\n",
       "      <td>-0.784930</td>\n",
       "      <td>0.966900</td>\n",
       "      <td>1.709260</td>\n",
       "      <td>-0.995012</td>\n",
       "      <td>0.965592</td>\n",
       "      <td>-1.257237</td>\n",
       "      <td>-0.333333</td>\n",
       "    </tr>\n",
       "    <tr>\n",
       "      <th>4</th>\n",
       "      <td>0.302928</td>\n",
       "      <td>0.070012</td>\n",
       "      <td>0.013331</td>\n",
       "      <td>-0.699130</td>\n",
       "      <td>0.715831</td>\n",
       "      <td>0.816968</td>\n",
       "      <td>-0.411633</td>\n",
       "      <td>-0.585049</td>\n",
       "      <td>1.005013</td>\n",
       "      <td>-1.035635</td>\n",
       "      <td>0.795395</td>\n",
       "      <td>-0.333333</td>\n",
       "    </tr>\n",
       "  </tbody>\n",
       "</table>\n",
       "</div>"
      ],
      "text/plain": [
       "     Income     Limit    Rating     Cards       Age  Education   Balance  \\\n",
       "0 -0.861583 -0.489999 -0.465539 -0.699130 -1.257674  -0.784930 -0.407277   \n",
       "1  1.727437  0.828261  0.828703  0.031032  1.528451   0.496588  0.834056   \n",
       "2  1.686756  1.014787  1.029311  0.761194  0.889964  -0.784930  0.130634   \n",
       "3  2.946152  2.068440  2.110003  0.031032 -1.141586  -0.784930  0.966900   \n",
       "4  0.302928  0.070012  0.013331 -0.699130  0.715831   0.816968 -0.411633   \n",
       "\n",
       "   Race_Asian  Race_Caucasian  Gender_Female  Married_Yes  Student_Yes  \n",
       "0   -0.585049        1.005013      -1.035635     0.795395    -0.333333  \n",
       "1    1.709260       -0.995012       0.965592     0.795395     3.000000  \n",
       "2    1.709260       -0.995012      -1.035635    -1.257237    -0.333333  \n",
       "3    1.709260       -0.995012       0.965592    -1.257237    -0.333333  \n",
       "4   -0.585049        1.005013      -1.035635     0.795395    -0.333333  "
      ]
     },
     "execution_count": 21,
     "metadata": {},
     "output_type": "execute_result"
    }
   ],
   "source": [
    "CreditDataNew.head()"
   ]
  },
  {
   "cell_type": "code",
   "execution_count": 22,
   "metadata": {
    "collapsed": false
   },
   "outputs": [],
   "source": [
    "X = CreditDataNew[listOfAllVariables]\n",
    "del X['Balance']\n",
    "y = CreditDataNew['Balance']"
   ]
  },
  {
   "cell_type": "code",
   "execution_count": 23,
   "metadata": {
    "collapsed": false
   },
   "outputs": [
    {
     "name": "stdout",
     "output_type": "stream",
     "text": [
      "Alpha: 1e-10\n",
      "Alpha: 1e-09\n",
      "Alpha: 1e-08\n",
      "Alpha: 1e-07\n",
      "Alpha: 1e-06\n",
      "Alpha: 1e-05\n",
      "Alpha: 0.0001\n",
      "Alpha: 0.001\n",
      "Alpha: 0.01\n",
      "Alpha: 0.1\n",
      "Alpha: 1.0\n",
      "Alpha: 10.0\n",
      "Alpha: 100.0\n",
      "Alpha: 1000.0\n",
      "Alpha: 10000.0\n",
      "Alpha: 100000.0\n",
      "Alpha: 1000000.0\n",
      "Alpha: 10000000.0\n",
      "Alpha: 100000000.0\n",
      "Alpha: 1000000000.0\n",
      "Alpha: 10000000000.0\n"
     ]
    },
    {
     "data": {
      "text/plain": [
       "<matplotlib.axes._subplots.AxesSubplot at 0x10cb46a50>"
      ]
     },
     "execution_count": 23,
     "metadata": {},
     "output_type": "execute_result"
    },
    {
     "data": {
      "image/png": "[encoded data removed]",
      "text/plain": [
       "<matplotlib.figure.Figure at 0x113835850>"
      ]
     },
     "metadata": {},
     "output_type": "display_data"
    }
   ],
   "source": [
    "kf = cross_validation.KFold(len(CreditDataNew), n_folds = 5, shuffle = True)\n",
    "MSE_Lasso_CV = []\n",
    "alphas = np.logspace(-10, 10, 21)\n",
    "alphas_index = np.linspace(-10,10,21)\n",
    "scores = []\n",
    "for a in alphas:\n",
    "    print 'Alpha:', a\n",
    "    scores = []\n",
    "    for train_index, test_index in kf:\n",
    "        lm = linear_model.Lasso(alpha=a).fit(X.iloc[train_index], y.iloc[train_index])\n",
    "        scores.append(metrics.mean_squared_error(y.iloc[test_index], lm.predict(X.iloc[test_index])))\n",
    "    MSE_Lasso_CV.append(np.mean(scores))\n",
    "\n",
    "\n",
    "\n",
    "index = alphas\n",
    "MSE_Lasso_CV_df = pd.DataFrame({'MSE_Lasso_CV': MSE_Lasso_CV ,'Log_Alphas': alphas_index })\n",
    "MSE_Lasso_CV_df.plot(x = 'Log_Alphas',y = 'MSE_Lasso_CV')"
   ]
  },
  {
   "cell_type": "code",
   "execution_count": 24,
   "metadata": {
    "collapsed": false
   },
   "outputs": [
    {
     "name": "stdout",
     "output_type": "stream",
     "text": [
      "[(-0.55167106880804084, 'Income'), (0.87350643006044293, 'Limit'), (0.41941036771521439, 'Rating'), (0.042801835650123264, 'Cards'), (-0.016712885686218162, 'Age'), (-0.0, 'Education'), (0.0, 'Race_Asian'), (0.0, 'Race_Caucasian'), (-1.7624789549341989e-05, 'Gender_Female'), (-0.0, 'Married_Yes'), (0.26657472496548723, 'Student_Yes')]\n"
     ]
    }
   ],
   "source": [
    "lm = linear_model.Lasso(alpha=10**(-2))\n",
    "lm.fit(X, y)\n",
    "print zip(lm.coef_,X.columns)"
   ]
  },
  {
   "cell_type": "markdown",
   "metadata": {},
   "source": [
    "#### When you standardize data, then relative magnitude of coefficients are meaningful. Small Coefficients suggest insignificancy of inclusion of that variable in your model. In this case, Income, Limit, Rating and Student_status are considerably more significant than other variables. Among (Income, Limit and Rating) we only choose one due to high colinearity. Therefore, in are final model it is logical to keep (income, Limit, or Rating) + Student stauts. "
   ]
  },
  {
   "cell_type": "code",
   "execution_count": null,
   "metadata": {
    "collapsed": true
   },
   "outputs": [],
   "source": []
  }
 ],
 "metadata": {
  "kernelspec": {
   "display_name": "Python 2",
   "language": "python",
   "name": "python2"
  },
  "language_info": {
   "codemirror_mode": {
    "name": "ipython",
    "version": 2
   },
   "file_extension": ".py",
   "mimetype": "text/x-python",
   "name": "python",
   "nbconvert_exporter": "python",
   "pygments_lexer": "ipython2",
   "version": "2.7.11"
  }
 },
 "nbformat": 4,
 "nbformat_minor": 0
}
