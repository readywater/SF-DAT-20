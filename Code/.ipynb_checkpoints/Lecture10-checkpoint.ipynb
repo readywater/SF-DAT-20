{
 "cells": [
  {
   "cell_type": "code",
   "execution_count": 1,
   "metadata": {
    "collapsed": true
   },
   "outputs": [],
   "source": [
    "import pandas as pd\n",
    "import numpy as np\n"
   ]
  },
  {
   "cell_type": "code",
   "execution_count": 2,
   "metadata": {
    "collapsed": false
   },
   "outputs": [
    {
     "data": {
      "text/plain": [
       "4601"
      ]
     },
     "execution_count": 2,
     "metadata": {},
     "output_type": "execute_result"
    }
   ],
   "source": [
    "url = \"https://raw.githubusercontent.com/ga-students/SF-DAT-20/master/Data/spambase.csv\"\n",
    "SpamData = pd.read_csv(url)\n",
    "SpamData.head()\n",
    "len(SpamData)"
   ]
  },
  {
   "cell_type": "markdown",
   "metadata": {},
   "source": [
    "For the dictionary of this dataset pleaserefer to https://archive.ics.uci.edu/ml/datasets/Spambase"
   ]
  },
  {
   "cell_type": "code",
   "execution_count": 3,
   "metadata": {
    "collapsed": false
   },
   "outputs": [],
   "source": [
    "ListOfAllVariables = SpamData.columns.values\n",
    "X = SpamData[ListOfAllVariables]\n",
    "del X['is_spam']\n",
    "y = SpamData['is_spam']\n"
   ]
  },
  {
   "cell_type": "code",
   "execution_count": 4,
   "metadata": {
    "collapsed": false
   },
   "outputs": [
    {
     "data": {
      "text/plain": [
       "LogisticRegression(C=1.0, class_weight=None, dual=False, fit_intercept=True,\n",
       "          intercept_scaling=1, max_iter=100, multi_class='ovr', n_jobs=1,\n",
       "          penalty='l2', random_state=None, solver='liblinear', tol=0.0001,\n",
       "          verbose=0, warm_start=False)"
      ]
     },
     "execution_count": 4,
     "metadata": {},
     "output_type": "execute_result"
    }
   ],
   "source": [
    "from sklearn.linear_model import LogisticRegression\n",
    "lm = LogisticRegression()\n",
    "lm.fit(X,y)"
   ]
  },
  {
   "cell_type": "code",
   "execution_count": 5,
   "metadata": {
    "collapsed": false
   },
   "outputs": [
    {
     "name": "stdout",
     "output_type": "stream",
     "text": [
      "0.917161846536\n",
      "0.0828381534638\n"
     ]
    }
   ],
   "source": [
    "from sklearn.cross_validation import cross_val_score\n",
    "print(cross_val_score(lm,X,y,cv=10).mean()) \n",
    "MisClassificationError = 1 - (cross_val_score(lm,X,y,cv=10).mean())\n",
    "print(MisClassificationError)  #our misclassification Error is not bad!"
   ]
  },
  {
   "cell_type": "code",
   "execution_count": 7,
   "metadata": {
    "collapsed": false
   },
   "outputs": [
    {
     "data": {
      "text/plain": [
       "count    4601.000000\n",
       "mean        0.394045\n",
       "std         0.488698\n",
       "min         0.000000\n",
       "25%         0.000000\n",
       "50%         0.000000\n",
       "75%         1.000000\n",
       "max         1.000000\n",
       "Name: is_spam, dtype: float64"
      ]
     },
     "execution_count": 7,
     "metadata": {},
     "output_type": "execute_result"
    }
   ],
   "source": [
    "SpamData['is_spam'].describe()  #We love misclassification error even more! (39%) of e-mails were spam"
   ]
  },
  {
   "cell_type": "code",
   "execution_count": 6,
   "metadata": {
    "collapsed": false
   },
   "outputs": [
    {
     "data": {
      "text/plain": [
       "array([[2662,  186],\n",
       "       [ 126, 1627]])"
      ]
     },
     "execution_count": 6,
     "metadata": {},
     "output_type": "execute_result"
    }
   ],
   "source": [
    "from sklearn.metrics import confusion_matrix\n",
    "y_hat = lm.predict(X)\n",
    "confusion_matrix(y_hat, y)"
   ]
  },
  {
   "cell_type": "markdown",
   "metadata": {},
   "source": [
    "#### How much is our FPR, TPR, TNR, FNR? "
   ]
  },
  {
   "cell_type": "markdown",
   "metadata": {},
   "source": [
    "Answer:"
   ]
  },
  {
   "cell_type": "markdown",
   "metadata": {},
   "source": [
    "#### How much is our current intercept?"
   ]
  },
  {
   "cell_type": "code",
   "execution_count": 7,
   "metadata": {
    "collapsed": false
   },
   "outputs": [
    {
     "data": {
      "text/plain": [
       "array([-1.44907502])"
      ]
     },
     "execution_count": 7,
     "metadata": {},
     "output_type": "execute_result"
    }
   ],
   "source": [
    "lm.intercept_"
   ]
  },
  {
   "cell_type": "markdown",
   "metadata": {},
   "source": [
    "#### In our current setting 39% of our data was Spam. How would you adjust your model if you knew that in reality only 10% of e-mails are spam?"
   ]
  },
  {
   "cell_type": "markdown",
   "metadata": {},
   "source": [
    "Answer: "
   ]
  },
  {
   "cell_type": "code",
   "execution_count": null,
   "metadata": {
    "collapsed": true
   },
   "outputs": [],
   "source": []
  },
  {
   "cell_type": "code",
   "execution_count": 8,
   "metadata": {
    "collapsed": false
   },
   "outputs": [
    {
     "name": "stdout",
     "output_type": "stream",
     "text": [
      "[ 0.59632114  0.97267825  0.99997912 ...,  0.03591397  0.09639852\n",
      "  0.04594974]\n",
      "0.975490360943\n"
     ]
    }
   ],
   "source": [
    "from sklearn.metrics import roc_curve, auc,roc_auc_score\n",
    "y_hat_probability = lm.predict_proba(X).T[1]  #T[1] returns probability of belonging to class\n",
    "print(y_hat_probability)\n",
    "print(roc_auc_score(y, y_hat_probability))\n",
    "vals = roc_curve(y, y_hat_probability)  #an excellent value!"
   ]
  },
  {
   "cell_type": "code",
   "execution_count": 10,
   "metadata": {
    "collapsed": false
   },
   "outputs": [
    {
     "data": {
      "text/plain": [
       "<matplotlib.axes._subplots.AxesSubplot at 0x11381ec90>"
      ]
     },
     "execution_count": 10,
     "metadata": {},
     "output_type": "execute_result"
    },
    {
     "data": {
      "image/png": "[encoded data removed]",
      "text/plain": [
       "<matplotlib.figure.Figure at 0x11381e4d0>"
      ]
     },
     "metadata": {},
     "output_type": "display_data"
    }
   ],
   "source": [
    "import matplotlib.pyplot as plt\n",
    "%matplotlib inline\n",
    "Roc_DataFrame = pd.DataFrame({'False_Positive_Rate':vals[0],'True_Positive_Rate':vals[1]})\n",
    "Roc_DataFrame.plot(x = 'False_Positive_Rate' , y = 'True_Positive_Rate' ) #beautiful Graph\n"
   ]
  },
  {
   "cell_type": "markdown",
   "metadata": {},
   "source": [
    "#### Now let's find out the most important variables"
   ]
  },
  {
   "cell_type": "code",
   "execution_count": 10,
   "metadata": {
    "collapsed": false
   },
   "outputs": [],
   "source": [
    "# let's first standardize our data\n",
    "def Standardize(X):\n",
    "    X_Max = X.max()\n",
    "    X_Min = X.min()\n",
    "    X_Standardized = (X-X_Min)/(X_Max - X_Min)\n",
    "    return X_Standardized\n",
    "\n",
    "NameOfVariables = X.columns.values\n",
    "for i in NameOfVariables:\n",
    "    SpamData[i] = Standardize(SpamData[i])\n",
    "X = SpamData[ListOfAllVariables]\n",
    "del X['is_spam']  "
   ]
  },
  {
   "cell_type": "code",
   "execution_count": 11,
   "metadata": {
    "collapsed": false
   },
   "outputs": [
    {
     "data": {
      "text/plain": [
       "<matplotlib.axes._subplots.AxesSubplot at 0x112506f50>"
      ]
     },
     "execution_count": 11,
     "metadata": {},
     "output_type": "execute_result"
    }
   ],
   "source": [
    "# Try testing and plot\n",
    "c_list = np.logspace(-10,10,21) \n",
    "c_index = np.linspace(-10,10,21)\n",
    "#C is just the inverse of Lambda - the smaller the C - the stronger the\n",
    "#regulatization. The smaller C's choose less variables\n",
    "cv_scores = []\n",
    "for c_score in c_list:\n",
    "    lm = LogisticRegression(C = c_score,penalty = \"l1\")\n",
    "    cv_scores.append(cross_val_score(lm,X,y,cv=10).mean())\n",
    "\n",
    "\n",
    "C_Choice_df = pd.DataFrame({'cv_scores': cv_scores ,'Log_C': c_index })\n",
    "C_Choice_df.plot(x ='Log_C',y = 'cv_scores' )\n"
   ]
  },
  {
   "cell_type": "code",
   "execution_count": 13,
   "metadata": {
    "collapsed": false
   },
   "outputs": [
    {
     "data": {
      "text/plain": [
       "<matplotlib.axes._subplots.AxesSubplot at 0x11251fb90>"
      ]
     },
     "execution_count": 13,
     "metadata": {},
     "output_type": "execute_result"
    },
    {
     "data": {
      "image/png": "[encoded data removed]",
      "text/plain": [
       "<matplotlib.figure.Figure at 0x10e824150>"
      ]
     },
     "metadata": {},
     "output_type": "display_data"
    }
   ],
   "source": [
    "# Try testing and plot\n",
    "c_list = np.logspace(-1,1,11) \n",
    "c_index = np.linspace(-1,1,11)\n",
    "#C is just the inverse of Lambda - the smaller the C - the stronger the\n",
    "#regulatization. The smaller C's choose less variables\n",
    "cv_scores = []\n",
    "for c_score in c_list:\n",
    "    lm = LogisticRegression(C = c_score, penalty = \"l1\")\n",
    "    cv_scores.append(cross_val_score(lm,X,y,cv=10).mean())\n",
    "\n",
    "\n",
    "C_Choice_df = pd.DataFrame({'cv_scores': cv_scores ,'Log_C': c_index })\n",
    "C_Choice_df.plot(x ='Log_C',y = 'cv_scores' )\n",
    "# it sounds like we can choose C = 0 - C =1 is actually better but we would like to keep the smallest C that is\n",
    "# good in comparison to our best possible outcome. The SIMPLER THE BETTER! SMALLER C's GIVE YOU MORE RESTRICTIVE\n",
    "# OUTPUTS - BETTER INTERPRETATION"
   ]
  },
  {
   "cell_type": "code",
   "execution_count": 12,
   "metadata": {
    "collapsed": false
   },
   "outputs": [
    {
     "data": {
      "text/plain": [
       "array([[ -5.35916072e-01,  -1.13709245e+00,   9.32788025e-01,\n",
       "          1.63841351e+00,   4.97026781e+00,   3.08855804e+00,\n",
       "          1.64931091e+01,   5.14930467e+00,   3.06937006e+00,\n",
       "          1.10987223e+00,   0.00000000e+00,  -1.23816429e+00,\n",
       "          0.00000000e+00,   1.41818366e-02,   1.93512822e+00,\n",
       "          1.61573153e+01,   6.00903602e+00,   1.90689039e+00,\n",
       "          1.47417966e+00,   4.92532182e+00,   2.73477767e+00,\n",
       "          4.37388426e+00,   1.19636573e+01,   5.69259978e+00,\n",
       "         -2.77783631e+01,  -6.77234905e+00,  -2.87343459e+01,\n",
       "          5.72613690e-01,  -4.89632362e-01,  -6.28804056e-01,\n",
       "          0.00000000e+00,   0.00000000e+00,  -5.74066942e+00,\n",
       "          0.00000000e+00,   0.00000000e+00,   6.19377058e-01,\n",
       "         -8.60062306e-01,   0.00000000e+00,  -1.55376333e+00,\n",
       "          0.00000000e+00,  -3.36743107e+00,  -1.18521225e+01,\n",
       "         -1.37153129e+00,  -3.96197752e+00,  -9.68973171e+00,\n",
       "         -1.52333226e+01,  -1.42267584e+00,  -1.86407315e+00,\n",
       "         -3.32303467e+00,   0.00000000e+00,   0.00000000e+00,\n",
       "          1.10083318e+01,   2.58397423e+01,   0.00000000e+00,\n",
       "          1.42070991e+00,   0.00000000e+00,   9.50748981e+00]])"
      ]
     },
     "execution_count": 12,
     "metadata": {},
     "output_type": "execute_result"
    }
   ],
   "source": [
    "lm = LogisticRegression(C = 10**(0), penalty = \"l1\")\n",
    "lm.fit(X,y)\n",
    "lm.coef_\n"
   ]
  },
  {
   "cell_type": "code",
   "execution_count": 13,
   "metadata": {
    "collapsed": false
   },
   "outputs": [
    {
     "name": "stdout",
     "output_type": "stream",
     "text": [
      "[(-0.53591607182091328, 'word_freq_make'), (-1.137092453934009, 'word_freq_address'), (0.93278802500685076, 'word_freq_all'), (1.6384135072553268, 'word_freq_3d'), (4.9702678142247088, 'word_freq_our'), (3.0885580353428588, 'word_freq_over'), (16.493109109896228, 'word_freq_remove'), (5.1493046694637954, 'word_freq_internet'), (3.0693700568879363, 'word_freq_order'), (1.10987223484043, 'word_freq_mail'), (0.0, 'word_freq_receive'), (-1.238164286843815, 'word_freq_will'), (0.0, 'word_freq_people'), (0.014181836628241672, 'word_freq_report'), (1.9351282249058517, 'word_freq_addresses'), (16.157315255751559, 'word_freq_free'), (6.0090360241302561, 'word_freq_business'), (1.9068903931444532, 'word_freq_email'), (1.4741796556166384, 'word_freq_you'), (4.9253218179539395, 'word_freq_credit'), (2.7347776745745511, 'word_freq_your'), (4.3738842575493537, 'word_freq_font'), (11.963657336348151, 'word_freq_000'), (5.6925997780974544, 'word_freq_money'), (-27.778363080380469, 'word_freq_hp'), (-6.7723490474086478, 'word_freq_hpl'), (-28.734345871114218, 'word_freq_george'), (0.57261369046527189, 'word_freq_650'), (-0.48963236229640589, 'word_freq_lab'), (-0.6288040556023291, 'word_freq_labs'), (0.0, 'word_freq_telnet'), (0.0, 'word_freq_857'), (-5.7406694216159035, 'word_freq_data'), (0.0, 'word_freq_415'), (0.0, 'word_freq_85'), (0.61937705841083368, 'word_freq_technology'), (-0.8600623063309174, 'word_freq_1999'), (0.0, 'word_freq_parts'), (-1.5537633282784715, 'word_freq_pm'), (0.0, 'word_freq_direct'), (-3.3674310738744917, 'word_freq_cs'), (-11.852122474474712, 'word_freq_meeting'), (-1.3715312937835145, 'word_freq_original'), (-3.9619775165218276, 'word_freq_project'), (-9.6897317104760461, 'word_freq_re'), (-15.233322577863023, 'word_freq_edu'), (-1.4226758353568865, 'word_freq_table'), (-1.8640731495611649, 'word_freq_conference'), (-3.3230346680199729, 'char_freq_;'), (0.0, 'char_freq_('), (0.0, 'char_freq_['), (11.008331816790724, 'char_freq_!'), (25.839742322990261, 'char_freq_$'), (0.0, 'char_freq_#'), (1.4207099097181868, 'capital_run_length_average'), (0.0, 'capital_run_length_longest'), (9.5074898083358566, 'capital_run_length_total')]\n"
     ]
    }
   ],
   "source": [
    "Var_coef = zip(lm.coef_[0,:],NameOfVariables)\n",
    "print Var_coef"
   ]
  },
  {
   "cell_type": "code",
   "execution_count": 14,
   "metadata": {
    "collapsed": false
   },
   "outputs": [
    {
     "data": {
      "text/plain": [
       "[(-28.734345871114218, 'word_freq_george'),\n",
       " (-27.778363080380469, 'word_freq_hp'),\n",
       " (-15.233322577863023, 'word_freq_edu'),\n",
       " (-11.852122474474712, 'word_freq_meeting'),\n",
       " (-9.6897317104760461, 'word_freq_re'),\n",
       " (-6.7723490474086478, 'word_freq_hpl'),\n",
       " (-5.7406694216159035, 'word_freq_data'),\n",
       " (-3.9619775165218276, 'word_freq_project'),\n",
       " (-3.3674310738744917, 'word_freq_cs'),\n",
       " (-3.3230346680199729, 'char_freq_;'),\n",
       " (-1.8640731495611649, 'word_freq_conference'),\n",
       " (-1.5537633282784715, 'word_freq_pm'),\n",
       " (-1.4226758353568865, 'word_freq_table'),\n",
       " (-1.3715312937835145, 'word_freq_original'),\n",
       " (-1.238164286843815, 'word_freq_will'),\n",
       " (-1.137092453934009, 'word_freq_address'),\n",
       " (-0.8600623063309174, 'word_freq_1999'),\n",
       " (-0.6288040556023291, 'word_freq_labs'),\n",
       " (-0.53591607182091328, 'word_freq_make'),\n",
       " (-0.48963236229640589, 'word_freq_lab'),\n",
       " (0.0, 'capital_run_length_longest'),\n",
       " (0.0, 'char_freq_#'),\n",
       " (0.0, 'char_freq_('),\n",
       " (0.0, 'char_freq_['),\n",
       " (0.0, 'word_freq_415'),\n",
       " (0.0, 'word_freq_85'),\n",
       " (0.0, 'word_freq_857'),\n",
       " (0.0, 'word_freq_direct'),\n",
       " (0.0, 'word_freq_parts'),\n",
       " (0.0, 'word_freq_people'),\n",
       " (0.0, 'word_freq_receive'),\n",
       " (0.0, 'word_freq_telnet'),\n",
       " (0.014181836628241672, 'word_freq_report'),\n",
       " (0.57261369046527189, 'word_freq_650'),\n",
       " (0.61937705841083368, 'word_freq_technology'),\n",
       " (0.93278802500685076, 'word_freq_all'),\n",
       " (1.10987223484043, 'word_freq_mail'),\n",
       " (1.4207099097181868, 'capital_run_length_average'),\n",
       " (1.4741796556166384, 'word_freq_you'),\n",
       " (1.6384135072553268, 'word_freq_3d'),\n",
       " (1.9068903931444532, 'word_freq_email'),\n",
       " (1.9351282249058517, 'word_freq_addresses'),\n",
       " (2.7347776745745511, 'word_freq_your'),\n",
       " (3.0693700568879363, 'word_freq_order'),\n",
       " (3.0885580353428588, 'word_freq_over'),\n",
       " (4.3738842575493537, 'word_freq_font'),\n",
       " (4.9253218179539395, 'word_freq_credit'),\n",
       " (4.9702678142247088, 'word_freq_our'),\n",
       " (5.1493046694637954, 'word_freq_internet'),\n",
       " (5.6925997780974544, 'word_freq_money'),\n",
       " (6.0090360241302561, 'word_freq_business'),\n",
       " (9.5074898083358566, 'capital_run_length_total'),\n",
       " (11.008331816790724, 'char_freq_!'),\n",
       " (11.963657336348151, 'word_freq_000'),\n",
       " (16.157315255751559, 'word_freq_free'),\n",
       " (16.493109109896228, 'word_freq_remove'),\n",
       " (25.839742322990261, 'char_freq_$')]"
      ]
     },
     "execution_count": 14,
     "metadata": {},
     "output_type": "execute_result"
    }
   ],
   "source": [
    "sorted(Var_coef)"
   ]
  },
  {
   "cell_type": "markdown",
   "metadata": {},
   "source": [
    "It seems like char_freq_$ has the highest effect on an email be a spam, the next word that highly affects the probability of spam is remove, followed by  free, 000, b !, etc.\n",
    "\n",
    "The most unlikely characters that are in spam emails are george, hp, edu, meeting, etc.. \n",
    "\n",
    "12 words  and characters - with coefficients 0 - have mixed effect on probability of spam and ham. "
   ]
  },
  {
   "cell_type": "markdown",
   "metadata": {},
   "source": [
    "#### Now let's look at ROC, AUC, confusion matrix of our optimal model"
   ]
  },
  {
   "cell_type": "code",
   "execution_count": 15,
   "metadata": {
    "collapsed": false
   },
   "outputs": [
    {
     "data": {
      "text/plain": [
       "array([[2666,  262],\n",
       "       [ 122, 1551]])"
      ]
     },
     "execution_count": 15,
     "metadata": {},
     "output_type": "execute_result"
    }
   ],
   "source": [
    "y_hat = lm.predict(X)\n",
    "confusion_matrix(y_hat,y)"
   ]
  },
  {
   "cell_type": "code",
   "execution_count": 18,
   "metadata": {
    "collapsed": false
   },
   "outputs": [
    {
     "name": "stdout",
     "output_type": "stream",
     "text": [
      "[ 0.48495298  0.94170837  0.99798166 ...,  0.09796185  0.17409897\n",
      "  0.10085787]\n",
      "0.970620977462\n"
     ]
    },
    {
     "data": {
      "text/plain": [
       "<matplotlib.axes._subplots.AxesSubplot at 0x11252c350>"
      ]
     },
     "execution_count": 18,
     "metadata": {},
     "output_type": "execute_result"
    },
    {
     "data": {
      "image/png": "[encoded data removed]",
      "text/plain": [
       "<matplotlib.figure.Figure at 0x11237f190>"
      ]
     },
     "metadata": {},
     "output_type": "display_data"
    }
   ],
   "source": [
    "y_hat_probability = lm.predict_proba(X).T[1]  #T[1] returns probability of belonging to class\n",
    "print(y_hat_probability)\n",
    "print(roc_auc_score(y, y_hat_probability))\n",
    "vals = roc_curve(y, y_hat_probability)\n",
    "Roc_DataFrame = pd.DataFrame({'False_Positive_Rate':vals[0],'True_Positive_Rate':vals[1]})\n",
    "Roc_DataFrame.plot(x = 'False_Positive_Rate' , y = 'True_Positive_Rate' ) #agian beautiful Graph"
   ]
  },
  {
   "cell_type": "markdown",
   "metadata": {},
   "source": [
    "#### Now let's play with threshold"
   ]
  },
  {
   "cell_type": "code",
   "execution_count": 16,
   "metadata": {
    "collapsed": false
   },
   "outputs": [
    {
     "data": {
      "text/plain": [
       "array([[2765,  858],\n",
       "       [  23,  955]])"
      ]
     },
     "execution_count": 16,
     "metadata": {},
     "output_type": "execute_result"
    }
   ],
   "source": [
    "def PredictThreshold(Predictprob,Threshhold):\n",
    "    y_predict = 0\n",
    "    if (Predictprob >= Threshhold):\n",
    "        y_predict = 1\n",
    "    return y_predict\n",
    "\n",
    "PredictThreshold(0.5,0.9)\n",
    "y_hat_probability = lm.predict_proba(X).T[1]\n",
    "y_hat_predict_threshold = []\n",
    "threshold = 0.9\n",
    "for i in range(0,len(y_hat_probability)):\n",
    "    y_hat_predict_threshold.append(PredictThreshold(y_hat_probability[i],threshold))\n",
    "\n",
    "confusion_matrix(y_hat_predict_threshold,y)    \n",
    "    \n",
    "#please play with threshold and discuss your outputs. For example if it is really important\n",
    "#for you to reduce FP, what should you do?"
   ]
  },
  {
   "cell_type": "code",
   "execution_count": null,
   "metadata": {
    "collapsed": false
   },
   "outputs": [],
   "source": []
  },
  {
   "cell_type": "code",
   "execution_count": null,
   "metadata": {
    "collapsed": true
   },
   "outputs": [],
   "source": []
  }
 ],
 "metadata": {
  "kernelspec": {
   "display_name": "Python 2",
   "language": "python",
   "name": "python2"
  },
  "language_info": {
   "codemirror_mode": {
    "name": "ipython",
    "version": 2
   },
   "file_extension": ".py",
   "mimetype": "text/x-python",
   "name": "python",
   "nbconvert_exporter": "python",
   "pygments_lexer": "ipython2",
   "version": "2.7.10"
  }
 },
 "nbformat": 4,
 "nbformat_minor": 0
}
