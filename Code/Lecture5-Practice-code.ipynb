{
 "cells": [
  {
   "cell_type": "markdown",
   "metadata": {},
   "source": [
    "#### Notes\n",
    "Credit data set\n",
    "\n"
   ]
  },
  {
   "cell_type": "code",
   "execution_count": 3,
   "metadata": {
    "collapsed": false
   },
   "outputs": [
    {
     "name": "stdout",
     "output_type": "stream",
     "text": [
      "Unnamed: 0    400\n",
      "Income        400\n",
      "Limit         400\n",
      "Rating        400\n",
      "Cards         400\n",
      "Age           400\n",
      "Education     400\n",
      "Gender        400\n",
      "Student       400\n",
      "Married       400\n",
      "Ethnicity     400\n",
      "Balance       400\n",
      "dtype: int64\n"
     ]
    },
    {
     "data": {
      "text/html": [
       "<div>\n",
       "<table border=\"1\" class=\"dataframe\">\n",
       "  <thead>\n",
       "    <tr style=\"text-align: right;\">\n",
       "      <th></th>\n",
       "      <th>Unnamed: 0</th>\n",
       "      <th>Income</th>\n",
       "      <th>Limit</th>\n",
       "      <th>Rating</th>\n",
       "      <th>Cards</th>\n",
       "      <th>Age</th>\n",
       "      <th>Education</th>\n",
       "      <th>Gender</th>\n",
       "      <th>Student</th>\n",
       "      <th>Married</th>\n",
       "      <th>Ethnicity</th>\n",
       "      <th>Balance</th>\n",
       "    </tr>\n",
       "  </thead>\n",
       "  <tbody>\n",
       "    <tr>\n",
       "      <th>0</th>\n",
       "      <td>1</td>\n",
       "      <td>14.891</td>\n",
       "      <td>3606</td>\n",
       "      <td>283</td>\n",
       "      <td>2</td>\n",
       "      <td>34</td>\n",
       "      <td>11</td>\n",
       "      <td>Male</td>\n",
       "      <td>No</td>\n",
       "      <td>Yes</td>\n",
       "      <td>Caucasian</td>\n",
       "      <td>333</td>\n",
       "    </tr>\n",
       "    <tr>\n",
       "      <th>1</th>\n",
       "      <td>2</td>\n",
       "      <td>106.025</td>\n",
       "      <td>6645</td>\n",
       "      <td>483</td>\n",
       "      <td>3</td>\n",
       "      <td>82</td>\n",
       "      <td>15</td>\n",
       "      <td>Female</td>\n",
       "      <td>Yes</td>\n",
       "      <td>Yes</td>\n",
       "      <td>Asian</td>\n",
       "      <td>903</td>\n",
       "    </tr>\n",
       "    <tr>\n",
       "      <th>2</th>\n",
       "      <td>3</td>\n",
       "      <td>104.593</td>\n",
       "      <td>7075</td>\n",
       "      <td>514</td>\n",
       "      <td>4</td>\n",
       "      <td>71</td>\n",
       "      <td>11</td>\n",
       "      <td>Male</td>\n",
       "      <td>No</td>\n",
       "      <td>No</td>\n",
       "      <td>Asian</td>\n",
       "      <td>580</td>\n",
       "    </tr>\n",
       "    <tr>\n",
       "      <th>3</th>\n",
       "      <td>4</td>\n",
       "      <td>148.924</td>\n",
       "      <td>9504</td>\n",
       "      <td>681</td>\n",
       "      <td>3</td>\n",
       "      <td>36</td>\n",
       "      <td>11</td>\n",
       "      <td>Female</td>\n",
       "      <td>No</td>\n",
       "      <td>No</td>\n",
       "      <td>Asian</td>\n",
       "      <td>964</td>\n",
       "    </tr>\n",
       "    <tr>\n",
       "      <th>4</th>\n",
       "      <td>5</td>\n",
       "      <td>55.882</td>\n",
       "      <td>4897</td>\n",
       "      <td>357</td>\n",
       "      <td>2</td>\n",
       "      <td>68</td>\n",
       "      <td>16</td>\n",
       "      <td>Male</td>\n",
       "      <td>No</td>\n",
       "      <td>Yes</td>\n",
       "      <td>Caucasian</td>\n",
       "      <td>331</td>\n",
       "    </tr>\n",
       "    <tr>\n",
       "      <th>5</th>\n",
       "      <td>6</td>\n",
       "      <td>80.180</td>\n",
       "      <td>8047</td>\n",
       "      <td>569</td>\n",
       "      <td>4</td>\n",
       "      <td>77</td>\n",
       "      <td>10</td>\n",
       "      <td>Male</td>\n",
       "      <td>No</td>\n",
       "      <td>No</td>\n",
       "      <td>Caucasian</td>\n",
       "      <td>1151</td>\n",
       "    </tr>\n",
       "    <tr>\n",
       "      <th>6</th>\n",
       "      <td>7</td>\n",
       "      <td>20.996</td>\n",
       "      <td>3388</td>\n",
       "      <td>259</td>\n",
       "      <td>2</td>\n",
       "      <td>37</td>\n",
       "      <td>12</td>\n",
       "      <td>Female</td>\n",
       "      <td>No</td>\n",
       "      <td>No</td>\n",
       "      <td>African American</td>\n",
       "      <td>203</td>\n",
       "    </tr>\n",
       "    <tr>\n",
       "      <th>7</th>\n",
       "      <td>8</td>\n",
       "      <td>71.408</td>\n",
       "      <td>7114</td>\n",
       "      <td>512</td>\n",
       "      <td>2</td>\n",
       "      <td>87</td>\n",
       "      <td>9</td>\n",
       "      <td>Male</td>\n",
       "      <td>No</td>\n",
       "      <td>No</td>\n",
       "      <td>Asian</td>\n",
       "      <td>872</td>\n",
       "    </tr>\n",
       "    <tr>\n",
       "      <th>8</th>\n",
       "      <td>9</td>\n",
       "      <td>15.125</td>\n",
       "      <td>3300</td>\n",
       "      <td>266</td>\n",
       "      <td>5</td>\n",
       "      <td>66</td>\n",
       "      <td>13</td>\n",
       "      <td>Female</td>\n",
       "      <td>No</td>\n",
       "      <td>No</td>\n",
       "      <td>Caucasian</td>\n",
       "      <td>279</td>\n",
       "    </tr>\n",
       "    <tr>\n",
       "      <th>9</th>\n",
       "      <td>10</td>\n",
       "      <td>71.061</td>\n",
       "      <td>6819</td>\n",
       "      <td>491</td>\n",
       "      <td>3</td>\n",
       "      <td>41</td>\n",
       "      <td>19</td>\n",
       "      <td>Female</td>\n",
       "      <td>Yes</td>\n",
       "      <td>Yes</td>\n",
       "      <td>African American</td>\n",
       "      <td>1350</td>\n",
       "    </tr>\n",
       "  </tbody>\n",
       "</table>\n",
       "</div>"
      ],
      "text/plain": [
       "   Unnamed: 0   Income  Limit  Rating  Cards  Age  Education  Gender Student  \\\n",
       "0           1   14.891   3606     283      2   34         11    Male      No   \n",
       "1           2  106.025   6645     483      3   82         15  Female     Yes   \n",
       "2           3  104.593   7075     514      4   71         11    Male      No   \n",
       "3           4  148.924   9504     681      3   36         11  Female      No   \n",
       "4           5   55.882   4897     357      2   68         16    Male      No   \n",
       "5           6   80.180   8047     569      4   77         10    Male      No   \n",
       "6           7   20.996   3388     259      2   37         12  Female      No   \n",
       "7           8   71.408   7114     512      2   87          9    Male      No   \n",
       "8           9   15.125   3300     266      5   66         13  Female      No   \n",
       "9          10   71.061   6819     491      3   41         19  Female     Yes   \n",
       "\n",
       "  Married         Ethnicity  Balance  \n",
       "0     Yes         Caucasian      333  \n",
       "1     Yes             Asian      903  \n",
       "2      No             Asian      580  \n",
       "3      No             Asian      964  \n",
       "4     Yes         Caucasian      331  \n",
       "5      No         Caucasian     1151  \n",
       "6      No  African American      203  \n",
       "7      No             Asian      872  \n",
       "8      No         Caucasian      279  \n",
       "9     Yes  African American     1350  "
      ]
     },
     "execution_count": 3,
     "metadata": {},
     "output_type": "execute_result"
    }
   ],
   "source": [
    "import pandas as pd\n",
    "import numpy as np\n",
    "import seaborn as sns\n",
    "import matplotlib.pyplot as plt\n",
    "%matplotlib inline\n",
    "url = \"../Data/Credit.csv\" # Changed to local from URL\n",
    "CreditData = pd.read_csv(url)\n",
    "print CreditData.count()\n",
    "CreditData.head(10)"
   ]
  },
  {
   "cell_type": "code",
   "execution_count": 6,
   "metadata": {
    "collapsed": false
   },
   "outputs": [],
   "source": [
    "del CreditData['Unnamed: 0']"
   ]
  },
  {
   "cell_type": "markdown",
   "metadata": {},
   "source": [
    "#### Let's look at correlation matrix. This time, we only explore the quantitative variables that affect Credit Balance. From your preliminary analysis, which 3 variables seem to affect Balance the most? In our goal is interpretation; can we use these 3 variables simultaneously? Why?"
   ]
  },
  {
   "cell_type": "code",
   "execution_count": 7,
   "metadata": {
    "collapsed": false
   },
   "outputs": [
    {
     "data": {
      "text/html": [
       "<div>\n",
       "<table border=\"1\" class=\"dataframe\">\n",
       "  <thead>\n",
       "    <tr style=\"text-align: right;\">\n",
       "      <th></th>\n",
       "      <th>Income</th>\n",
       "      <th>Limit</th>\n",
       "      <th>Rating</th>\n",
       "      <th>Cards</th>\n",
       "      <th>Age</th>\n",
       "      <th>Education</th>\n",
       "      <th>Balance</th>\n",
       "      <th>Race_Asian</th>\n",
       "      <th>Race_Caucasian</th>\n",
       "      <th>Gender_Female</th>\n",
       "      <th>Married_Yes</th>\n",
       "      <th>Student_Yes</th>\n",
       "    </tr>\n",
       "  </thead>\n",
       "  <tbody>\n",
       "    <tr>\n",
       "      <th>Income</th>\n",
       "      <td>1.000000</td>\n",
       "      <td>0.792088</td>\n",
       "      <td>0.791378</td>\n",
       "      <td>-0.018273</td>\n",
       "      <td>0.175338</td>\n",
       "      <td>-0.027692</td>\n",
       "      <td>0.463656</td>\n",
       "      <td>-0.017137</td>\n",
       "      <td>-0.019701</td>\n",
       "      <td>-0.010738</td>\n",
       "      <td>0.035652</td>\n",
       "      <td>0.019632</td>\n",
       "    </tr>\n",
       "    <tr>\n",
       "      <th>Limit</th>\n",
       "      <td>0.792088</td>\n",
       "      <td>1.000000</td>\n",
       "      <td>0.996880</td>\n",
       "      <td>0.010231</td>\n",
       "      <td>0.100888</td>\n",
       "      <td>-0.023549</td>\n",
       "      <td>0.861697</td>\n",
       "      <td>-0.032427</td>\n",
       "      <td>-0.003081</td>\n",
       "      <td>0.009397</td>\n",
       "      <td>0.031155</td>\n",
       "      <td>-0.006015</td>\n",
       "    </tr>\n",
       "    <tr>\n",
       "      <th>Rating</th>\n",
       "      <td>0.791378</td>\n",
       "      <td>0.996880</td>\n",
       "      <td>1.000000</td>\n",
       "      <td>0.053239</td>\n",
       "      <td>0.103165</td>\n",
       "      <td>-0.030136</td>\n",
       "      <td>0.863625</td>\n",
       "      <td>-0.035999</td>\n",
       "      <td>-0.001070</td>\n",
       "      <td>0.008885</td>\n",
       "      <td>0.036751</td>\n",
       "      <td>-0.002028</td>\n",
       "    </tr>\n",
       "    <tr>\n",
       "      <th>Cards</th>\n",
       "      <td>-0.018273</td>\n",
       "      <td>0.010231</td>\n",
       "      <td>0.053239</td>\n",
       "      <td>1.000000</td>\n",
       "      <td>0.042948</td>\n",
       "      <td>-0.051084</td>\n",
       "      <td>0.086456</td>\n",
       "      <td>0.005591</td>\n",
       "      <td>-0.005631</td>\n",
       "      <td>-0.022658</td>\n",
       "      <td>-0.009695</td>\n",
       "      <td>-0.026164</td>\n",
       "    </tr>\n",
       "    <tr>\n",
       "      <th>Age</th>\n",
       "      <td>0.175338</td>\n",
       "      <td>0.100888</td>\n",
       "      <td>0.103165</td>\n",
       "      <td>0.042948</td>\n",
       "      <td>1.000000</td>\n",
       "      <td>0.003619</td>\n",
       "      <td>0.001835</td>\n",
       "      <td>-0.059623</td>\n",
       "      <td>-0.000822</td>\n",
       "      <td>0.004015</td>\n",
       "      <td>-0.073136</td>\n",
       "      <td>-0.029844</td>\n",
       "    </tr>\n",
       "    <tr>\n",
       "      <th>Education</th>\n",
       "      <td>-0.027692</td>\n",
       "      <td>-0.023549</td>\n",
       "      <td>-0.030136</td>\n",
       "      <td>-0.051084</td>\n",
       "      <td>0.003619</td>\n",
       "      <td>1.000000</td>\n",
       "      <td>-0.008062</td>\n",
       "      <td>0.029586</td>\n",
       "      <td>-0.037725</td>\n",
       "      <td>-0.005049</td>\n",
       "      <td>0.048911</td>\n",
       "      <td>0.072085</td>\n",
       "    </tr>\n",
       "    <tr>\n",
       "      <th>Balance</th>\n",
       "      <td>0.463656</td>\n",
       "      <td>0.861697</td>\n",
       "      <td>0.863625</td>\n",
       "      <td>0.086456</td>\n",
       "      <td>0.001835</td>\n",
       "      <td>-0.008062</td>\n",
       "      <td>1.000000</td>\n",
       "      <td>-0.009812</td>\n",
       "      <td>-0.003288</td>\n",
       "      <td>0.021474</td>\n",
       "      <td>-0.005673</td>\n",
       "      <td>0.259018</td>\n",
       "    </tr>\n",
       "    <tr>\n",
       "      <th>Race_Asian</th>\n",
       "      <td>-0.017137</td>\n",
       "      <td>-0.032427</td>\n",
       "      <td>-0.035999</td>\n",
       "      <td>0.005591</td>\n",
       "      <td>-0.059623</td>\n",
       "      <td>0.029586</td>\n",
       "      <td>-0.009812</td>\n",
       "      <td>1.000000</td>\n",
       "      <td>-0.582131</td>\n",
       "      <td>0.025425</td>\n",
       "      <td>0.088595</td>\n",
       "      <td>0.053534</td>\n",
       "    </tr>\n",
       "    <tr>\n",
       "      <th>Race_Caucasian</th>\n",
       "      <td>-0.019701</td>\n",
       "      <td>-0.003081</td>\n",
       "      <td>-0.001070</td>\n",
       "      <td>-0.005631</td>\n",
       "      <td>-0.000822</td>\n",
       "      <td>-0.037725</td>\n",
       "      <td>-0.003288</td>\n",
       "      <td>-0.582131</td>\n",
       "      <td>1.000000</td>\n",
       "      <td>-0.009831</td>\n",
       "      <td>0.011418</td>\n",
       "      <td>-0.048334</td>\n",
       "    </tr>\n",
       "    <tr>\n",
       "      <th>Gender_Female</th>\n",
       "      <td>-0.010738</td>\n",
       "      <td>0.009397</td>\n",
       "      <td>0.008885</td>\n",
       "      <td>-0.022658</td>\n",
       "      <td>0.004015</td>\n",
       "      <td>-0.005049</td>\n",
       "      <td>0.021474</td>\n",
       "      <td>0.025425</td>\n",
       "      <td>-0.009831</td>\n",
       "      <td>1.000000</td>\n",
       "      <td>0.012452</td>\n",
       "      <td>0.055034</td>\n",
       "    </tr>\n",
       "    <tr>\n",
       "      <th>Married_Yes</th>\n",
       "      <td>0.035652</td>\n",
       "      <td>0.031155</td>\n",
       "      <td>0.036751</td>\n",
       "      <td>-0.009695</td>\n",
       "      <td>-0.073136</td>\n",
       "      <td>0.048911</td>\n",
       "      <td>-0.005673</td>\n",
       "      <td>0.088595</td>\n",
       "      <td>0.011418</td>\n",
       "      <td>0.012452</td>\n",
       "      <td>1.000000</td>\n",
       "      <td>-0.076974</td>\n",
       "    </tr>\n",
       "    <tr>\n",
       "      <th>Student_Yes</th>\n",
       "      <td>0.019632</td>\n",
       "      <td>-0.006015</td>\n",
       "      <td>-0.002028</td>\n",
       "      <td>-0.026164</td>\n",
       "      <td>-0.029844</td>\n",
       "      <td>0.072085</td>\n",
       "      <td>0.259018</td>\n",
       "      <td>0.053534</td>\n",
       "      <td>-0.048334</td>\n",
       "      <td>0.055034</td>\n",
       "      <td>-0.076974</td>\n",
       "      <td>1.000000</td>\n",
       "    </tr>\n",
       "  </tbody>\n",
       "</table>\n",
       "</div>"
      ],
      "text/plain": [
       "                  Income     Limit    Rating     Cards       Age  Education  \\\n",
       "Income          1.000000  0.792088  0.791378 -0.018273  0.175338  -0.027692   \n",
       "Limit           0.792088  1.000000  0.996880  0.010231  0.100888  -0.023549   \n",
       "Rating          0.791378  0.996880  1.000000  0.053239  0.103165  -0.030136   \n",
       "Cards          -0.018273  0.010231  0.053239  1.000000  0.042948  -0.051084   \n",
       "Age             0.175338  0.100888  0.103165  0.042948  1.000000   0.003619   \n",
       "Education      -0.027692 -0.023549 -0.030136 -0.051084  0.003619   1.000000   \n",
       "Balance         0.463656  0.861697  0.863625  0.086456  0.001835  -0.008062   \n",
       "Race_Asian     -0.017137 -0.032427 -0.035999  0.005591 -0.059623   0.029586   \n",
       "Race_Caucasian -0.019701 -0.003081 -0.001070 -0.005631 -0.000822  -0.037725   \n",
       "Gender_Female  -0.010738  0.009397  0.008885 -0.022658  0.004015  -0.005049   \n",
       "Married_Yes     0.035652  0.031155  0.036751 -0.009695 -0.073136   0.048911   \n",
       "Student_Yes     0.019632 -0.006015 -0.002028 -0.026164 -0.029844   0.072085   \n",
       "\n",
       "                 Balance  Race_Asian  Race_Caucasian  Gender_Female  \\\n",
       "Income          0.463656   -0.017137       -0.019701      -0.010738   \n",
       "Limit           0.861697   -0.032427       -0.003081       0.009397   \n",
       "Rating          0.863625   -0.035999       -0.001070       0.008885   \n",
       "Cards           0.086456    0.005591       -0.005631      -0.022658   \n",
       "Age             0.001835   -0.059623       -0.000822       0.004015   \n",
       "Education      -0.008062    0.029586       -0.037725      -0.005049   \n",
       "Balance         1.000000   -0.009812       -0.003288       0.021474   \n",
       "Race_Asian     -0.009812    1.000000       -0.582131       0.025425   \n",
       "Race_Caucasian -0.003288   -0.582131        1.000000      -0.009831   \n",
       "Gender_Female   0.021474    0.025425       -0.009831       1.000000   \n",
       "Married_Yes    -0.005673    0.088595        0.011418       0.012452   \n",
       "Student_Yes     0.259018    0.053534       -0.048334       0.055034   \n",
       "\n",
       "                Married_Yes  Student_Yes  \n",
       "Income             0.035652     0.019632  \n",
       "Limit              0.031155    -0.006015  \n",
       "Rating             0.036751    -0.002028  \n",
       "Cards             -0.009695    -0.026164  \n",
       "Age               -0.073136    -0.029844  \n",
       "Education          0.048911     0.072085  \n",
       "Balance           -0.005673     0.259018  \n",
       "Race_Asian         0.088595     0.053534  \n",
       "Race_Caucasian     0.011418    -0.048334  \n",
       "Gender_Female      0.012452     0.055034  \n",
       "Married_Yes        1.000000    -0.076974  \n",
       "Student_Yes       -0.076974     1.000000  "
      ]
     },
     "execution_count": 7,
     "metadata": {},
     "output_type": "execute_result"
    }
   ],
   "source": [
    "CreditData.corr()"
   ]
  },
  {
   "cell_type": "markdown",
   "metadata": {},
   "source": [
    "- Income and Limit\n",
    "- Income and Rating\n",
    "- Income and Balance\n",
    "- Limit and Rating\n",
    "- Limit and Balance\n",
    "\n",
    "Income, Rating, Balance, and Limit"
   ]
  },
  {
   "cell_type": "markdown",
   "metadata": {},
   "source": [
    "#### There are few categorical variables, let's first create dummy variables for them\n"
   ]
  },
  {
   "cell_type": "code",
   "execution_count": 5,
   "metadata": {
    "collapsed": false
   },
   "outputs": [
    {
     "data": {
      "text/html": [
       "<div>\n",
       "<table border=\"1\" class=\"dataframe\">\n",
       "  <thead>\n",
       "    <tr style=\"text-align: right;\">\n",
       "      <th></th>\n",
       "      <th>Unnamed: 0</th>\n",
       "      <th>Income</th>\n",
       "      <th>Limit</th>\n",
       "      <th>Rating</th>\n",
       "      <th>Cards</th>\n",
       "      <th>Age</th>\n",
       "      <th>Education</th>\n",
       "      <th>Gender</th>\n",
       "      <th>Student</th>\n",
       "      <th>Married</th>\n",
       "      <th>Ethnicity</th>\n",
       "      <th>Balance</th>\n",
       "      <th>Race_Asian</th>\n",
       "      <th>Race_Caucasian</th>\n",
       "      <th>Gender_Female</th>\n",
       "      <th>Married_Yes</th>\n",
       "      <th>Student_Yes</th>\n",
       "    </tr>\n",
       "  </thead>\n",
       "  <tbody>\n",
       "    <tr>\n",
       "      <th>0</th>\n",
       "      <td>1</td>\n",
       "      <td>14.891</td>\n",
       "      <td>3606</td>\n",
       "      <td>283</td>\n",
       "      <td>2</td>\n",
       "      <td>34</td>\n",
       "      <td>11</td>\n",
       "      <td>Male</td>\n",
       "      <td>No</td>\n",
       "      <td>Yes</td>\n",
       "      <td>Caucasian</td>\n",
       "      <td>333</td>\n",
       "      <td>0</td>\n",
       "      <td>1</td>\n",
       "      <td>0</td>\n",
       "      <td>1</td>\n",
       "      <td>0</td>\n",
       "    </tr>\n",
       "    <tr>\n",
       "      <th>1</th>\n",
       "      <td>2</td>\n",
       "      <td>106.025</td>\n",
       "      <td>6645</td>\n",
       "      <td>483</td>\n",
       "      <td>3</td>\n",
       "      <td>82</td>\n",
       "      <td>15</td>\n",
       "      <td>Female</td>\n",
       "      <td>Yes</td>\n",
       "      <td>Yes</td>\n",
       "      <td>Asian</td>\n",
       "      <td>903</td>\n",
       "      <td>1</td>\n",
       "      <td>0</td>\n",
       "      <td>1</td>\n",
       "      <td>1</td>\n",
       "      <td>1</td>\n",
       "    </tr>\n",
       "    <tr>\n",
       "      <th>2</th>\n",
       "      <td>3</td>\n",
       "      <td>104.593</td>\n",
       "      <td>7075</td>\n",
       "      <td>514</td>\n",
       "      <td>4</td>\n",
       "      <td>71</td>\n",
       "      <td>11</td>\n",
       "      <td>Male</td>\n",
       "      <td>No</td>\n",
       "      <td>No</td>\n",
       "      <td>Asian</td>\n",
       "      <td>580</td>\n",
       "      <td>1</td>\n",
       "      <td>0</td>\n",
       "      <td>0</td>\n",
       "      <td>0</td>\n",
       "      <td>0</td>\n",
       "    </tr>\n",
       "    <tr>\n",
       "      <th>3</th>\n",
       "      <td>4</td>\n",
       "      <td>148.924</td>\n",
       "      <td>9504</td>\n",
       "      <td>681</td>\n",
       "      <td>3</td>\n",
       "      <td>36</td>\n",
       "      <td>11</td>\n",
       "      <td>Female</td>\n",
       "      <td>No</td>\n",
       "      <td>No</td>\n",
       "      <td>Asian</td>\n",
       "      <td>964</td>\n",
       "      <td>1</td>\n",
       "      <td>0</td>\n",
       "      <td>1</td>\n",
       "      <td>0</td>\n",
       "      <td>0</td>\n",
       "    </tr>\n",
       "    <tr>\n",
       "      <th>4</th>\n",
       "      <td>5</td>\n",
       "      <td>55.882</td>\n",
       "      <td>4897</td>\n",
       "      <td>357</td>\n",
       "      <td>2</td>\n",
       "      <td>68</td>\n",
       "      <td>16</td>\n",
       "      <td>Male</td>\n",
       "      <td>No</td>\n",
       "      <td>Yes</td>\n",
       "      <td>Caucasian</td>\n",
       "      <td>331</td>\n",
       "      <td>0</td>\n",
       "      <td>1</td>\n",
       "      <td>0</td>\n",
       "      <td>1</td>\n",
       "      <td>0</td>\n",
       "    </tr>\n",
       "  </tbody>\n",
       "</table>\n",
       "</div>"
      ],
      "text/plain": [
       "   Unnamed: 0   Income  Limit  Rating  Cards  Age  Education  Gender Student  \\\n",
       "0           1   14.891   3606     283      2   34         11    Male      No   \n",
       "1           2  106.025   6645     483      3   82         15  Female     Yes   \n",
       "2           3  104.593   7075     514      4   71         11    Male      No   \n",
       "3           4  148.924   9504     681      3   36         11  Female      No   \n",
       "4           5   55.882   4897     357      2   68         16    Male      No   \n",
       "\n",
       "  Married  Ethnicity  Balance  Race_Asian  Race_Caucasian  Gender_Female  \\\n",
       "0     Yes  Caucasian      333           0               1              0   \n",
       "1     Yes      Asian      903           1               0              1   \n",
       "2      No      Asian      580           1               0              0   \n",
       "3      No      Asian      964           1               0              1   \n",
       "4     Yes  Caucasian      331           0               1              0   \n",
       "\n",
       "   Married_Yes  Student_Yes  \n",
       "0            1            0  \n",
       "1            1            1  \n",
       "2            0            0  \n",
       "3            0            0  \n",
       "4            1            0  "
      ]
     },
     "execution_count": 5,
     "metadata": {},
     "output_type": "execute_result"
    }
   ],
   "source": [
    "RaceDummy = pd.get_dummies(CreditData.Ethnicity, prefix = 'Race')\n",
    "del RaceDummy['Race_African American']\n",
    "\n",
    "GenderDummy = pd.get_dummies(CreditData.Gender, prefix = 'Gender')\n",
    "del GenderDummy['Gender_ Male']  \n",
    "\n",
    "MarriedDummy = pd.get_dummies(CreditData.Married, prefix = 'Married')\n",
    "del MarriedDummy['Married_No']\n",
    "\n",
    "StudentDummy = pd.get_dummies(CreditData.Student, prefix = 'Student')\n",
    "del StudentDummy['Student_No']\n",
    "\n",
    "CreditData = pd.concat([CreditData, RaceDummy,GenderDummy,MarriedDummy,StudentDummy], axis=1)\n",
    "\n",
    "CreditData.head()"
   ]
  },
  {
   "cell_type": "markdown",
   "metadata": {},
   "source": [
    "# Now it's time for some fun!"
   ]
  },
  {
   "cell_type": "markdown",
   "metadata": {},
   "source": [
    "#### By a regression line, use Education, Ethnicity, Gender, Age, Cards, and Income to predict Balance. \n",
    "\n",
    "First Step, find the coefficients of your regression line"
   ]
  },
  {
   "cell_type": "code",
   "execution_count": 10,
   "metadata": {
    "collapsed": false
   },
   "outputs": [],
   "source": [
    "from sklearn.linear_model import LinearRegression  #import\n",
    "linreg = LinearRegression() #Instantiate"
   ]
  },
  {
   "cell_type": "code",
   "execution_count": 23,
   "metadata": {
    "collapsed": false
   },
   "outputs": [
    {
     "name": "stdout",
     "output_type": "stream",
     "text": [
      "230.042354393\n"
     ]
    },
    {
     "data": {
      "text/plain": [
       "[('Age', -2.329705473076412),\n",
       " ('Education', 1.6455360730250332),\n",
       " ('Cards', 33.629535079211934),\n",
       " ('Income', 6.2799589435274168),\n",
       " ('Gender_Female', 27.125431231591101),\n",
       " ('Race_Asian', -6.5460307809989553),\n",
       " ('Race_Caucasian', 3.4749764130323548)]"
      ]
     },
     "execution_count": 23,
     "metadata": {},
     "output_type": "execute_result"
    }
   ],
   "source": [
    "cols = ['Age','Education','Cards','Income','Gender_Female','Race_Asian','Race_Caucasian']\n",
    "X = CreditData[cols]\n",
    "y = CreditData['Balance']\n",
    "linreg.fit(X,y)\n",
    "print(linreg.intercept_)\n",
    "zip(cols,linreg.coef_)"
   ]
  },
  {
   "cell_type": "markdown",
   "metadata": {},
   "source": [
    "### Second Step, find the p-values of your estimates. You have a few variables try to show your p-values along side the names of the variables."
   ]
  },
  {
   "cell_type": "code",
   "execution_count": 26,
   "metadata": {
    "collapsed": false
   },
   "outputs": [],
   "source": [
    "from sklearn import feature_selection\n",
    "pvals = feature_selection.f_regression(X,y)[1]"
   ]
  },
  {
   "cell_type": "code",
   "execution_count": 27,
   "metadata": {
    "collapsed": false
   },
   "outputs": [
    {
     "data": {
      "text/plain": [
       "[('Age', 0.97081387233013317),\n",
       " ('Education', 0.87230640156710226),\n",
       " ('Cards', 0.084176555599370956),\n",
       " ('Income', 1.0308858025893513e-22),\n",
       " ('Gender_Female', 0.66851610550260099),\n",
       " ('Race_Asian', 0.84489564436221742),\n",
       " ('Race_Caucasian', 0.94772751139663791)]"
      ]
     },
     "execution_count": 27,
     "metadata": {},
     "output_type": "execute_result"
    }
   ],
   "source": [
    "zip(cols,pvals)"
   ]
  },
  {
   "cell_type": "markdown",
   "metadata": {},
   "source": [
    "Which of your coefficients are significant at significance level 5%?"
   ]
  },
  {
   "cell_type": "markdown",
   "metadata": {},
   "source": [
    "Answer:  Income has a very low pvalue, also the number of cards seems to be associated (albeit not quite 0.5) with Balance."
   ]
  },
  {
   "cell_type": "markdown",
   "metadata": {},
   "source": [
    "#### What is the R-Squared of your model?"
   ]
  },
  {
   "cell_type": "code",
   "execution_count": 32,
   "metadata": {
    "collapsed": false
   },
   "outputs": [
    {
     "name": "stdout",
     "output_type": "stream",
     "text": [
      "TSS 84339911.91\n",
      "RSS 64746686.9874\n",
      "R2 0.232312608335\n"
     ]
    }
   ],
   "source": [
    "TSS = sum((y-y.mean())**2)\n",
    "RSS = sum((y-linreg.predict(X))**2)\n",
    "R2 = (TSS-RSS)/TSS\n",
    "print 'TSS',TSS\n",
    "print 'RSS',RSS\n",
    "print 'R2',R2"
   ]
  },
  {
   "cell_type": "markdown",
   "metadata": {},
   "source": [
    "#### How do we interpret this value?"
   ]
  },
  {
   "cell_type": "markdown",
   "metadata": {},
   "source": [
    "Answer: We are accounting for 20% of the error within the model, which is cray low"
   ]
  },
  {
   "cell_type": "markdown",
   "metadata": {},
   "source": [
    "#### Now focus on two of the most significant variables from your previous model and re-run your regression model. This time, try to use a function to return all the values you are interested in. You may borrow from what covered in Lecture 5 ipython lecture."
   ]
  },
  {
   "cell_type": "code",
   "execution_count": 34,
   "metadata": {
    "collapsed": false
   },
   "outputs": [
    {
     "name": "stdout",
     "output_type": "stream",
     "text": [
      "151.329946349\n",
      "[('Cards', 31.838128947786878), ('Income', 6.0709985946705203)]\n",
      "[('Cards', 0.084176555599370956), ('Income', 1.0308858025893513e-22)]\n",
      "TSS 84339911.91\n",
      "RSS 65448467.3096\n",
      "R2 0.223991751622\n"
     ]
    }
   ],
   "source": [
    "cols = ['Cards','Income']\n",
    "X = CreditData[cols]\n",
    "linreg.fit(X,y)\n",
    "print(linreg.intercept_)\n",
    "print zip(cols,linreg.coef_)\n",
    "print zip(cols,feature_selection.f_regression(X,y)[1])\n",
    "TSS = sum((y-y.mean())**2)\n",
    "RSS = sum((y-linreg.predict(X))**2)\n",
    "R2 = (TSS-RSS)/TSS\n",
    "print 'TSS',TSS\n",
    "print 'RSS',RSS\n",
    "print 'R2',R2"
   ]
  },
  {
   "cell_type": "code",
   "execution_count": 39,
   "metadata": {
    "collapsed": false
   },
   "outputs": [
    {
     "data": {
      "text/plain": [
       "{'r2': 0.22399175162249638,\n",
       " 'r2_adj': 0.22008239016971298,\n",
       " 'rss': 65448467.309592135,\n",
       " 'tss': 84339911.910000101}"
      ]
     },
     "execution_count": 39,
     "metadata": {},
     "output_type": "execute_result"
    }
   ],
   "source": [
    "def r2_adj(X,y,linreg_):\n",
    "    tss = sum((y-y.mean())**2)\n",
    "    rss = sum((y-linreg_.predict(X))**2)\n",
    "    r2 = (tss-rss)/tss\n",
    "    r2_a = 1-(((1-r2)*(len(y)-1))/(len(y)-len(X.columns.values)-1))\n",
    "    return {\n",
    "        'tss':tss,\n",
    "        'rss':rss,\n",
    "        'r2':r2,\n",
    "        'r2_adj':r2_a\n",
    "    }\n",
    "\n",
    "\n",
    "r2_adj(X,y,linreg)"
   ]
  },
  {
   "cell_type": "markdown",
   "metadata": {},
   "source": [
    "#### In comparison to the previous model, did our R-Squared increase or decrease? Why?"
   ]
  },
  {
   "cell_type": "markdown",
   "metadata": {},
   "source": [
    "Answer: Because I removed a large-ish number of variables, so wasn't very effective"
   ]
  },
  {
   "cell_type": "markdown",
   "metadata": {},
   "source": [
    "#### Now let's regress Balance on Gender alone. After running your regression lines, do you have enough evidence to claim that females having more balance than males? (Hint: Look at the p-value of the Gender coefficient. If it is significant then you will have evidence to support that claim, otherwise you cannot support the statement."
   ]
  },
  {
   "cell_type": "code",
   "execution_count": 44,
   "metadata": {
    "collapsed": false
   },
   "outputs": [
    {
     "name": "stdout",
     "output_type": "stream",
     "text": [
      "509.803108808\n",
      "[('Gender_Female', 19.733123075767821)]\n"
     ]
    },
    {
     "data": {
      "text/plain": [
       "{'r2': 0.00046113296449763465,\n",
       " 'r2_adj': -0.0020502712240337839,\n",
       " 'rss': 84301019.996395573,\n",
       " 'tss': 84339911.910000101}"
      ]
     },
     "execution_count": 44,
     "metadata": {},
     "output_type": "execute_result"
    }
   ],
   "source": [
    "cols = ['Gender_Female']\n",
    "X = CreditData[cols]\n",
    "y = CreditData['Balance']\n",
    "linreg.fit(X,y)\n",
    "print(linreg.intercept_)\n",
    "print zip(cols,linreg.coef_)\n",
    "r2_adj(X,y,linreg)"
   ]
  },
  {
   "cell_type": "code",
   "execution_count": null,
   "metadata": {
    "collapsed": true
   },
   "outputs": [],
   "source": []
  },
  {
   "cell_type": "markdown",
   "metadata": {},
   "source": [
    "Answer:"
   ]
  },
  {
   "cell_type": "markdown",
   "metadata": {},
   "source": [
    "#### Now let's regress Balance on Ethnicity. After running your regression lines, do you have enough evidence to claim that some ethnic groups carry more balance than others? (Hint: Look at the p-value of  your dummy variables. If it is significant then you will have evidence to support that claim, otherwise you cannot support that statement."
   ]
  },
  {
   "cell_type": "code",
   "execution_count": null,
   "metadata": {
    "collapsed": false
   },
   "outputs": [],
   "source": []
  },
  {
   "cell_type": "markdown",
   "metadata": {},
   "source": [
    "Answer: "
   ]
  },
  {
   "cell_type": "markdown",
   "metadata": {},
   "source": [
    "#### I know you get tired of this but for the last time regress Balance on Studentship status. After running your regression lines, do you have enough evidence to claim that students  carry more balance than others? (Hint: Look at the p-value of the your dummy variables. If it is significant then you will have evidence to support that claim, otherwise you cannot support the statement.\n"
   ]
  },
  {
   "cell_type": "code",
   "execution_count": null,
   "metadata": {
    "collapsed": false
   },
   "outputs": [],
   "source": []
  },
  {
   "cell_type": "markdown",
   "metadata": {},
   "source": [
    "Answer: "
   ]
  },
  {
   "cell_type": "markdown",
   "metadata": {},
   "source": [
    "#### No let's consider effect of students and income on balance simoltanously. Let's start with a regression line."
   ]
  },
  {
   "cell_type": "code",
   "execution_count": null,
   "metadata": {
    "collapsed": false
   },
   "outputs": [],
   "source": []
  },
  {
   "cell_type": "markdown",
   "metadata": {},
   "source": [
    "#### Are all of our regression coefficients significant? If yes, interpret them."
   ]
  },
  {
   "cell_type": "markdown",
   "metadata": {},
   "source": [
    "Answer: "
   ]
  },
  {
   "cell_type": "markdown",
   "metadata": {},
   "source": [
    "#### Now let's explore interaction between income and studentship. Let's start with a regression line"
   ]
  },
  {
   "cell_type": "code",
   "execution_count": null,
   "metadata": {
    "collapsed": true
   },
   "outputs": [],
   "source": [
    "# First generate a column for interation term\n"
   ]
  },
  {
   "cell_type": "code",
   "execution_count": null,
   "metadata": {
    "collapsed": false
   },
   "outputs": [],
   "source": []
  },
  {
   "cell_type": "markdown",
   "metadata": {},
   "source": [
    "#### Are our coefficients signifincant? It they are write down your regression line below:"
   ]
  },
  {
   "cell_type": "markdown",
   "metadata": {},
   "source": [
    "Answer: "
   ]
  },
  {
   "cell_type": "markdown",
   "metadata": {},
   "source": [
    "#### Is there any income level at which students and non-students on average carry same level of balance?"
   ]
  },
  {
   "cell_type": "markdown",
   "metadata": {},
   "source": [
    "Answer: \n",
    "\n"
   ]
  },
  {
   "cell_type": "code",
   "execution_count": null,
   "metadata": {
    "collapsed": true
   },
   "outputs": [],
   "source": []
  }
 ],
 "metadata": {
  "kernelspec": {
   "display_name": "Python 2",
   "language": "python",
   "name": "python2"
  },
  "language_info": {
   "codemirror_mode": {
    "name": "ipython",
    "version": 2
   },
   "file_extension": ".py",
   "mimetype": "text/x-python",
   "name": "python",
   "nbconvert_exporter": "python",
   "pygments_lexer": "ipython2",
   "version": "2.7.11"
  }
 },
 "nbformat": 4,
 "nbformat_minor": 0
}
