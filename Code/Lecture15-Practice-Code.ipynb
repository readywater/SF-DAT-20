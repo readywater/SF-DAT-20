{
 "cells": [
  {
   "cell_type": "code",
   "execution_count": 1,
   "metadata": {
    "collapsed": false
   },
   "outputs": [
    {
     "name": "stderr",
     "output_type": "stream",
     "text": [
      "/Users/albarron/anaconda/lib/python2.7/site-packages/matplotlib/font_manager.py:273: UserWarning: Matplotlib is building the font cache using fc-list. This may take a moment.\n",
      "  warnings.warn('Matplotlib is building the font cache using fc-list. This may take a moment.')\n"
     ]
    }
   ],
   "source": [
    "import pandas as pd\n",
    "import numpy as np\n",
    "import matplotlib\n",
    "%matplotlib inline\n"
   ]
  },
  {
   "cell_type": "code",
   "execution_count": 2,
   "metadata": {
    "collapsed": true
   },
   "outputs": [],
   "source": [
    "df = pd.read_csv(\"../Data/train.csv\")"
   ]
  },
  {
   "cell_type": "markdown",
   "metadata": {},
   "source": [
    "Walmart Sales Data\n",
    "\n",
    "For the independent practice, we will analyze the weekly sales data from Walmart over a two year period from 2010 to 2012.\n",
    "\n",
    "The data is again separated by store and by department, but we will focus on analyzing one store for simplicity.\n",
    "\n",
    "The data includes:\n",
    "    \n",
    "    Store - the store number\n",
    "\n",
    "    Dept - the department number\n",
    "\n",
    "    Date - the week\n",
    "\n",
    "    Weekly_Sales - sales for the given department in the given store\n",
    "\n",
    "    IsHoliday - whether the week is a special holiday week"
   ]
  },
  {
   "cell_type": "markdown",
   "metadata": {},
   "source": [
    "#### Load the data and set index to Date\n"
   ]
  },
  {
   "cell_type": "code",
   "execution_count": 3,
   "metadata": {
    "collapsed": false
   },
   "outputs": [],
   "source": [
    "df.shape\n",
    "df['Date'] = pd.to_datetime(df['Date'])\n",
    "df = df.set_index('Date')"
   ]
  },
  {
   "cell_type": "markdown",
   "metadata": {},
   "source": [
    "#### Filter the dataframe to Store 1 sales and aggregate over departments to compute the total sales per store. Let's call new dataset store1_sales and its variable \"Weekly_Sales\"\n"
   ]
  },
  {
   "cell_type": "code",
   "execution_count": 4,
   "metadata": {
    "collapsed": false
   },
   "outputs": [
    {
     "data": {
      "text/html": [
       "<div>\n",
       "<table border=\"1\" class=\"dataframe\">\n",
       "  <thead>\n",
       "    <tr style=\"text-align: right;\">\n",
       "      <th></th>\n",
       "      <th>Weekly_Sales</th>\n",
       "    </tr>\n",
       "    <tr>\n",
       "      <th>Date</th>\n",
       "      <th></th>\n",
       "    </tr>\n",
       "  </thead>\n",
       "  <tbody>\n",
       "    <tr>\n",
       "      <th>2010-02-05</th>\n",
       "      <td>24924.50</td>\n",
       "    </tr>\n",
       "    <tr>\n",
       "      <th>2010-02-12</th>\n",
       "      <td>46039.49</td>\n",
       "    </tr>\n",
       "    <tr>\n",
       "      <th>2010-02-19</th>\n",
       "      <td>41595.55</td>\n",
       "    </tr>\n",
       "    <tr>\n",
       "      <th>2010-02-26</th>\n",
       "      <td>19403.54</td>\n",
       "    </tr>\n",
       "    <tr>\n",
       "      <th>2010-03-05</th>\n",
       "      <td>21827.90</td>\n",
       "    </tr>\n",
       "    <tr>\n",
       "      <th>2010-03-12</th>\n",
       "      <td>21043.39</td>\n",
       "    </tr>\n",
       "    <tr>\n",
       "      <th>2010-03-19</th>\n",
       "      <td>22136.64</td>\n",
       "    </tr>\n",
       "    <tr>\n",
       "      <th>2010-03-26</th>\n",
       "      <td>26229.21</td>\n",
       "    </tr>\n",
       "    <tr>\n",
       "      <th>2010-04-02</th>\n",
       "      <td>57258.43</td>\n",
       "    </tr>\n",
       "    <tr>\n",
       "      <th>2010-04-09</th>\n",
       "      <td>42960.91</td>\n",
       "    </tr>\n",
       "    <tr>\n",
       "      <th>2010-04-16</th>\n",
       "      <td>17596.96</td>\n",
       "    </tr>\n",
       "    <tr>\n",
       "      <th>2010-04-23</th>\n",
       "      <td>16145.35</td>\n",
       "    </tr>\n",
       "    <tr>\n",
       "      <th>2010-04-30</th>\n",
       "      <td>16555.11</td>\n",
       "    </tr>\n",
       "    <tr>\n",
       "      <th>2010-05-07</th>\n",
       "      <td>17413.94</td>\n",
       "    </tr>\n",
       "    <tr>\n",
       "      <th>2010-05-14</th>\n",
       "      <td>18926.74</td>\n",
       "    </tr>\n",
       "    <tr>\n",
       "      <th>2010-05-21</th>\n",
       "      <td>14773.04</td>\n",
       "    </tr>\n",
       "    <tr>\n",
       "      <th>2010-05-28</th>\n",
       "      <td>15580.43</td>\n",
       "    </tr>\n",
       "    <tr>\n",
       "      <th>2010-06-04</th>\n",
       "      <td>17558.09</td>\n",
       "    </tr>\n",
       "    <tr>\n",
       "      <th>2010-06-11</th>\n",
       "      <td>16637.62</td>\n",
       "    </tr>\n",
       "    <tr>\n",
       "      <th>2010-06-18</th>\n",
       "      <td>16216.27</td>\n",
       "    </tr>\n",
       "    <tr>\n",
       "      <th>2010-06-25</th>\n",
       "      <td>16328.72</td>\n",
       "    </tr>\n",
       "    <tr>\n",
       "      <th>2010-07-02</th>\n",
       "      <td>16333.14</td>\n",
       "    </tr>\n",
       "    <tr>\n",
       "      <th>2010-07-09</th>\n",
       "      <td>17688.76</td>\n",
       "    </tr>\n",
       "    <tr>\n",
       "      <th>2010-07-16</th>\n",
       "      <td>17150.84</td>\n",
       "    </tr>\n",
       "    <tr>\n",
       "      <th>2010-07-23</th>\n",
       "      <td>15360.45</td>\n",
       "    </tr>\n",
       "    <tr>\n",
       "      <th>2010-07-30</th>\n",
       "      <td>15381.82</td>\n",
       "    </tr>\n",
       "    <tr>\n",
       "      <th>2010-08-06</th>\n",
       "      <td>17508.41</td>\n",
       "    </tr>\n",
       "    <tr>\n",
       "      <th>2010-08-13</th>\n",
       "      <td>15536.40</td>\n",
       "    </tr>\n",
       "    <tr>\n",
       "      <th>2010-08-20</th>\n",
       "      <td>15740.13</td>\n",
       "    </tr>\n",
       "    <tr>\n",
       "      <th>2010-08-27</th>\n",
       "      <td>15793.87</td>\n",
       "    </tr>\n",
       "    <tr>\n",
       "      <th>...</th>\n",
       "      <td>...</td>\n",
       "    </tr>\n",
       "    <tr>\n",
       "      <th>2011-08-26</th>\n",
       "      <td>120.00</td>\n",
       "    </tr>\n",
       "    <tr>\n",
       "      <th>2011-09-02</th>\n",
       "      <td>20.00</td>\n",
       "    </tr>\n",
       "    <tr>\n",
       "      <th>2011-09-09</th>\n",
       "      <td>40.00</td>\n",
       "    </tr>\n",
       "    <tr>\n",
       "      <th>2011-11-25</th>\n",
       "      <td>2400.00</td>\n",
       "    </tr>\n",
       "    <tr>\n",
       "      <th>2011-12-09</th>\n",
       "      <td>435.00</td>\n",
       "    </tr>\n",
       "    <tr>\n",
       "      <th>2011-12-16</th>\n",
       "      <td>1310.00</td>\n",
       "    </tr>\n",
       "    <tr>\n",
       "      <th>2011-12-23</th>\n",
       "      <td>1860.00</td>\n",
       "    </tr>\n",
       "    <tr>\n",
       "      <th>2011-12-30</th>\n",
       "      <td>400.00</td>\n",
       "    </tr>\n",
       "    <tr>\n",
       "      <th>2012-02-03</th>\n",
       "      <td>330.00</td>\n",
       "    </tr>\n",
       "    <tr>\n",
       "      <th>2012-02-10</th>\n",
       "      <td>1070.00</td>\n",
       "    </tr>\n",
       "    <tr>\n",
       "      <th>2012-02-17</th>\n",
       "      <td>600.00</td>\n",
       "    </tr>\n",
       "    <tr>\n",
       "      <th>2012-02-24</th>\n",
       "      <td>100.00</td>\n",
       "    </tr>\n",
       "    <tr>\n",
       "      <th>2012-03-02</th>\n",
       "      <td>130.00</td>\n",
       "    </tr>\n",
       "    <tr>\n",
       "      <th>2012-04-06</th>\n",
       "      <td>140.00</td>\n",
       "    </tr>\n",
       "    <tr>\n",
       "      <th>2012-04-13</th>\n",
       "      <td>20.00</td>\n",
       "    </tr>\n",
       "    <tr>\n",
       "      <th>2012-05-04</th>\n",
       "      <td>50.00</td>\n",
       "    </tr>\n",
       "    <tr>\n",
       "      <th>2012-06-15</th>\n",
       "      <td>240.00</td>\n",
       "    </tr>\n",
       "    <tr>\n",
       "      <th>2012-06-22</th>\n",
       "      <td>35.00</td>\n",
       "    </tr>\n",
       "    <tr>\n",
       "      <th>2012-07-13</th>\n",
       "      <td>0.02</td>\n",
       "    </tr>\n",
       "    <tr>\n",
       "      <th>2012-07-20</th>\n",
       "      <td>0.01</td>\n",
       "    </tr>\n",
       "    <tr>\n",
       "      <th>2012-07-27</th>\n",
       "      <td>0.04</td>\n",
       "    </tr>\n",
       "    <tr>\n",
       "      <th>2012-08-03</th>\n",
       "      <td>20.00</td>\n",
       "    </tr>\n",
       "    <tr>\n",
       "      <th>2012-08-10</th>\n",
       "      <td>0.02</td>\n",
       "    </tr>\n",
       "    <tr>\n",
       "      <th>2012-08-17</th>\n",
       "      <td>0.06</td>\n",
       "    </tr>\n",
       "    <tr>\n",
       "      <th>2012-08-24</th>\n",
       "      <td>0.07</td>\n",
       "    </tr>\n",
       "    <tr>\n",
       "      <th>2012-08-31</th>\n",
       "      <td>20.06</td>\n",
       "    </tr>\n",
       "    <tr>\n",
       "      <th>2012-09-07</th>\n",
       "      <td>0.05</td>\n",
       "    </tr>\n",
       "    <tr>\n",
       "      <th>2012-09-14</th>\n",
       "      <td>0.03</td>\n",
       "    </tr>\n",
       "    <tr>\n",
       "      <th>2012-10-05</th>\n",
       "      <td>635.00</td>\n",
       "    </tr>\n",
       "    <tr>\n",
       "      <th>2012-10-12</th>\n",
       "      <td>80.00</td>\n",
       "    </tr>\n",
       "  </tbody>\n",
       "</table>\n",
       "<p>10244 rows × 1 columns</p>\n",
       "</div>"
      ],
      "text/plain": [
       "            Weekly_Sales\n",
       "Date                    \n",
       "2010-02-05      24924.50\n",
       "2010-02-12      46039.49\n",
       "2010-02-19      41595.55\n",
       "2010-02-26      19403.54\n",
       "2010-03-05      21827.90\n",
       "2010-03-12      21043.39\n",
       "2010-03-19      22136.64\n",
       "2010-03-26      26229.21\n",
       "2010-04-02      57258.43\n",
       "2010-04-09      42960.91\n",
       "2010-04-16      17596.96\n",
       "2010-04-23      16145.35\n",
       "2010-04-30      16555.11\n",
       "2010-05-07      17413.94\n",
       "2010-05-14      18926.74\n",
       "2010-05-21      14773.04\n",
       "2010-05-28      15580.43\n",
       "2010-06-04      17558.09\n",
       "2010-06-11      16637.62\n",
       "2010-06-18      16216.27\n",
       "2010-06-25      16328.72\n",
       "2010-07-02      16333.14\n",
       "2010-07-09      17688.76\n",
       "2010-07-16      17150.84\n",
       "2010-07-23      15360.45\n",
       "2010-07-30      15381.82\n",
       "2010-08-06      17508.41\n",
       "2010-08-13      15536.40\n",
       "2010-08-20      15740.13\n",
       "2010-08-27      15793.87\n",
       "...                  ...\n",
       "2011-08-26        120.00\n",
       "2011-09-02         20.00\n",
       "2011-09-09         40.00\n",
       "2011-11-25       2400.00\n",
       "2011-12-09        435.00\n",
       "2011-12-16       1310.00\n",
       "2011-12-23       1860.00\n",
       "2011-12-30        400.00\n",
       "2012-02-03        330.00\n",
       "2012-02-10       1070.00\n",
       "2012-02-17        600.00\n",
       "2012-02-24        100.00\n",
       "2012-03-02        130.00\n",
       "2012-04-06        140.00\n",
       "2012-04-13         20.00\n",
       "2012-05-04         50.00\n",
       "2012-06-15        240.00\n",
       "2012-06-22         35.00\n",
       "2012-07-13          0.02\n",
       "2012-07-20          0.01\n",
       "2012-07-27          0.04\n",
       "2012-08-03         20.00\n",
       "2012-08-10          0.02\n",
       "2012-08-17          0.06\n",
       "2012-08-24          0.07\n",
       "2012-08-31         20.06\n",
       "2012-09-07          0.05\n",
       "2012-09-14          0.03\n",
       "2012-10-05        635.00\n",
       "2012-10-12         80.00\n",
       "\n",
       "[10244 rows x 1 columns]"
      ]
     },
     "execution_count": 4,
     "metadata": {},
     "output_type": "execute_result"
    }
   ],
   "source": [
    "df[df.Store == 1][['Weekly_Sales']]"
   ]
  },
  {
   "cell_type": "code",
   "execution_count": 6,
   "metadata": {
    "collapsed": false
   },
   "outputs": [
    {
     "data": {
      "text/html": [
       "<div>\n",
       "<table border=\"1\" class=\"dataframe\">\n",
       "  <thead>\n",
       "    <tr style=\"text-align: right;\">\n",
       "      <th></th>\n",
       "      <th>Weekly_Sales</th>\n",
       "    </tr>\n",
       "    <tr>\n",
       "      <th>Date</th>\n",
       "      <th></th>\n",
       "    </tr>\n",
       "  </thead>\n",
       "  <tbody>\n",
       "    <tr>\n",
       "      <th>2010-02-07</th>\n",
       "      <td>1643690.90</td>\n",
       "    </tr>\n",
       "    <tr>\n",
       "      <th>2010-02-14</th>\n",
       "      <td>1641957.44</td>\n",
       "    </tr>\n",
       "    <tr>\n",
       "      <th>2010-02-21</th>\n",
       "      <td>1611968.17</td>\n",
       "    </tr>\n",
       "    <tr>\n",
       "      <th>2010-02-28</th>\n",
       "      <td>1409727.59</td>\n",
       "    </tr>\n",
       "    <tr>\n",
       "      <th>2010-03-07</th>\n",
       "      <td>1554806.68</td>\n",
       "    </tr>\n",
       "    <tr>\n",
       "      <th>2010-03-14</th>\n",
       "      <td>1439541.59</td>\n",
       "    </tr>\n",
       "    <tr>\n",
       "      <th>2010-03-21</th>\n",
       "      <td>1472515.79</td>\n",
       "    </tr>\n",
       "    <tr>\n",
       "      <th>2010-03-28</th>\n",
       "      <td>1404429.92</td>\n",
       "    </tr>\n",
       "    <tr>\n",
       "      <th>2010-04-04</th>\n",
       "      <td>1594968.28</td>\n",
       "    </tr>\n",
       "    <tr>\n",
       "      <th>2010-04-11</th>\n",
       "      <td>1545418.53</td>\n",
       "    </tr>\n",
       "    <tr>\n",
       "      <th>2010-04-18</th>\n",
       "      <td>1466058.28</td>\n",
       "    </tr>\n",
       "    <tr>\n",
       "      <th>2010-04-25</th>\n",
       "      <td>1391256.12</td>\n",
       "    </tr>\n",
       "    <tr>\n",
       "      <th>2010-05-02</th>\n",
       "      <td>1425100.71</td>\n",
       "    </tr>\n",
       "    <tr>\n",
       "      <th>2010-05-09</th>\n",
       "      <td>1603955.12</td>\n",
       "    </tr>\n",
       "    <tr>\n",
       "      <th>2010-05-16</th>\n",
       "      <td>1494251.50</td>\n",
       "    </tr>\n",
       "    <tr>\n",
       "      <th>2010-05-23</th>\n",
       "      <td>1399662.07</td>\n",
       "    </tr>\n",
       "    <tr>\n",
       "      <th>2010-05-30</th>\n",
       "      <td>1432069.95</td>\n",
       "    </tr>\n",
       "    <tr>\n",
       "      <th>2010-06-06</th>\n",
       "      <td>1615524.71</td>\n",
       "    </tr>\n",
       "    <tr>\n",
       "      <th>2010-06-13</th>\n",
       "      <td>1542561.09</td>\n",
       "    </tr>\n",
       "    <tr>\n",
       "      <th>2010-06-20</th>\n",
       "      <td>1503284.06</td>\n",
       "    </tr>\n",
       "    <tr>\n",
       "      <th>2010-06-27</th>\n",
       "      <td>1422711.60</td>\n",
       "    </tr>\n",
       "    <tr>\n",
       "      <th>2010-07-04</th>\n",
       "      <td>1492418.14</td>\n",
       "    </tr>\n",
       "    <tr>\n",
       "      <th>2010-07-11</th>\n",
       "      <td>1546074.18</td>\n",
       "    </tr>\n",
       "    <tr>\n",
       "      <th>2010-07-18</th>\n",
       "      <td>1448938.92</td>\n",
       "    </tr>\n",
       "    <tr>\n",
       "      <th>2010-07-25</th>\n",
       "      <td>1385065.20</td>\n",
       "    </tr>\n",
       "    <tr>\n",
       "      <th>2010-08-01</th>\n",
       "      <td>1371986.60</td>\n",
       "    </tr>\n",
       "    <tr>\n",
       "      <th>2010-08-08</th>\n",
       "      <td>1605491.78</td>\n",
       "    </tr>\n",
       "    <tr>\n",
       "      <th>2010-08-15</th>\n",
       "      <td>1508237.76</td>\n",
       "    </tr>\n",
       "    <tr>\n",
       "      <th>2010-08-22</th>\n",
       "      <td>1513080.49</td>\n",
       "    </tr>\n",
       "    <tr>\n",
       "      <th>2010-08-29</th>\n",
       "      <td>1449142.92</td>\n",
       "    </tr>\n",
       "    <tr>\n",
       "      <th>...</th>\n",
       "      <td>...</td>\n",
       "    </tr>\n",
       "    <tr>\n",
       "      <th>2012-04-08</th>\n",
       "      <td>1899676.88</td>\n",
       "    </tr>\n",
       "    <tr>\n",
       "      <th>2012-04-15</th>\n",
       "      <td>1621031.70</td>\n",
       "    </tr>\n",
       "    <tr>\n",
       "      <th>2012-04-22</th>\n",
       "      <td>1521577.87</td>\n",
       "    </tr>\n",
       "    <tr>\n",
       "      <th>2012-04-29</th>\n",
       "      <td>1468928.37</td>\n",
       "    </tr>\n",
       "    <tr>\n",
       "      <th>2012-05-06</th>\n",
       "      <td>1684519.99</td>\n",
       "    </tr>\n",
       "    <tr>\n",
       "      <th>2012-05-13</th>\n",
       "      <td>1611096.05</td>\n",
       "    </tr>\n",
       "    <tr>\n",
       "      <th>2012-05-20</th>\n",
       "      <td>1595901.87</td>\n",
       "    </tr>\n",
       "    <tr>\n",
       "      <th>2012-05-27</th>\n",
       "      <td>1555444.55</td>\n",
       "    </tr>\n",
       "    <tr>\n",
       "      <th>2012-06-03</th>\n",
       "      <td>1624477.58</td>\n",
       "    </tr>\n",
       "    <tr>\n",
       "      <th>2012-06-10</th>\n",
       "      <td>1697230.96</td>\n",
       "    </tr>\n",
       "    <tr>\n",
       "      <th>2012-06-17</th>\n",
       "      <td>1630607.00</td>\n",
       "    </tr>\n",
       "    <tr>\n",
       "      <th>2012-06-24</th>\n",
       "      <td>1527845.81</td>\n",
       "    </tr>\n",
       "    <tr>\n",
       "      <th>2012-07-01</th>\n",
       "      <td>1540421.49</td>\n",
       "    </tr>\n",
       "    <tr>\n",
       "      <th>2012-07-08</th>\n",
       "      <td>1769854.16</td>\n",
       "    </tr>\n",
       "    <tr>\n",
       "      <th>2012-07-15</th>\n",
       "      <td>1527014.04</td>\n",
       "    </tr>\n",
       "    <tr>\n",
       "      <th>2012-07-22</th>\n",
       "      <td>1497954.76</td>\n",
       "    </tr>\n",
       "    <tr>\n",
       "      <th>2012-07-29</th>\n",
       "      <td>1439123.71</td>\n",
       "    </tr>\n",
       "    <tr>\n",
       "      <th>2012-08-05</th>\n",
       "      <td>1631135.79</td>\n",
       "    </tr>\n",
       "    <tr>\n",
       "      <th>2012-08-12</th>\n",
       "      <td>1592409.97</td>\n",
       "    </tr>\n",
       "    <tr>\n",
       "      <th>2012-08-19</th>\n",
       "      <td>1597868.05</td>\n",
       "    </tr>\n",
       "    <tr>\n",
       "      <th>2012-08-26</th>\n",
       "      <td>1494122.38</td>\n",
       "    </tr>\n",
       "    <tr>\n",
       "      <th>2012-09-02</th>\n",
       "      <td>1582083.40</td>\n",
       "    </tr>\n",
       "    <tr>\n",
       "      <th>2012-09-09</th>\n",
       "      <td>1661767.33</td>\n",
       "    </tr>\n",
       "    <tr>\n",
       "      <th>2012-09-16</th>\n",
       "      <td>1517428.87</td>\n",
       "    </tr>\n",
       "    <tr>\n",
       "      <th>2012-09-23</th>\n",
       "      <td>1506126.06</td>\n",
       "    </tr>\n",
       "    <tr>\n",
       "      <th>2012-09-30</th>\n",
       "      <td>1437059.26</td>\n",
       "    </tr>\n",
       "    <tr>\n",
       "      <th>2012-10-07</th>\n",
       "      <td>1670785.97</td>\n",
       "    </tr>\n",
       "    <tr>\n",
       "      <th>2012-10-14</th>\n",
       "      <td>1573072.81</td>\n",
       "    </tr>\n",
       "    <tr>\n",
       "      <th>2012-10-21</th>\n",
       "      <td>1508068.77</td>\n",
       "    </tr>\n",
       "    <tr>\n",
       "      <th>2012-10-28</th>\n",
       "      <td>1493659.74</td>\n",
       "    </tr>\n",
       "  </tbody>\n",
       "</table>\n",
       "<p>143 rows × 1 columns</p>\n",
       "</div>"
      ],
      "text/plain": [
       "            Weekly_Sales\n",
       "Date                    \n",
       "2010-02-07    1643690.90\n",
       "2010-02-14    1641957.44\n",
       "2010-02-21    1611968.17\n",
       "2010-02-28    1409727.59\n",
       "2010-03-07    1554806.68\n",
       "2010-03-14    1439541.59\n",
       "2010-03-21    1472515.79\n",
       "2010-03-28    1404429.92\n",
       "2010-04-04    1594968.28\n",
       "2010-04-11    1545418.53\n",
       "2010-04-18    1466058.28\n",
       "2010-04-25    1391256.12\n",
       "2010-05-02    1425100.71\n",
       "2010-05-09    1603955.12\n",
       "2010-05-16    1494251.50\n",
       "2010-05-23    1399662.07\n",
       "2010-05-30    1432069.95\n",
       "2010-06-06    1615524.71\n",
       "2010-06-13    1542561.09\n",
       "2010-06-20    1503284.06\n",
       "2010-06-27    1422711.60\n",
       "2010-07-04    1492418.14\n",
       "2010-07-11    1546074.18\n",
       "2010-07-18    1448938.92\n",
       "2010-07-25    1385065.20\n",
       "2010-08-01    1371986.60\n",
       "2010-08-08    1605491.78\n",
       "2010-08-15    1508237.76\n",
       "2010-08-22    1513080.49\n",
       "2010-08-29    1449142.92\n",
       "...                  ...\n",
       "2012-04-08    1899676.88\n",
       "2012-04-15    1621031.70\n",
       "2012-04-22    1521577.87\n",
       "2012-04-29    1468928.37\n",
       "2012-05-06    1684519.99\n",
       "2012-05-13    1611096.05\n",
       "2012-05-20    1595901.87\n",
       "2012-05-27    1555444.55\n",
       "2012-06-03    1624477.58\n",
       "2012-06-10    1697230.96\n",
       "2012-06-17    1630607.00\n",
       "2012-06-24    1527845.81\n",
       "2012-07-01    1540421.49\n",
       "2012-07-08    1769854.16\n",
       "2012-07-15    1527014.04\n",
       "2012-07-22    1497954.76\n",
       "2012-07-29    1439123.71\n",
       "2012-08-05    1631135.79\n",
       "2012-08-12    1592409.97\n",
       "2012-08-19    1597868.05\n",
       "2012-08-26    1494122.38\n",
       "2012-09-02    1582083.40\n",
       "2012-09-09    1661767.33\n",
       "2012-09-16    1517428.87\n",
       "2012-09-23    1506126.06\n",
       "2012-09-30    1437059.26\n",
       "2012-10-07    1670785.97\n",
       "2012-10-14    1573072.81\n",
       "2012-10-21    1508068.77\n",
       "2012-10-28    1493659.74\n",
       "\n",
       "[143 rows x 1 columns]"
      ]
     },
     "execution_count": 6,
     "metadata": {},
     "output_type": "execute_result"
    }
   ],
   "source": [
    "sone = df[df.Store == 1][['Weekly_Sales']].resample('W', 'sum').astype(float)\n",
    "sone"
   ]
  },
  {
   "cell_type": "code",
   "execution_count": 7,
   "metadata": {
    "collapsed": false
   },
   "outputs": [
    {
     "data": {
      "text/plain": [
       "(143, 1)"
      ]
     },
     "execution_count": 7,
     "metadata": {},
     "output_type": "execute_result"
    }
   ],
   "source": [
    "sone.shape"
   ]
  },
  {
   "cell_type": "markdown",
   "metadata": {},
   "source": [
    "#### Plot the Weekly_Sales. What general trends do you observe?\n"
   ]
  },
  {
   "cell_type": "code",
   "execution_count": 9,
   "metadata": {
    "collapsed": false
   },
   "outputs": [
    {
     "data": {
      "text/plain": [
       "<matplotlib.axes._subplots.AxesSubplot at 0x10c4ca810>"
      ]
     },
     "execution_count": 9,
     "metadata": {},
     "output_type": "execute_result"
    },
    {
     "data": {
      "image/png": "[encoded data removed]",
      "text/plain": [
       "<matplotlib.figure.Figure at 0x10c4cac50>"
      ]
     },
     "metadata": {},
     "output_type": "display_data"
    }
   ],
   "source": [
    "sone.plot(figsize=(12,6))"
   ]
  },
  {
   "cell_type": "markdown",
   "metadata": {},
   "source": [
    "Answer: We can observe that close to Jan, sales increase."
   ]
  },
  {
   "cell_type": "markdown",
   "metadata": {},
   "source": [
    "#### Create an autocorrelation plot and explain your findings"
   ]
  },
  {
   "cell_type": "code",
   "execution_count": 13,
   "metadata": {
    "collapsed": false
   },
   "outputs": [
    {
     "data": {
      "image/png": "[encoded data removed]",
      "text/plain": [
       "<matplotlib.figure.Figure at 0x113539850>"
      ]
     },
     "execution_count": 13,
     "metadata": {},
     "output_type": "execute_result"
    },
    {
     "data": {
      "image/png": "[encoded data removed]",
      "text/plain": [
       "<matplotlib.figure.Figure at 0x113539850>"
      ]
     },
     "metadata": {},
     "output_type": "display_data"
    }
   ],
   "source": [
    "from statsmodels.graphics.tsaplots import plot_acf\n",
    "\n",
    "plot_acf(sone.Weekly_Sales, lags=25)"
   ]
  },
  {
   "cell_type": "markdown",
   "metadata": {},
   "source": []
  },
  {
   "cell_type": "markdown",
   "metadata": {},
   "source": [
    "#### Split the weekly sales data in a training and test set - using 80% of the data for training"
   ]
  },
  {
   "cell_type": "code",
   "execution_count": 17,
   "metadata": {
    "collapsed": true
   },
   "outputs": [],
   "source": [
    "train = sone[:int(len(sone)*.8)] \n",
    "test = sone[int(len(sone)*.8):]"
   ]
  },
  {
   "cell_type": "markdown",
   "metadata": {},
   "source": [
    "#### Create an AR(1) model on the training data and compute the mean absolute error of the predictions."
   ]
  },
  {
   "cell_type": "code",
   "execution_count": 20,
   "metadata": {
    "collapsed": true
   },
   "outputs": [],
   "source": [
    "import statsmodels.api as sm\n",
    "from sklearn.metrics import mean_absolute_error"
   ]
  },
  {
   "cell_type": "code",
   "execution_count": null,
   "metadata": {
    "collapsed": false
   },
   "outputs": [],
   "source": []
  },
  {
   "cell_type": "code",
   "execution_count": 21,
   "metadata": {
    "collapsed": false
   },
   "outputs": [
    {
     "data": {
      "text/html": [
       "<table class=\"simpletable\">\n",
       "<caption>ARMA Model Results</caption>\n",
       "<tr>\n",
       "  <th>Dep. Variable:</th>   <td>Weekly_Sales</td>   <th>  No. Observations:  </th>     <td>143</td>   \n",
       "</tr>\n",
       "<tr>\n",
       "  <th>Model:</th>            <td>ARMA(1, 0)</td>    <th>  Log Likelihood     </th>  <td>-1905.530</td>\n",
       "</tr>\n",
       "<tr>\n",
       "  <th>Method:</th>             <td>css-mle</td>     <th>  S.D. of innovations</th> <td>148170.138</td>\n",
       "</tr>\n",
       "<tr>\n",
       "  <th>Date:</th>          <td>Wed, 23 Mar 2016</td> <th>  AIC                </th>  <td>3817.060</td> \n",
       "</tr>\n",
       "<tr>\n",
       "  <th>Time:</th>              <td>16:59:24</td>     <th>  BIC                </th>  <td>3825.949</td> \n",
       "</tr>\n",
       "<tr>\n",
       "  <th>Sample:</th>           <td>02-07-2010</td>    <th>  HQIC               </th>  <td>3820.672</td> \n",
       "</tr>\n",
       "<tr>\n",
       "  <th></th>                 <td>- 10-28-2012</td>   <th>                     </th>      <td> </td>    \n",
       "</tr>\n",
       "</table>\n",
       "<table class=\"simpletable\">\n",
       "<tr>\n",
       "           <td></td>             <th>coef</th>     <th>std err</th>      <th>z</th>      <th>P>|z|</th> <th>[95.0% Conf. Int.]</th> \n",
       "</tr>\n",
       "<tr>\n",
       "  <th>const</th>              <td> 1.555e+06</td> <td> 1.77e+04</td> <td>   88.058</td> <td> 0.000</td> <td> 1.52e+06  1.59e+06</td>\n",
       "</tr>\n",
       "<tr>\n",
       "  <th>ar.L1.Weekly_Sales</th> <td>    0.3005</td> <td>    0.080</td> <td>    3.780</td> <td> 0.000</td> <td>    0.145     0.456</td>\n",
       "</tr>\n",
       "</table>\n",
       "<table class=\"simpletable\">\n",
       "<caption>Roots</caption>\n",
       "<tr>\n",
       "    <td></td>   <th>           Real</th> <th>         Imaginary</th> <th>         Modulus</th> <th>        Frequency</th>\n",
       "</tr>\n",
       "<tr>\n",
       "  <th>AR.1</th>               3.3273                    +0.0000j                    3.3273                    0.0000     \n",
       "</tr>\n",
       "</table>"
      ],
      "text/plain": [
       "<class 'statsmodels.iolib.summary.Summary'>\n",
       "\"\"\"\n",
       "                              ARMA Model Results                              \n",
       "==============================================================================\n",
       "Dep. Variable:           Weekly_Sales   No. Observations:                  143\n",
       "Model:                     ARMA(1, 0)   Log Likelihood               -1905.530\n",
       "Method:                       css-mle   S.D. of innovations         148170.138\n",
       "Date:                Wed, 23 Mar 2016   AIC                           3817.060\n",
       "Time:                        16:59:24   BIC                           3825.949\n",
       "Sample:                    02-07-2010   HQIC                          3820.672\n",
       "                         - 10-28-2012                                         \n",
       "======================================================================================\n",
       "                         coef    std err          z      P>|z|      [95.0% Conf. Int.]\n",
       "--------------------------------------------------------------------------------------\n",
       "const               1.555e+06   1.77e+04     88.058      0.000      1.52e+06  1.59e+06\n",
       "ar.L1.Weekly_Sales     0.3005      0.080      3.780      0.000         0.145     0.456\n",
       "                                    Roots                                    \n",
       "=============================================================================\n",
       "                 Real           Imaginary           Modulus         Frequency\n",
       "-----------------------------------------------------------------------------\n",
       "AR.1            3.3273           +0.0000j            3.3273            0.0000\n",
       "-----------------------------------------------------------------------------\n",
       "\"\"\""
      ]
     },
     "execution_count": 21,
     "metadata": {},
     "output_type": "execute_result"
    }
   ],
   "source": [
    "from statsmodels.tsa.arima_model import ARMA\n",
    "\n",
    "sone_weekly = sone[['Weekly_Sales']].astype(float)\n",
    "model = ARMA(sone_weekly, (1, 0)).fit()\n",
    "model.summary()"
   ]
  },
  {
   "cell_type": "code",
   "execution_count": 31,
   "metadata": {
    "collapsed": false
   },
   "outputs": [
    {
     "name": "stderr",
     "output_type": "stream",
     "text": [
      "/Users/albarron/anaconda/lib/python2.7/site-packages/statsmodels/base/data.py:503: FutureWarning: TimeSeries is deprecated. Please use Series\n",
      "  return TimeSeries(result, index=self.predict_dates)\n"
     ]
    },
    {
     "ename": "ValueError",
     "evalue": "Found arrays with inconsistent numbers of samples: [29 31]",
     "output_type": "error",
     "traceback": [
      "\u001b[0;31m---------------------------------------------------------------------------\u001b[0m",
      "\u001b[0;31mValueError\u001b[0m                                Traceback (most recent call last)",
      "\u001b[0;32m<ipython-input-31-c6f6b21e9e27>\u001b[0m in \u001b[0;36m<module>\u001b[0;34m()\u001b[0m\n\u001b[0;32m----> 1\u001b[0;31m \u001b[0mSE\u001b[0m \u001b[0;34m=\u001b[0m \u001b[0;34m(\u001b[0m\u001b[0mmean_absolute_error\u001b[0m\u001b[0;34m(\u001b[0m\u001b[0;34m(\u001b[0m\u001b[0mtest\u001b[0m\u001b[0;34m)\u001b[0m\u001b[0;34m,\u001b[0m \u001b[0mmodel\u001b[0m\u001b[0;34m.\u001b[0m\u001b[0mpredict\u001b[0m\u001b[0;34m(\u001b[0m\u001b[0;36m110\u001b[0m\u001b[0;34m,\u001b[0m\u001b[0;36m140\u001b[0m\u001b[0;34m)\u001b[0m\u001b[0;34m)\u001b[0m\u001b[0;34m)\u001b[0m\u001b[0;34m**\u001b[0m\u001b[0;36m.5\u001b[0m \u001b[0;31m#should be mean_square_error, not absolute\u001b[0m\u001b[0;34m\u001b[0m\u001b[0m\n\u001b[0m\u001b[1;32m      2\u001b[0m \u001b[0;32mprint\u001b[0m \u001b[0mSE\u001b[0m\u001b[0;34m\u001b[0m\u001b[0m\n",
      "\u001b[0;32m/Users/albarron/anaconda/lib/python2.7/site-packages/sklearn/metrics/regression.pyc\u001b[0m in \u001b[0;36mmean_absolute_error\u001b[0;34m(y_true, y_pred, sample_weight)\u001b[0m\n\u001b[1;32m    137\u001b[0m \u001b[0;34m\u001b[0m\u001b[0m\n\u001b[1;32m    138\u001b[0m     \"\"\"\n\u001b[0;32m--> 139\u001b[0;31m     \u001b[0my_type\u001b[0m\u001b[0;34m,\u001b[0m \u001b[0my_true\u001b[0m\u001b[0;34m,\u001b[0m \u001b[0my_pred\u001b[0m \u001b[0;34m=\u001b[0m \u001b[0m_check_reg_targets\u001b[0m\u001b[0;34m(\u001b[0m\u001b[0my_true\u001b[0m\u001b[0;34m,\u001b[0m \u001b[0my_pred\u001b[0m\u001b[0;34m)\u001b[0m\u001b[0;34m\u001b[0m\u001b[0m\n\u001b[0m\u001b[1;32m    140\u001b[0m     return np.average(np.abs(y_pred - y_true).mean(axis=1),\n\u001b[1;32m    141\u001b[0m                       weights=sample_weight)\n",
      "\u001b[0;32m/Users/albarron/anaconda/lib/python2.7/site-packages/sklearn/metrics/regression.pyc\u001b[0m in \u001b[0;36m_check_reg_targets\u001b[0;34m(y_true, y_pred)\u001b[0m\n\u001b[1;32m     55\u001b[0m         \u001b[0mEstimated\u001b[0m \u001b[0mtarget\u001b[0m \u001b[0mvalues\u001b[0m\u001b[0;34m.\u001b[0m\u001b[0;34m\u001b[0m\u001b[0m\n\u001b[1;32m     56\u001b[0m     \"\"\"\n\u001b[0;32m---> 57\u001b[0;31m     \u001b[0mcheck_consistent_length\u001b[0m\u001b[0;34m(\u001b[0m\u001b[0my_true\u001b[0m\u001b[0;34m,\u001b[0m \u001b[0my_pred\u001b[0m\u001b[0;34m)\u001b[0m\u001b[0;34m\u001b[0m\u001b[0m\n\u001b[0m\u001b[1;32m     58\u001b[0m     \u001b[0my_true\u001b[0m \u001b[0;34m=\u001b[0m \u001b[0mcheck_array\u001b[0m\u001b[0;34m(\u001b[0m\u001b[0my_true\u001b[0m\u001b[0;34m,\u001b[0m \u001b[0mensure_2d\u001b[0m\u001b[0;34m=\u001b[0m\u001b[0mFalse\u001b[0m\u001b[0;34m)\u001b[0m\u001b[0;34m\u001b[0m\u001b[0m\n\u001b[1;32m     59\u001b[0m     \u001b[0my_pred\u001b[0m \u001b[0;34m=\u001b[0m \u001b[0mcheck_array\u001b[0m\u001b[0;34m(\u001b[0m\u001b[0my_pred\u001b[0m\u001b[0;34m,\u001b[0m \u001b[0mensure_2d\u001b[0m\u001b[0;34m=\u001b[0m\u001b[0mFalse\u001b[0m\u001b[0;34m)\u001b[0m\u001b[0;34m\u001b[0m\u001b[0m\n",
      "\u001b[0;32m/Users/albarron/anaconda/lib/python2.7/site-packages/sklearn/utils/validation.pyc\u001b[0m in \u001b[0;36mcheck_consistent_length\u001b[0;34m(*arrays)\u001b[0m\n\u001b[1;32m    172\u001b[0m     \u001b[0;32mif\u001b[0m \u001b[0mlen\u001b[0m\u001b[0;34m(\u001b[0m\u001b[0muniques\u001b[0m\u001b[0;34m)\u001b[0m \u001b[0;34m>\u001b[0m \u001b[0;36m1\u001b[0m\u001b[0;34m:\u001b[0m\u001b[0;34m\u001b[0m\u001b[0m\n\u001b[1;32m    173\u001b[0m         raise ValueError(\"Found arrays with inconsistent numbers of samples: \"\n\u001b[0;32m--> 174\u001b[0;31m                          \"%s\" % str(uniques))\n\u001b[0m\u001b[1;32m    175\u001b[0m \u001b[0;34m\u001b[0m\u001b[0m\n\u001b[1;32m    176\u001b[0m \u001b[0;34m\u001b[0m\u001b[0m\n",
      "\u001b[0;31mValueError\u001b[0m: Found arrays with inconsistent numbers of samples: [29 31]"
     ]
    }
   ],
   "source": [
    "SE = (mean_absolute_error((test), model.predict(110,140)))**.5 #should be mean_square_error, not absolute\n",
    "print SE"
   ]
  },
  {
   "cell_type": "markdown",
   "metadata": {},
   "source": [
    "#### Plot the residuals - where are their significant errors."
   ]
  },
  {
   "cell_type": "code",
   "execution_count": 22,
   "metadata": {
    "collapsed": false
   },
   "outputs": [
    {
     "data": {
      "text/plain": [
       "<matplotlib.axes._subplots.AxesSubplot at 0x114369750>"
      ]
     },
     "execution_count": 22,
     "metadata": {},
     "output_type": "execute_result"
    },
    {
     "data": {
      "image/png": "[encoded data removed]",
      "text/plain": [
       "<matplotlib.figure.Figure at 0x10c61f650>"
      ]
     },
     "metadata": {},
     "output_type": "display_data"
    }
   ],
   "source": [
    "model.resid.plot()\n",
    "\n"
   ]
  },
  {
   "cell_type": "markdown",
   "metadata": {},
   "source": [
    "Answer: Everything seems to be fine except end of DEC close to Jan."
   ]
  },
  {
   "cell_type": "markdown",
   "metadata": {},
   "source": [
    "#### Compute and AR(2) model and an ARIMA(3, 1,) model - does this improve your mean absolute error on the held out set.\n"
   ]
  },
  {
   "cell_type": "code",
   "execution_count": 23,
   "metadata": {
    "collapsed": false
   },
   "outputs": [
    {
     "data": {
      "text/html": [
       "<table class=\"simpletable\">\n",
       "<caption>ARMA Model Results</caption>\n",
       "<tr>\n",
       "  <th>Dep. Variable:</th>   <td>Weekly_Sales</td>   <th>  No. Observations:  </th>     <td>143</td>   \n",
       "</tr>\n",
       "<tr>\n",
       "  <th>Model:</th>            <td>ARMA(2, 0)</td>    <th>  Log Likelihood     </th>  <td>-1905.415</td>\n",
       "</tr>\n",
       "<tr>\n",
       "  <th>Method:</th>             <td>css-mle</td>     <th>  S.D. of innovations</th> <td>148049.318</td>\n",
       "</tr>\n",
       "<tr>\n",
       "  <th>Date:</th>          <td>Wed, 23 Mar 2016</td> <th>  AIC                </th>  <td>3818.830</td> \n",
       "</tr>\n",
       "<tr>\n",
       "  <th>Time:</th>              <td>17:00:52</td>     <th>  BIC                </th>  <td>3830.682</td> \n",
       "</tr>\n",
       "<tr>\n",
       "  <th>Sample:</th>           <td>02-07-2010</td>    <th>  HQIC               </th>  <td>3823.646</td> \n",
       "</tr>\n",
       "<tr>\n",
       "  <th></th>                 <td>- 10-28-2012</td>   <th>                     </th>      <td> </td>    \n",
       "</tr>\n",
       "</table>\n",
       "<table class=\"simpletable\">\n",
       "<tr>\n",
       "           <td></td>             <th>coef</th>     <th>std err</th>      <th>z</th>      <th>P>|z|</th> <th>[95.0% Conf. Int.]</th> \n",
       "</tr>\n",
       "<tr>\n",
       "  <th>const</th>              <td> 1.555e+06</td> <td> 1.84e+04</td> <td>   84.688</td> <td> 0.000</td> <td> 1.52e+06  1.59e+06</td>\n",
       "</tr>\n",
       "<tr>\n",
       "  <th>ar.L1.Weekly_Sales</th> <td>    0.2885</td> <td>    0.083</td> <td>    3.463</td> <td> 0.001</td> <td>    0.125     0.452</td>\n",
       "</tr>\n",
       "<tr>\n",
       "  <th>ar.L2.Weekly_Sales</th> <td>    0.0399</td> <td>    0.083</td> <td>    0.480</td> <td> 0.632</td> <td>   -0.123     0.203</td>\n",
       "</tr>\n",
       "</table>\n",
       "<table class=\"simpletable\">\n",
       "<caption>Roots</caption>\n",
       "<tr>\n",
       "    <td></td>   <th>           Real</th> <th>         Imaginary</th> <th>         Modulus</th> <th>        Frequency</th>\n",
       "</tr>\n",
       "<tr>\n",
       "  <th>AR.1</th>               2.5596                    +0.0000j                    2.5596                    0.0000     \n",
       "</tr>\n",
       "<tr>\n",
       "  <th>AR.2</th>              -9.7871                    +0.0000j                    9.7871                    0.5000     \n",
       "</tr>\n",
       "</table>"
      ],
      "text/plain": [
       "<class 'statsmodels.iolib.summary.Summary'>\n",
       "\"\"\"\n",
       "                              ARMA Model Results                              \n",
       "==============================================================================\n",
       "Dep. Variable:           Weekly_Sales   No. Observations:                  143\n",
       "Model:                     ARMA(2, 0)   Log Likelihood               -1905.415\n",
       "Method:                       css-mle   S.D. of innovations         148049.318\n",
       "Date:                Wed, 23 Mar 2016   AIC                           3818.830\n",
       "Time:                        17:00:52   BIC                           3830.682\n",
       "Sample:                    02-07-2010   HQIC                          3823.646\n",
       "                         - 10-28-2012                                         \n",
       "======================================================================================\n",
       "                         coef    std err          z      P>|z|      [95.0% Conf. Int.]\n",
       "--------------------------------------------------------------------------------------\n",
       "const               1.555e+06   1.84e+04     84.688      0.000      1.52e+06  1.59e+06\n",
       "ar.L1.Weekly_Sales     0.2885      0.083      3.463      0.001         0.125     0.452\n",
       "ar.L2.Weekly_Sales     0.0399      0.083      0.480      0.632        -0.123     0.203\n",
       "                                    Roots                                    \n",
       "=============================================================================\n",
       "                 Real           Imaginary           Modulus         Frequency\n",
       "-----------------------------------------------------------------------------\n",
       "AR.1            2.5596           +0.0000j            2.5596            0.0000\n",
       "AR.2           -9.7871           +0.0000j            9.7871            0.5000\n",
       "-----------------------------------------------------------------------------\n",
       "\"\"\""
      ]
     },
     "execution_count": 23,
     "metadata": {},
     "output_type": "execute_result"
    }
   ],
   "source": [
    "from statsmodels.tsa.arima_model import ARMA\n",
    "\n",
    "sone_weekly = sone[['Weekly_Sales']].astype(float)\n",
    "model = ARMA(sone_weekly, (2, 0)).fit()\n",
    "model.summary()"
   ]
  },
  {
   "cell_type": "code",
   "execution_count": 24,
   "metadata": {
    "collapsed": false
   },
   "outputs": [
    {
     "data": {
      "text/plain": [
       "<matplotlib.axes._subplots.AxesSubplot at 0x11442c250>"
      ]
     },
     "execution_count": 24,
     "metadata": {},
     "output_type": "execute_result"
    },
    {
     "data": {
      "image/png": "[encoded data removed]",
      "text/plain": [
       "<matplotlib.figure.Figure at 0x114475e90>"
      ]
     },
     "metadata": {},
     "output_type": "display_data"
    }
   ],
   "source": [
    "model.resid.plot()"
   ]
  },
  {
   "cell_type": "code",
   "execution_count": 25,
   "metadata": {
    "collapsed": false
   },
   "outputs": [
    {
     "data": {
      "text/html": [
       "<table class=\"simpletable\">\n",
       "<caption>ARIMA Model Results</caption>\n",
       "<tr>\n",
       "  <th>Dep. Variable:</th>  <td>D.Weekly_Sales</td>  <th>  No. Observations:  </th>     <td>142</td>   \n",
       "</tr>\n",
       "<tr>\n",
       "  <th>Model:</th>          <td>ARIMA(3, 1, 1)</td>  <th>  Log Likelihood     </th>  <td>-1894.878</td>\n",
       "</tr>\n",
       "<tr>\n",
       "  <th>Method:</th>             <td>css-mle</td>     <th>  S.D. of innovations</th> <td>150588.507</td>\n",
       "</tr>\n",
       "<tr>\n",
       "  <th>Date:</th>          <td>Wed, 23 Mar 2016</td> <th>  AIC                </th>  <td>3801.756</td> \n",
       "</tr>\n",
       "<tr>\n",
       "  <th>Time:</th>              <td>17:01:43</td>     <th>  BIC                </th>  <td>3819.491</td> \n",
       "</tr>\n",
       "<tr>\n",
       "  <th>Sample:</th>           <td>02-14-2010</td>    <th>  HQIC               </th>  <td>3808.962</td> \n",
       "</tr>\n",
       "<tr>\n",
       "  <th></th>                 <td>- 10-28-2012</td>   <th>                     </th>      <td> </td>    \n",
       "</tr>\n",
       "</table>\n",
       "<table class=\"simpletable\">\n",
       "<tr>\n",
       "            <td></td>              <th>coef</th>     <th>std err</th>      <th>z</th>      <th>P>|z|</th> <th>[95.0% Conf. Int.]</th> \n",
       "</tr>\n",
       "<tr>\n",
       "  <th>const</th>                <td>-1056.5574</td> <td> 5959.095</td> <td>   -0.177</td> <td> 0.860</td> <td>-1.27e+04  1.06e+04</td>\n",
       "</tr>\n",
       "<tr>\n",
       "  <th>ar.L1.D.Weekly_Sales</th> <td>   -0.8601</td> <td>    0.133</td> <td>   -6.482</td> <td> 0.000</td> <td>   -1.120    -0.600</td>\n",
       "</tr>\n",
       "<tr>\n",
       "  <th>ar.L2.D.Weekly_Sales</th> <td>   -0.5704</td> <td>    0.102</td> <td>   -5.579</td> <td> 0.000</td> <td>   -0.771    -0.370</td>\n",
       "</tr>\n",
       "<tr>\n",
       "  <th>ar.L3.D.Weekly_Sales</th> <td>   -0.4576</td> <td>    0.075</td> <td>   -6.101</td> <td> 0.000</td> <td>   -0.605    -0.311</td>\n",
       "</tr>\n",
       "<tr>\n",
       "  <th>ma.L1.D.Weekly_Sales</th> <td>    0.3527</td> <td>    0.137</td> <td>    2.567</td> <td> 0.011</td> <td>    0.083     0.622</td>\n",
       "</tr>\n",
       "</table>\n",
       "<table class=\"simpletable\">\n",
       "<caption>Roots</caption>\n",
       "<tr>\n",
       "    <td></td>   <th>           Real</th> <th>         Imaginary</th> <th>         Modulus</th> <th>        Frequency</th>\n",
       "</tr>\n",
       "<tr>\n",
       "  <th>AR.1</th>              -1.1990                    -0.0000j                    1.1990                   -0.5000     \n",
       "</tr>\n",
       "<tr>\n",
       "  <th>AR.2</th>              -0.0238                    -1.3498j                    1.3500                   -0.2528     \n",
       "</tr>\n",
       "<tr>\n",
       "  <th>AR.3</th>              -0.0238                    +1.3498j                    1.3500                    0.2528     \n",
       "</tr>\n",
       "<tr>\n",
       "  <th>MA.1</th>              -2.8355                    +0.0000j                    2.8355                    0.5000     \n",
       "</tr>\n",
       "</table>"
      ],
      "text/plain": [
       "<class 'statsmodels.iolib.summary.Summary'>\n",
       "\"\"\"\n",
       "                             ARIMA Model Results                              \n",
       "==============================================================================\n",
       "Dep. Variable:         D.Weekly_Sales   No. Observations:                  142\n",
       "Model:                 ARIMA(3, 1, 1)   Log Likelihood               -1894.878\n",
       "Method:                       css-mle   S.D. of innovations         150588.507\n",
       "Date:                Wed, 23 Mar 2016   AIC                           3801.756\n",
       "Time:                        17:01:43   BIC                           3819.491\n",
       "Sample:                    02-14-2010   HQIC                          3808.962\n",
       "                         - 10-28-2012                                         \n",
       "========================================================================================\n",
       "                           coef    std err          z      P>|z|      [95.0% Conf. Int.]\n",
       "----------------------------------------------------------------------------------------\n",
       "const                -1056.5574   5959.095     -0.177      0.860     -1.27e+04  1.06e+04\n",
       "ar.L1.D.Weekly_Sales    -0.8601      0.133     -6.482      0.000        -1.120    -0.600\n",
       "ar.L2.D.Weekly_Sales    -0.5704      0.102     -5.579      0.000        -0.771    -0.370\n",
       "ar.L3.D.Weekly_Sales    -0.4576      0.075     -6.101      0.000        -0.605    -0.311\n",
       "ma.L1.D.Weekly_Sales     0.3527      0.137      2.567      0.011         0.083     0.622\n",
       "                                    Roots                                    \n",
       "=============================================================================\n",
       "                 Real           Imaginary           Modulus         Frequency\n",
       "-----------------------------------------------------------------------------\n",
       "AR.1           -1.1990           -0.0000j            1.1990           -0.5000\n",
       "AR.2           -0.0238           -1.3498j            1.3500           -0.2528\n",
       "AR.3           -0.0238           +1.3498j            1.3500            0.2528\n",
       "MA.1           -2.8355           +0.0000j            2.8355            0.5000\n",
       "-----------------------------------------------------------------------------\n",
       "\"\"\""
      ]
     },
     "execution_count": 25,
     "metadata": {},
     "output_type": "execute_result"
    }
   ],
   "source": [
    "from statsmodels.tsa.arima_model import ARIMA\n",
    "\n",
    "model = ARIMA(sone_weekly, (3, 1, 1)).fit()\n",
    "model.summary()"
   ]
  },
  {
   "cell_type": "code",
   "execution_count": 26,
   "metadata": {
    "collapsed": false
   },
   "outputs": [
    {
     "data": {
      "text/plain": [
       "<matplotlib.axes._subplots.AxesSubplot at 0x114731950>"
      ]
     },
     "execution_count": 26,
     "metadata": {},
     "output_type": "execute_result"
    },
    {
     "data": {
      "image/png": "[encoded data removed]",
      "text/plain": [
       "<matplotlib.figure.Figure at 0x1145f5110>"
      ]
     },
     "metadata": {},
     "output_type": "display_data"
    }
   ],
   "source": [
    "model.resid.plot()"
   ]
  },
  {
   "cell_type": "code",
   "execution_count": 28,
   "metadata": {
    "collapsed": false
   },
   "outputs": [
    {
     "name": "stderr",
     "output_type": "stream",
     "text": [
      "/Users/albarron/anaconda/lib/python2.7/site-packages/statsmodels/tsa/arima_model.py:1847: FutureWarning: TimeSeries is deprecated. Please use Series\n",
      "  forecast = TimeSeries(forecast, index=self.data.predict_dates)\n"
     ]
    },
    {
     "data": {
      "image/png": "[encoded data removed]",
      "text/plain": [
       "<matplotlib.figure.Figure at 0x1148b31d0>"
      ]
     },
     "execution_count": 28,
     "metadata": {},
     "output_type": "execute_result"
    },
    {
     "data": {
      "image/png": "[encoded data removed]",
      "text/plain": [
       "<matplotlib.figure.Figure at 0x1148b31d0>"
      ]
     },
     "metadata": {},
     "output_type": "display_data"
    }
   ],
   "source": [
    "model.plot_predict(110,140)"
   ]
  },
  {
   "cell_type": "markdown",
   "metadata": {},
   "source": [
    "#### Finally, compute an ARIMA model to improve your prediction error - iterate on the p, q, and parameters comparing the model's performance.\n"
   ]
  },
  {
   "cell_type": "code",
   "execution_count": null,
   "metadata": {
    "collapsed": false
   },
   "outputs": [],
   "source": [
    "p = range(0,5)\n",
    "q = range(0,5)\n",
    "d = range(0,3)\n",
    "\n",
    "train = sone_weekly[:int(.75*len(sone_weekly))]\n",
    "test = sone_weekly[int(.75*len(sone_weekly)):]\n",
    "\n",
    "for i in p:\n",
    "    for i in q:\n",
    "        for i in d:\n",
    "            model = ARIMA(sone_weekly, (3, 1, 1)).fit()\n",
    "            model = ARIMA(train, (2, 0, 0)).fit()\n",
    "model.summary()\n",
    "predictions = model.predict(start = '2014-12-14',end = '2015-08-02')\n"
   ]
  },
  {
   "cell_type": "markdown",
   "metadata": {},
   "source": [
    "Answer: It seems like "
   ]
  }
 ],
 "metadata": {
  "kernelspec": {
   "display_name": "Python 2",
   "language": "python",
   "name": "python2"
  },
  "language_info": {
   "codemirror_mode": {
    "name": "ipython",
    "version": 2
   },
   "file_extension": ".py",
   "mimetype": "text/x-python",
   "name": "python",
   "nbconvert_exporter": "python",
   "pygments_lexer": "ipython2",
   "version": "2.7.11"
  }
 },
 "nbformat": 4,
 "nbformat_minor": 0
}
