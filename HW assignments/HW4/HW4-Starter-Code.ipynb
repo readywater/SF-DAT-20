{
 "cells": [
  {
   "cell_type": "markdown",
   "metadata": {},
   "source": [
    "# HW#4  due at 6:30PM on March 21st 2016!"
   ]
  },
  {
   "cell_type": "code",
   "execution_count": 3,
   "metadata": {
    "collapsed": false
   },
   "outputs": [
    {
     "name": "stderr",
     "output_type": "stream",
     "text": [
      "/Users/albarron/anaconda/lib/python2.7/site-packages/matplotlib/font_manager.py:273: UserWarning: Matplotlib is building the font cache using fc-list. This may take a moment.\n",
      "  warnings.warn('Matplotlib is building the font cache using fc-list. This may take a moment.')\n"
     ]
    }
   ],
   "source": [
    "import pandas as pd\n",
    "import numpy as np\n",
    "%matplotlib inline"
   ]
  },
  {
   "cell_type": "code",
   "execution_count": 4,
   "metadata": {
    "collapsed": false
   },
   "outputs": [
    {
     "data": {
      "text/plain": [
       "4601"
      ]
     },
     "execution_count": 4,
     "metadata": {},
     "output_type": "execute_result"
    }
   ],
   "source": [
    "url = \"https://raw.githubusercontent.com/ga-students/SF-DAT-20/master/Data/spambase.csv\"\n",
    "SpamData = pd.read_csv(url)\n",
    "SpamData.head()\n",
    "len(SpamData)"
   ]
  },
  {
   "cell_type": "code",
   "execution_count": 5,
   "metadata": {
    "collapsed": false
   },
   "outputs": [],
   "source": [
    "ListOfAllVariables = SpamData.columns.values\n",
    "X = SpamData[ListOfAllVariables]\n",
    "del X['is_spam']\n",
    "y = SpamData['is_spam']"
   ]
  },
  {
   "cell_type": "code",
   "execution_count": 6,
   "metadata": {
    "collapsed": false
   },
   "outputs": [
    {
     "data": {
      "text/html": [
       "<div>\n",
       "<table border=\"1\" class=\"dataframe\">\n",
       "  <thead>\n",
       "    <tr style=\"text-align: right;\">\n",
       "      <th></th>\n",
       "      <th>word_freq_make</th>\n",
       "      <th>word_freq_address</th>\n",
       "      <th>word_freq_all</th>\n",
       "      <th>word_freq_3d</th>\n",
       "      <th>word_freq_our</th>\n",
       "      <th>word_freq_over</th>\n",
       "      <th>word_freq_remove</th>\n",
       "      <th>word_freq_internet</th>\n",
       "      <th>word_freq_order</th>\n",
       "      <th>word_freq_mail</th>\n",
       "      <th>...</th>\n",
       "      <th>word_freq_conference</th>\n",
       "      <th>char_freq_;</th>\n",
       "      <th>char_freq_(</th>\n",
       "      <th>char_freq_[</th>\n",
       "      <th>char_freq_!</th>\n",
       "      <th>char_freq_$</th>\n",
       "      <th>char_freq_#</th>\n",
       "      <th>capital_run_length_average</th>\n",
       "      <th>capital_run_length_longest</th>\n",
       "      <th>capital_run_length_total</th>\n",
       "    </tr>\n",
       "  </thead>\n",
       "  <tbody>\n",
       "    <tr>\n",
       "      <th>0</th>\n",
       "      <td>0.00</td>\n",
       "      <td>0.64</td>\n",
       "      <td>0.64</td>\n",
       "      <td>0</td>\n",
       "      <td>0.32</td>\n",
       "      <td>0.00</td>\n",
       "      <td>0.00</td>\n",
       "      <td>0.00</td>\n",
       "      <td>0</td>\n",
       "      <td>0.00</td>\n",
       "      <td>...</td>\n",
       "      <td>0</td>\n",
       "      <td>0</td>\n",
       "      <td>0.000</td>\n",
       "      <td>0</td>\n",
       "      <td>0.778</td>\n",
       "      <td>0.00</td>\n",
       "      <td>0.000</td>\n",
       "      <td>3.756</td>\n",
       "      <td>61</td>\n",
       "      <td>278</td>\n",
       "    </tr>\n",
       "    <tr>\n",
       "      <th>1</th>\n",
       "      <td>0.21</td>\n",
       "      <td>0.28</td>\n",
       "      <td>0.50</td>\n",
       "      <td>0</td>\n",
       "      <td>0.14</td>\n",
       "      <td>0.28</td>\n",
       "      <td>0.21</td>\n",
       "      <td>0.07</td>\n",
       "      <td>0</td>\n",
       "      <td>0.94</td>\n",
       "      <td>...</td>\n",
       "      <td>0</td>\n",
       "      <td>0</td>\n",
       "      <td>0.132</td>\n",
       "      <td>0</td>\n",
       "      <td>0.372</td>\n",
       "      <td>0.18</td>\n",
       "      <td>0.048</td>\n",
       "      <td>5.114</td>\n",
       "      <td>101</td>\n",
       "      <td>1028</td>\n",
       "    </tr>\n",
       "  </tbody>\n",
       "</table>\n",
       "<p>2 rows × 57 columns</p>\n",
       "</div>"
      ],
      "text/plain": [
       "   word_freq_make  word_freq_address  word_freq_all  word_freq_3d  \\\n",
       "0            0.00               0.64           0.64             0   \n",
       "1            0.21               0.28           0.50             0   \n",
       "\n",
       "   word_freq_our  word_freq_over  word_freq_remove  word_freq_internet  \\\n",
       "0           0.32            0.00              0.00                0.00   \n",
       "1           0.14            0.28              0.21                0.07   \n",
       "\n",
       "   word_freq_order  word_freq_mail            ...             \\\n",
       "0                0            0.00            ...              \n",
       "1                0            0.94            ...              \n",
       "\n",
       "   word_freq_conference  char_freq_;  char_freq_(  char_freq_[  char_freq_!  \\\n",
       "0                     0            0        0.000            0        0.778   \n",
       "1                     0            0        0.132            0        0.372   \n",
       "\n",
       "   char_freq_$  char_freq_#  capital_run_length_average  \\\n",
       "0         0.00        0.000                       3.756   \n",
       "1         0.18        0.048                       5.114   \n",
       "\n",
       "   capital_run_length_longest  capital_run_length_total  \n",
       "0                          61                       278  \n",
       "1                         101                      1028  \n",
       "\n",
       "[2 rows x 57 columns]"
      ]
     },
     "execution_count": 6,
     "metadata": {},
     "output_type": "execute_result"
    }
   ],
   "source": [
    "X.head(2)"
   ]
  },
  {
   "cell_type": "markdown",
   "metadata": {},
   "source": [
    "### Earlier in this course, we used logistic regression model and could achieve 8.2% misclassification error. Now, you know a little bit of higher end algorithms like Random Forest and boosting. Go ahead and beat Logistic regression algorithm. The champion, the person who beats CV-error of 8.2% and makes the least amount of error will receive a ONE DOLLAR bill award! \n",
    "### Just beat it, beat it, beat it, beat it\n",
    "### No one wants to be defeated\n",
    "### Showin' how funky strong is your fight \n",
    "### It doesn't matter who's wrong or right "
   ]
  },
  {
   "cell_type": "markdown",
   "metadata": {},
   "source": [
    "In order to be consitent use the following way to cross-validate your errors:\n",
    "from sklearn import cross_validation\n",
    "\n",
    "kf = cross_validation.KFold(len(BostonData), n_folds = 10, shuffle = True) \n",
    "\n",
    "scores = []\n",
    "\n",
    "for train_index, test_index in kf:\n",
    "\n",
    "                                  ...\n",
    "                                  "
   ]
  },
  {
   "cell_type": "code",
   "execution_count": 7,
   "metadata": {
    "collapsed": true
   },
   "outputs": [],
   "source": [
    "from sklearn.ensemble import RandomForestClassifier\n",
    "from sklearn.cross_validation import cross_val_score"
   ]
  },
  {
   "cell_type": "code",
   "execution_count": 8,
   "metadata": {
    "collapsed": true
   },
   "outputs": [],
   "source": [
    "# Fit the Features!\n",
    "score = []\n",
    "Features = range(1,len(X.columns))\n",
    "for i in Features:\n",
    "    RF = RandomForestClassifier(n_estimators = 100,\n",
    "                               max_features = i, #len(X.columns)/3, # Was 10\n",
    "                               min_samples_leaf = 5,\n",
    "                               oob_score = True)\n",
    "    scores = cross_val_score(RF, X, y, cv=10, scoring='mean_squared_error')\n",
    "    score.append(np.mean(np.sqrt(-scores)))"
   ]
  },
  {
   "cell_type": "code",
   "execution_count": 9,
   "metadata": {
    "collapsed": false
   },
   "outputs": [
    {
     "data": {
      "text/plain": [
       "<matplotlib.axes._subplots.AxesSubplot at 0x10f5407d0>"
      ]
     },
     "execution_count": 9,
     "metadata": {},
     "output_type": "execute_result"
    },
    {
     "data": {
      "image/png": "[encoded data removed]",
      "text/plain": [
       "<matplotlib.figure.Figure at 0x10f519950>"
      ]
     },
     "metadata": {},
     "output_type": "display_data"
    }
   ],
   "source": [
    "Depth_Choice_df = pd.DataFrame({'cv_scores': score,'Number of Features': Features})\n",
    "Depth_Choice_df.plot(x ='Number of Features',y = 'cv_scores')"
   ]
  },
  {
   "cell_type": "code",
   "execution_count": 11,
   "metadata": {
    "collapsed": false
   },
   "outputs": [
    {
     "name": "stdout",
     "output_type": "stream",
     "text": [
      "0.950666320853\n"
     ]
    }
   ],
   "source": [
    "from sklearn import cross_validation\n",
    "kf = cross_validation.KFold(len(SpamData), n_folds = 10, shuffle = True)\n",
    "scores = []\n",
    "\n",
    "RF = RandomForestClassifier(n_estimators = 10000,\n",
    "                       max_features = 8, # from prev\n",
    "                       min_samples_leaf = 2,\n",
    "                       oob_score = True)\n",
    "\n",
    "for train_index, test_index in kf:\n",
    "        RF.fit(X.iloc[train_index], y.iloc[train_index])\n",
    "        y_hat_test = RF.predict(X.iloc[test_index]) \n",
    "        scores.append(float(sum(y_hat_test == y.iloc[test_index]))/len(y_hat_test))\n",
    "\n",
    "Tree_CV = np.mean(scores)    \n",
    "\n",
    "print(Tree_CV) "
   ]
  },
  {
   "cell_type": "code",
   "execution_count": 12,
   "metadata": {
    "collapsed": false
   },
   "outputs": [
    {
     "data": {
      "text/plain": [
       "[(0.1313676982183323, 'char_freq_!'),\n",
       " (0.1131304402013074, 'char_freq_$'),\n",
       " (0.08676358363608172, 'word_freq_remove'),\n",
       " (0.070752406119580655, 'word_freq_free'),\n",
       " (0.066936070294168717, 'capital_run_length_average'),\n",
       " (0.061154554046219632, 'word_freq_your'),\n",
       " (0.055153763829174147, 'capital_run_length_longest'),\n",
       " (0.045884953698496093, 'word_freq_hp'),\n",
       " (0.039326058058360251, 'word_freq_money'),\n",
       " (0.037496676931044921, 'capital_run_length_total'),\n",
       " (0.030851350659913398, 'word_freq_our'),\n",
       " (0.024525528786969886, 'word_freq_you'),\n",
       " (0.021766807535564793, 'word_freq_000'),\n",
       " (0.020904962154949237, 'word_freq_george'),\n",
       " (0.018650130607770005, 'word_freq_hpl'),\n",
       " (0.016644799863598625, 'word_freq_edu'),\n",
       " (0.013136954298615061, 'word_freq_1999'),\n",
       " (0.011540484298367787, 'word_freq_internet'),\n",
       " (0.010499804724576253, 'char_freq_('),\n",
       " (0.0094080361756797484, 'word_freq_will'),\n",
       " (0.0091375422742986569, 'word_freq_business'),\n",
       " (0.0087820794664663741, 'word_freq_re'),\n",
       " (0.0082426567335539113, 'word_freq_all'),\n",
       " (0.0073428270255722081, 'word_freq_receive'),\n",
       " (0.0066726393938365278, 'word_freq_email'),\n",
       " (0.0061678305692041985, 'word_freq_mail'),\n",
       " (0.0059036599823537933, 'word_freq_over'),\n",
       " (0.0047022212525313911, 'word_freq_650'),\n",
       " (0.0044949408245335319, 'word_freq_meeting'),\n",
       " (0.0039978521411354181, 'word_freq_address'),\n",
       " (0.0039272568566224636, 'word_freq_credit'),\n",
       " (0.0038293683100245075, 'char_freq_;'),\n",
       " (0.0034541210080013436, 'word_freq_labs'),\n",
       " (0.0031103051946519277, 'word_freq_order'),\n",
       " (0.0027858769024435579, 'word_freq_pm'),\n",
       " (0.0027245090749348725, 'word_freq_people'),\n",
       " (0.0027186544563268657, 'word_freq_technology'),\n",
       " (0.002630911939325865, 'word_freq_85'),\n",
       " (0.0024531233507975453, 'char_freq_#'),\n",
       " (0.0024034208023829208, 'word_freq_make'),\n",
       " (0.0023433136319080312, 'word_freq_font'),\n",
       " (0.002125058812761356, 'char_freq_['),\n",
       " (0.0018501347778592477, 'word_freq_data'),\n",
       " (0.0016725652370729509, 'word_freq_project'),\n",
       " (0.0015268230471723748, 'word_freq_report'),\n",
       " (0.0014497080479328915, 'word_freq_telnet'),\n",
       " (0.0014479825007552795, 'word_freq_lab'),\n",
       " (0.0012056607500107945, 'word_freq_addresses'),\n",
       " (0.0010642198973593239, 'word_freq_original'),\n",
       " (0.00073422408392457921, 'word_freq_direct'),\n",
       " (0.00071514429578267789, 'word_freq_conference'),\n",
       " (0.00056088316470883303, 'word_freq_415'),\n",
       " (0.00052661972677359344, 'word_freq_3d'),\n",
       " (0.00052461582962493437, 'word_freq_857'),\n",
       " (0.00050233060566474508, 'word_freq_cs'),\n",
       " (0.00030937713200482905, 'word_freq_parts'),\n",
       " (6.44767609152882e-05, 'word_freq_table')]"
      ]
     },
     "execution_count": 12,
     "metadata": {},
     "output_type": "execute_result"
    }
   ],
   "source": [
    "sorted(zip(RF.feature_importances_,X.columns.values),reverse=True)"
   ]
  },
  {
   "cell_type": "code",
   "execution_count": 13,
   "metadata": {
    "collapsed": true
   },
   "outputs": [],
   "source": [
    "from sklearn.ensemble import GradientBoostingClassifier"
   ]
  },
  {
   "cell_type": "code",
   "execution_count": 14,
   "metadata": {
    "collapsed": false
   },
   "outputs": [
    {
     "name": "stdout",
     "output_type": "stream",
     "text": [
      "0.230244271045\n"
     ]
    }
   ],
   "source": [
    "boost = GradientBoostingClassifier(learning_rate = 0.01,\n",
    "                                     n_estimators = 8000,\n",
    "                                     max_depth = 2,\n",
    "                                     min_samples_leaf = 5  )\n",
    "scores = cross_val_score(boost, X, y, cv=10, scoring='mean_squared_error')\n",
    "print (np.mean(np.sqrt(-scores)))"
   ]
  },
  {
   "cell_type": "code",
   "execution_count": 15,
   "metadata": {
    "collapsed": true
   },
   "outputs": [],
   "source": [
    "depth = range(1,5)\n",
    "score = []\n",
    "for i in depth:\n",
    "    boost = GradientBoostingClassifier(learning_rate = 0.01,\n",
    "                                 n_estimators = 10000,\n",
    "                                 max_depth = i,\n",
    "                                 min_samples_leaf = 5  )  \n",
    "    scores = cross_val_score(boost, X, y, cv=10, scoring='mean_squared_error')\n",
    "    score.append(np.mean(np.sqrt(-scores)))"
   ]
  },
  {
   "cell_type": "code",
   "execution_count": 16,
   "metadata": {
    "collapsed": false
   },
   "outputs": [
    {
     "data": {
      "text/plain": [
       "<matplotlib.axes._subplots.AxesSubplot at 0x10f844550>"
      ]
     },
     "execution_count": 16,
     "metadata": {},
     "output_type": "execute_result"
    },
    {
     "data": {
      "image/png": "[encoded data removed]",
      "text/plain": [
       "<matplotlib.figure.Figure at 0x10f937050>"
      ]
     },
     "metadata": {},
     "output_type": "display_data"
    }
   ],
   "source": [
    "Depth_Choice_df = pd.DataFrame({'CV_Error': score ,'Max_Depth': depth})\n",
    "Depth_Choice_df.plot(x ='Max_Depth',y = 'CV_Error' )"
   ]
  },
  {
   "cell_type": "code",
   "execution_count": null,
   "metadata": {
    "collapsed": true
   },
   "outputs": [],
   "source": [
    "from sklearn import cross_validation\n",
    "kf = cross_validation.KFold(len(SpamData), n_folds = 10, shuffle = True)\n",
    "scores = []\n",
    "\n",
    "boost = GradientBoostingClassifier(learning_rate = 0.01,\n",
    "                                 n_estimators = 10000,\n",
    "                                 max_depth = 2,\n",
    "                                 min_samples_leaf = 5  )\n",
    "\n",
    "for train_index, test_index in kf:\n",
    "        boost.fit(X.iloc[train_index], y.iloc[train_index])\n",
    "        y_hat_test = boost.predict(X.iloc[test_index]) \n",
    "        scores.append(float(sum(y_hat_test == y.iloc[test_index]))/len(y_hat_test))\n",
    "\n",
    "Boost_CV = np.mean(scores)    \n",
    "\n",
    "print(Boost_CV) "
   ]
  },
  {
   "cell_type": "code",
   "execution_count": null,
   "metadata": {
    "collapsed": true
   },
   "outputs": [],
   "source": [
    "print \"Random Forest cv:\",Tree_CV\n",
    "print \"Random Forest max features: 8\",\n",
    "print \"Gradient Boosting cv:\",Boost_CV\n",
    "print \"Gradient Boosting depth: 2\""
   ]
  },
  {
   "cell_type": "code",
   "execution_count": null,
   "metadata": {
    "collapsed": true
   },
   "outputs": [],
   "source": []
  }
 ],
 "metadata": {
  "kernelspec": {
   "display_name": "Python 2",
   "language": "python",
   "name": "python2"
  },
  "language_info": {
   "codemirror_mode": {
    "name": "ipython",
    "version": 2
   },
   "file_extension": ".py",
   "mimetype": "text/x-python",
   "name": "python",
   "nbconvert_exporter": "python",
   "pygments_lexer": "ipython2",
   "version": "2.7.11"
  }
 },
 "nbformat": 4,
 "nbformat_minor": 0
}
